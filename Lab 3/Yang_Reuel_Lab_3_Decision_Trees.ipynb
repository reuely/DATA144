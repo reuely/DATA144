{
  "nbformat": 4,
  "nbformat_minor": 0,
  "metadata": {
    "kernelspec": {
      "display_name": "Python 3",
      "language": "python",
      "name": "python3"
    },
    "language_info": {
      "codemirror_mode": {
        "name": "ipython",
        "version": 3
      },
      "file_extension": ".py",
      "mimetype": "text/x-python",
      "name": "python",
      "nbconvert_exporter": "python",
      "pygments_lexer": "ipython3",
      "version": "3.6.9"
    },
    "colab": {
      "provenance": []
    }
  },
  "cells": [
    {
      "cell_type": "markdown",
      "metadata": {
        "id": "vAxKKJ84ugjs"
      },
      "source": [
        "# DMA Fall '23\n"
      ]
    },
    {
      "cell_type": "code",
      "metadata": {
        "id": "nFr3Tjz_ugjv"
      },
      "source": [
        "NAME = \"Reuel Yang\"\n",
        "COLLABORATORS = \"\""
      ],
      "execution_count": 190,
      "outputs": []
    },
    {
      "cell_type": "markdown",
      "metadata": {
        "id": "VtQyVZG7ugj0"
      },
      "source": [
        "---"
      ]
    },
    {
      "cell_type": "markdown",
      "metadata": {
        "deletable": false,
        "editable": false,
        "nbgrader": {
          "checksum": "0ec61936c13b80ce01fa0818121a29a9",
          "grade": false,
          "grade_id": "cell-c6a6e713740ff888",
          "locked": true,
          "schema_version": 1,
          "solution": false
        },
        "id": "dSxT_unDugj1"
      },
      "source": [
        "# Lab 3: Decision Trees\n",
        "\n",
        "**Please read the following instructions very carefully**\n",
        "\n",
        "## Working on the assignment / FAQs\n",
        "- **Always use the seed/random_state as *42* wherever applicable** (This is to ensure repeatability in answers, across students and coding environments)\n",
        "- Questions can be either autograded and manually graded.\n",
        "- The type of question and the points they carry are indicated in each question cell\n",
        "- An autograded question has 3 cells\n",
        "     - **Question cell** : Read only cell containing the question\n",
        "     - **Code Cell** : This is where you write the code\n",
        "     - **Grading cell** : This is where the grading occurs, and **you are required not to edit this cell**\n",
        "- Manually graded questions only have the question and code cells. **All manually graded questions are explicitly stated**\n",
        "- To avoid any ambiguity, each question also specifies what *value* must be set. Note that these are dummy values and not the answers\n",
        "- If an autograded question has multiple answers (due to differences in handling NaNs, zeros etc.), all answers will be considered.\n",
        "- Most assignments have bonus questions for extra credit, do try them out!\n",
        "- You can delete the `raise NotImplementedError()` for all questions.\n",
        "- **Submitting the assignment** : Download the '.ipynb' and '.pdf' files from Colab and upload them to bcourses. Do not delete any outputs from cells before submitting.\n",
        "- That's about it. Happy coding!\n",
        "\n",
        "\n",
        "## About the dataset\n",
        "This assignment uses a dataset obtained from the JSE Data Archive that contains biological and self-reported activity traits of a sample of college students at a single university uploaded in 2013. The study associated with these data focused on exploring if a correspondence exists between eye color and other traits. You will be using gender as the target/label in this lab.\n",
        "\n",
        "FEATURE DESCRIPTIONS:\n",
        "- Color (Blue, Brown, Green, Hazel, Other)\n",
        "- Age (in years)\n",
        "- YearinSchool (First, Second, Third, Fourth, Other)\n",
        "- Height (in inches)\n",
        "- Miles (distance from home town of student to Ames, IA)\n",
        "- Brothers (number of brothers)\n",
        "- Sisters (number of sisters)\n",
        "- CompTime (number of hours spent on computer per week)\n",
        "- Exercise (whether the student exercises Yes or No)\n",
        "- ExerTime (number of hours spent exercising per week)\n",
        "- MusicCDs (number of music CDs student owns)\n",
        "- PlayGames (number of hours spent playing games per week)\n",
        "- WatchTV (number of hours spent watching TV per week\n",
        "\n",
        "Background Information on the dataset: http://jse.amstat.org/v21n2/froelich/eyecolorgender.txt"
      ]
    },
    {
      "cell_type": "code",
      "metadata": {
        "deletable": false,
        "editable": false,
        "nbgrader": {
          "checksum": "0fb5897b9d372125635a32c3c25065db",
          "grade": false,
          "grade_id": "cell-0c1c5a5b7543f388",
          "locked": true,
          "schema_version": 1,
          "solution": false
        },
        "id": "xeiDHBc5ugj2",
        "colab": {
          "base_uri": "https://localhost:8080/",
          "height": 258
        },
        "outputId": "9b7f2c63-6025-4df6-e4d2-4e904d2149ae"
      },
      "source": [
        "from collections import Counter, defaultdict\n",
        "from itertools import combinations\n",
        "import pandas as pd\n",
        "import numpy as np\n",
        "import operator\n",
        "import math\n",
        "import itertools\n",
        "from sklearn.feature_extraction import DictVectorizer\n",
        "from sklearn import preprocessing, tree\n",
        "import matplotlib.pyplot as plt\n",
        "\n",
        "\n",
        "!wget -nc http://askoski.berkeley.edu/~zp/eye_color.csv\n",
        "!ls\n",
        "df = pd.read_csv('eye_color.csv')\n",
        "# remove NA's and reset the index\n",
        "df = df.dropna(axis=0, how='any', subset=None, inplace=False)\n",
        "df = df.reset_index(drop=True)\n",
        "\n",
        "df.head()"
      ],
      "execution_count": 191,
      "outputs": [
        {
          "output_type": "stream",
          "name": "stdout",
          "text": [
            "File ‘eye_color.csv’ already there; not retrieving.\n",
            "\n",
            "eye_color.csv  sample_data\n"
          ]
        },
        {
          "output_type": "execute_result",
          "data": {
            "text/plain": [
              "   gender  age    year eyecolor  height  miles  brothers  sisters  \\\n",
              "0  female   18   first    hazel    68.0  195.0         0        1   \n",
              "1    male   20   third    brown    70.0  120.0         3        0   \n",
              "2  female   18   first    green    67.0  200.0         0        1   \n",
              "3    male   23  fourth    hazel    74.0  140.0         1        1   \n",
              "4  female   19  second     blue    62.0   60.0         0        1   \n",
              "\n",
              "   computertime exercise  exercisehours  musiccds  playgames  watchtv  \n",
              "0          20.0      Yes            3.0      75.0        6.0     18.0  \n",
              "1          24.0       No            0.0      50.0        0.0      3.0  \n",
              "2          35.0      Yes            3.0      53.0        8.0      1.0  \n",
              "3           5.0      Yes           25.0      50.0        0.0      7.0  \n",
              "4           5.0      Yes            4.0      30.0        2.0      5.0  "
            ],
            "text/html": [
              "\n",
              "  <div id=\"df-720a77d3-a770-4a81-b577-d11613848194\" class=\"colab-df-container\">\n",
              "    <div>\n",
              "<style scoped>\n",
              "    .dataframe tbody tr th:only-of-type {\n",
              "        vertical-align: middle;\n",
              "    }\n",
              "\n",
              "    .dataframe tbody tr th {\n",
              "        vertical-align: top;\n",
              "    }\n",
              "\n",
              "    .dataframe thead th {\n",
              "        text-align: right;\n",
              "    }\n",
              "</style>\n",
              "<table border=\"1\" class=\"dataframe\">\n",
              "  <thead>\n",
              "    <tr style=\"text-align: right;\">\n",
              "      <th></th>\n",
              "      <th>gender</th>\n",
              "      <th>age</th>\n",
              "      <th>year</th>\n",
              "      <th>eyecolor</th>\n",
              "      <th>height</th>\n",
              "      <th>miles</th>\n",
              "      <th>brothers</th>\n",
              "      <th>sisters</th>\n",
              "      <th>computertime</th>\n",
              "      <th>exercise</th>\n",
              "      <th>exercisehours</th>\n",
              "      <th>musiccds</th>\n",
              "      <th>playgames</th>\n",
              "      <th>watchtv</th>\n",
              "    </tr>\n",
              "  </thead>\n",
              "  <tbody>\n",
              "    <tr>\n",
              "      <th>0</th>\n",
              "      <td>female</td>\n",
              "      <td>18</td>\n",
              "      <td>first</td>\n",
              "      <td>hazel</td>\n",
              "      <td>68.0</td>\n",
              "      <td>195.0</td>\n",
              "      <td>0</td>\n",
              "      <td>1</td>\n",
              "      <td>20.0</td>\n",
              "      <td>Yes</td>\n",
              "      <td>3.0</td>\n",
              "      <td>75.0</td>\n",
              "      <td>6.0</td>\n",
              "      <td>18.0</td>\n",
              "    </tr>\n",
              "    <tr>\n",
              "      <th>1</th>\n",
              "      <td>male</td>\n",
              "      <td>20</td>\n",
              "      <td>third</td>\n",
              "      <td>brown</td>\n",
              "      <td>70.0</td>\n",
              "      <td>120.0</td>\n",
              "      <td>3</td>\n",
              "      <td>0</td>\n",
              "      <td>24.0</td>\n",
              "      <td>No</td>\n",
              "      <td>0.0</td>\n",
              "      <td>50.0</td>\n",
              "      <td>0.0</td>\n",
              "      <td>3.0</td>\n",
              "    </tr>\n",
              "    <tr>\n",
              "      <th>2</th>\n",
              "      <td>female</td>\n",
              "      <td>18</td>\n",
              "      <td>first</td>\n",
              "      <td>green</td>\n",
              "      <td>67.0</td>\n",
              "      <td>200.0</td>\n",
              "      <td>0</td>\n",
              "      <td>1</td>\n",
              "      <td>35.0</td>\n",
              "      <td>Yes</td>\n",
              "      <td>3.0</td>\n",
              "      <td>53.0</td>\n",
              "      <td>8.0</td>\n",
              "      <td>1.0</td>\n",
              "    </tr>\n",
              "    <tr>\n",
              "      <th>3</th>\n",
              "      <td>male</td>\n",
              "      <td>23</td>\n",
              "      <td>fourth</td>\n",
              "      <td>hazel</td>\n",
              "      <td>74.0</td>\n",
              "      <td>140.0</td>\n",
              "      <td>1</td>\n",
              "      <td>1</td>\n",
              "      <td>5.0</td>\n",
              "      <td>Yes</td>\n",
              "      <td>25.0</td>\n",
              "      <td>50.0</td>\n",
              "      <td>0.0</td>\n",
              "      <td>7.0</td>\n",
              "    </tr>\n",
              "    <tr>\n",
              "      <th>4</th>\n",
              "      <td>female</td>\n",
              "      <td>19</td>\n",
              "      <td>second</td>\n",
              "      <td>blue</td>\n",
              "      <td>62.0</td>\n",
              "      <td>60.0</td>\n",
              "      <td>0</td>\n",
              "      <td>1</td>\n",
              "      <td>5.0</td>\n",
              "      <td>Yes</td>\n",
              "      <td>4.0</td>\n",
              "      <td>30.0</td>\n",
              "      <td>2.0</td>\n",
              "      <td>5.0</td>\n",
              "    </tr>\n",
              "  </tbody>\n",
              "</table>\n",
              "</div>\n",
              "    <div class=\"colab-df-buttons\">\n",
              "\n",
              "  <div class=\"colab-df-container\">\n",
              "    <button class=\"colab-df-convert\" onclick=\"convertToInteractive('df-720a77d3-a770-4a81-b577-d11613848194')\"\n",
              "            title=\"Convert this dataframe to an interactive table.\"\n",
              "            style=\"display:none;\">\n",
              "\n",
              "  <svg xmlns=\"http://www.w3.org/2000/svg\" height=\"24px\" viewBox=\"0 -960 960 960\">\n",
              "    <path d=\"M120-120v-720h720v720H120Zm60-500h600v-160H180v160Zm220 220h160v-160H400v160Zm0 220h160v-160H400v160ZM180-400h160v-160H180v160Zm440 0h160v-160H620v160ZM180-180h160v-160H180v160Zm440 0h160v-160H620v160Z\"/>\n",
              "  </svg>\n",
              "    </button>\n",
              "\n",
              "  <style>\n",
              "    .colab-df-container {\n",
              "      display:flex;\n",
              "      gap: 12px;\n",
              "    }\n",
              "\n",
              "    .colab-df-convert {\n",
              "      background-color: #E8F0FE;\n",
              "      border: none;\n",
              "      border-radius: 50%;\n",
              "      cursor: pointer;\n",
              "      display: none;\n",
              "      fill: #1967D2;\n",
              "      height: 32px;\n",
              "      padding: 0 0 0 0;\n",
              "      width: 32px;\n",
              "    }\n",
              "\n",
              "    .colab-df-convert:hover {\n",
              "      background-color: #E2EBFA;\n",
              "      box-shadow: 0px 1px 2px rgba(60, 64, 67, 0.3), 0px 1px 3px 1px rgba(60, 64, 67, 0.15);\n",
              "      fill: #174EA6;\n",
              "    }\n",
              "\n",
              "    .colab-df-buttons div {\n",
              "      margin-bottom: 4px;\n",
              "    }\n",
              "\n",
              "    [theme=dark] .colab-df-convert {\n",
              "      background-color: #3B4455;\n",
              "      fill: #D2E3FC;\n",
              "    }\n",
              "\n",
              "    [theme=dark] .colab-df-convert:hover {\n",
              "      background-color: #434B5C;\n",
              "      box-shadow: 0px 1px 3px 1px rgba(0, 0, 0, 0.15);\n",
              "      filter: drop-shadow(0px 1px 2px rgba(0, 0, 0, 0.3));\n",
              "      fill: #FFFFFF;\n",
              "    }\n",
              "  </style>\n",
              "\n",
              "    <script>\n",
              "      const buttonEl =\n",
              "        document.querySelector('#df-720a77d3-a770-4a81-b577-d11613848194 button.colab-df-convert');\n",
              "      buttonEl.style.display =\n",
              "        google.colab.kernel.accessAllowed ? 'block' : 'none';\n",
              "\n",
              "      async function convertToInteractive(key) {\n",
              "        const element = document.querySelector('#df-720a77d3-a770-4a81-b577-d11613848194');\n",
              "        const dataTable =\n",
              "          await google.colab.kernel.invokeFunction('convertToInteractive',\n",
              "                                                    [key], {});\n",
              "        if (!dataTable) return;\n",
              "\n",
              "        const docLinkHtml = 'Like what you see? Visit the ' +\n",
              "          '<a target=\"_blank\" href=https://colab.research.google.com/notebooks/data_table.ipynb>data table notebook</a>'\n",
              "          + ' to learn more about interactive tables.';\n",
              "        element.innerHTML = '';\n",
              "        dataTable['output_type'] = 'display_data';\n",
              "        await google.colab.output.renderOutput(dataTable, element);\n",
              "        const docLink = document.createElement('div');\n",
              "        docLink.innerHTML = docLinkHtml;\n",
              "        element.appendChild(docLink);\n",
              "      }\n",
              "    </script>\n",
              "  </div>\n",
              "\n",
              "\n",
              "<div id=\"df-3e038452-d9fc-44e5-a91e-337d4acb1576\">\n",
              "  <button class=\"colab-df-quickchart\" onclick=\"quickchart('df-3e038452-d9fc-44e5-a91e-337d4acb1576')\"\n",
              "            title=\"Suggest charts.\"\n",
              "            style=\"display:none;\">\n",
              "\n",
              "<svg xmlns=\"http://www.w3.org/2000/svg\" height=\"24px\"viewBox=\"0 0 24 24\"\n",
              "     width=\"24px\">\n",
              "    <g>\n",
              "        <path d=\"M19 3H5c-1.1 0-2 .9-2 2v14c0 1.1.9 2 2 2h14c1.1 0 2-.9 2-2V5c0-1.1-.9-2-2-2zM9 17H7v-7h2v7zm4 0h-2V7h2v10zm4 0h-2v-4h2v4z\"/>\n",
              "    </g>\n",
              "</svg>\n",
              "  </button>\n",
              "\n",
              "<style>\n",
              "  .colab-df-quickchart {\n",
              "      --bg-color: #E8F0FE;\n",
              "      --fill-color: #1967D2;\n",
              "      --hover-bg-color: #E2EBFA;\n",
              "      --hover-fill-color: #174EA6;\n",
              "      --disabled-fill-color: #AAA;\n",
              "      --disabled-bg-color: #DDD;\n",
              "  }\n",
              "\n",
              "  [theme=dark] .colab-df-quickchart {\n",
              "      --bg-color: #3B4455;\n",
              "      --fill-color: #D2E3FC;\n",
              "      --hover-bg-color: #434B5C;\n",
              "      --hover-fill-color: #FFFFFF;\n",
              "      --disabled-bg-color: #3B4455;\n",
              "      --disabled-fill-color: #666;\n",
              "  }\n",
              "\n",
              "  .colab-df-quickchart {\n",
              "    background-color: var(--bg-color);\n",
              "    border: none;\n",
              "    border-radius: 50%;\n",
              "    cursor: pointer;\n",
              "    display: none;\n",
              "    fill: var(--fill-color);\n",
              "    height: 32px;\n",
              "    padding: 0;\n",
              "    width: 32px;\n",
              "  }\n",
              "\n",
              "  .colab-df-quickchart:hover {\n",
              "    background-color: var(--hover-bg-color);\n",
              "    box-shadow: 0 1px 2px rgba(60, 64, 67, 0.3), 0 1px 3px 1px rgba(60, 64, 67, 0.15);\n",
              "    fill: var(--button-hover-fill-color);\n",
              "  }\n",
              "\n",
              "  .colab-df-quickchart-complete:disabled,\n",
              "  .colab-df-quickchart-complete:disabled:hover {\n",
              "    background-color: var(--disabled-bg-color);\n",
              "    fill: var(--disabled-fill-color);\n",
              "    box-shadow: none;\n",
              "  }\n",
              "\n",
              "  .colab-df-spinner {\n",
              "    border: 2px solid var(--fill-color);\n",
              "    border-color: transparent;\n",
              "    border-bottom-color: var(--fill-color);\n",
              "    animation:\n",
              "      spin 1s steps(1) infinite;\n",
              "  }\n",
              "\n",
              "  @keyframes spin {\n",
              "    0% {\n",
              "      border-color: transparent;\n",
              "      border-bottom-color: var(--fill-color);\n",
              "      border-left-color: var(--fill-color);\n",
              "    }\n",
              "    20% {\n",
              "      border-color: transparent;\n",
              "      border-left-color: var(--fill-color);\n",
              "      border-top-color: var(--fill-color);\n",
              "    }\n",
              "    30% {\n",
              "      border-color: transparent;\n",
              "      border-left-color: var(--fill-color);\n",
              "      border-top-color: var(--fill-color);\n",
              "      border-right-color: var(--fill-color);\n",
              "    }\n",
              "    40% {\n",
              "      border-color: transparent;\n",
              "      border-right-color: var(--fill-color);\n",
              "      border-top-color: var(--fill-color);\n",
              "    }\n",
              "    60% {\n",
              "      border-color: transparent;\n",
              "      border-right-color: var(--fill-color);\n",
              "    }\n",
              "    80% {\n",
              "      border-color: transparent;\n",
              "      border-right-color: var(--fill-color);\n",
              "      border-bottom-color: var(--fill-color);\n",
              "    }\n",
              "    90% {\n",
              "      border-color: transparent;\n",
              "      border-bottom-color: var(--fill-color);\n",
              "    }\n",
              "  }\n",
              "</style>\n",
              "\n",
              "  <script>\n",
              "    async function quickchart(key) {\n",
              "      const quickchartButtonEl =\n",
              "        document.querySelector('#' + key + ' button');\n",
              "      quickchartButtonEl.disabled = true;  // To prevent multiple clicks.\n",
              "      quickchartButtonEl.classList.add('colab-df-spinner');\n",
              "      try {\n",
              "        const charts = await google.colab.kernel.invokeFunction(\n",
              "            'suggestCharts', [key], {});\n",
              "      } catch (error) {\n",
              "        console.error('Error during call to suggestCharts:', error);\n",
              "      }\n",
              "      quickchartButtonEl.classList.remove('colab-df-spinner');\n",
              "      quickchartButtonEl.classList.add('colab-df-quickchart-complete');\n",
              "    }\n",
              "    (() => {\n",
              "      let quickchartButtonEl =\n",
              "        document.querySelector('#df-3e038452-d9fc-44e5-a91e-337d4acb1576 button');\n",
              "      quickchartButtonEl.style.display =\n",
              "        google.colab.kernel.accessAllowed ? 'block' : 'none';\n",
              "    })();\n",
              "  </script>\n",
              "</div>\n",
              "    </div>\n",
              "  </div>\n"
            ]
          },
          "metadata": {},
          "execution_count": 191
        }
      ]
    },
    {
      "cell_type": "markdown",
      "metadata": {
        "deletable": false,
        "editable": false,
        "nbgrader": {
          "checksum": "f27367e7e9ea794fdff16caaf9834f90",
          "grade": false,
          "grade_id": "cell-80cb77583712aa18",
          "locked": true,
          "schema_version": 1,
          "solution": false
        },
        "id": "S2_bd_sZugj_"
      },
      "source": [
        "---\n",
        "**Question 1 (0.5 points, autograded)**: How many more females are in the dataset compared to males?"
      ]
    },
    {
      "cell_type": "code",
      "metadata": {
        "deletable": false,
        "nbgrader": {
          "checksum": "7bae96e9bc3cf6154faf15c8c953a12d",
          "grade": false,
          "grade_id": "cell-30e88bd16d0691ae",
          "locked": false,
          "schema_version": 1,
          "solution": true
        },
        "id": "Qq43exlvugkA",
        "colab": {
          "base_uri": "https://localhost:8080/",
          "height": 0
        },
        "outputId": "8a363d09-2570-44d7-e1c6-5c90a3bd2f8a"
      },
      "source": [
        "# YOUR CODE HERE\n",
        "new_df = df.copy()\n",
        "gender_counts = new_df['gender'].value_counts()\n",
        "ans = gender_counts['female'] - gender_counts['male']\n",
        "print(ans)\n",
        "#raise NotImplementedError()"
      ],
      "execution_count": 192,
      "outputs": [
        {
          "output_type": "stream",
          "name": "stdout",
          "text": [
            "168\n"
          ]
        }
      ]
    },
    {
      "cell_type": "code",
      "metadata": {
        "deletable": false,
        "nbgrader": {
          "checksum": "4b015ffcf2248033a4c736e194051ce0",
          "grade": false,
          "grade_id": "cell-b6afcdf2e16edeaf",
          "locked": false,
          "schema_version": 1,
          "solution": true
        },
        "id": "qowIpB1MugkL"
      },
      "source": [
        "# The value set in the variables must be integers\n",
        "female_diff = 168 # Replace 0 with the actual value\n",
        "\n",
        "# YOUR CODE HERE"
      ],
      "execution_count": 193,
      "outputs": []
    },
    {
      "cell_type": "code",
      "metadata": {
        "deletable": false,
        "editable": false,
        "nbgrader": {
          "checksum": "b5f6c5a26715775443afa42a101640d3",
          "grade": true,
          "grade_id": "cell-148801df79f2a9ad",
          "locked": true,
          "points": 0.5,
          "schema_version": 1,
          "solution": false
        },
        "id": "rxROmUKRugkQ",
        "colab": {
          "base_uri": "https://localhost:8080/",
          "height": 0
        },
        "outputId": "f747f037-b815-4252-a3c9-2cc6ed52c019"
      },
      "source": [
        "# This is an autograded cell, do not edit\n",
        "print(female_diff)"
      ],
      "execution_count": 194,
      "outputs": [
        {
          "output_type": "stream",
          "name": "stdout",
          "text": [
            "168\n"
          ]
        }
      ]
    },
    {
      "cell_type": "markdown",
      "metadata": {
        "deletable": false,
        "editable": false,
        "nbgrader": {
          "checksum": "46a9256f2edd92e7d4ab52309a6b4c57",
          "grade": false,
          "grade_id": "cell-c087e3cd6c8885e2",
          "locked": true,
          "schema_version": 1,
          "solution": false
        },
        "id": "LE7EGFnbugkU"
      },
      "source": [
        "---\n",
        "**Question 2 (0.5 points, autograded)**: What is the Gini Index of this dataset, using males and females as the target classes?"
      ]
    },
    {
      "cell_type": "code",
      "metadata": {
        "deletable": false,
        "nbgrader": {
          "checksum": "099940e4f38498b7848e39cf16effa72",
          "grade": false,
          "grade_id": "cell-77e48e0f5499c4dc",
          "locked": false,
          "schema_version": 1,
          "solution": true
        },
        "id": "L5-IeBVlugkV",
        "colab": {
          "base_uri": "https://localhost:8080/",
          "height": 0
        },
        "outputId": "38793f83-c4bc-43ec-c4ce-7677ea14244b"
      },
      "source": [
        "# YOUR CODE HERE\n",
        "prob_female = new_df['gender'].value_counts()['female']/len(new_df['gender'])\n",
        "prob_male = new_df['gender'].value_counts()['male']/len(new_df['gender'])\n",
        "print(prob_female, prob_male)\n",
        "gini = 1 - (prob_female**2 + prob_male**2)\n",
        "print(gini)\n",
        "#raise NotImplementedError()"
      ],
      "execution_count": 195,
      "outputs": [
        {
          "output_type": "stream",
          "name": "stdout",
          "text": [
            "0.5422535211267606 0.45774647887323944\n",
            "0.4964292799047807\n"
          ]
        }
      ]
    },
    {
      "cell_type": "code",
      "metadata": {
        "deletable": false,
        "nbgrader": {
          "checksum": "9ad8fad77a751f201648404551610cd0",
          "grade": false,
          "grade_id": "cell-48020b6f76b01df8",
          "locked": false,
          "schema_version": 1,
          "solution": true
        },
        "id": "qWJVFWqqugkZ"
      },
      "source": [
        "# The value set in the variable must be float\n",
        "gini_index = gini # Replace 0 with the actual value / formula\n",
        "\n",
        "# YOUR CODE HERE"
      ],
      "execution_count": 196,
      "outputs": []
    },
    {
      "cell_type": "code",
      "metadata": {
        "deletable": false,
        "editable": false,
        "nbgrader": {
          "checksum": "9e64fcb8ce6b4b69fad066fea2ced65a",
          "grade": true,
          "grade_id": "cell-7ae5a16e0caf13e6",
          "locked": true,
          "points": 0.5,
          "schema_version": 1,
          "solution": false
        },
        "id": "N6nvXmTHugke",
        "colab": {
          "base_uri": "https://localhost:8080/",
          "height": 0
        },
        "outputId": "88f1d937-80d5-4d97-d254-93773b04335b"
      },
      "source": [
        "# This is an autograded cell, do not edit\n",
        "print(gini_index)"
      ],
      "execution_count": 197,
      "outputs": [
        {
          "output_type": "stream",
          "name": "stdout",
          "text": [
            "0.4964292799047807\n"
          ]
        }
      ]
    },
    {
      "cell_type": "markdown",
      "metadata": {
        "deletable": false,
        "editable": false,
        "nbgrader": {
          "checksum": "df88f99709afdfc9d92e17de990723e4",
          "grade": false,
          "grade_id": "cell-429dd5b9870bc4f0",
          "locked": true,
          "schema_version": 1,
          "solution": false
        },
        "id": "p4XzX2Jjugkj"
      },
      "source": [
        "---\n",
        "## Best Split of a numeric feature\n",
        "**Question 3 (1.5 points, autograded)**: What is the best split point of the 'height' feature? (Still using males and females as the target classes, assuming a binary split)\n",
        "\n",
        "Recall that, to calculate the best split of this numeric field, you'll need to order your data by **unique** heights, then consider the midpoint between each pair of consecutive heights as a potential split point, then calculate the Gini Index for that partitioning. You'll want to keep track of the best split point and its Gini Index (remember that you are trying to **minimize** the Gini Index)."
      ]
    },
    {
      "cell_type": "code",
      "metadata": {
        "deletable": false,
        "nbgrader": {
          "checksum": "39f67d746e08f968310e08a1e6302254",
          "grade": false,
          "grade_id": "cell-7e178474fbad8e3a",
          "locked": false,
          "schema_version": 1,
          "solution": true
        },
        "id": "C922WXCougkm",
        "colab": {
          "base_uri": "https://localhost:8080/",
          "height": 0
        },
        "outputId": "029c2827-9cbe-459a-97bb-006692220299"
      },
      "source": [
        "# YOUR CODE HERE\n",
        "q3_df = df.copy()\n",
        "\n",
        "sorted_df = q3_df.sort_values(by='height')\n",
        "unique_heights = sorted_df['height'].unique()\n",
        "best_split = None\n",
        "best_gini_index = float('inf')\n",
        "for i in range(1, len(unique_heights)):\n",
        "    midpoint = (unique_heights[i - 1] + unique_heights[i]) / 2\n",
        "    D1 = sorted_df[sorted_df['height'] <= midpoint]\n",
        "    D2 = sorted_df[sorted_df['height'] > midpoint]\n",
        "    gini_lower = 1 - ((len(D1[D1['gender'] == 'female']) / len(D1)) ** 2 + (len(D1[D1['gender'] == 'male']) / len(D1)) ** 2)\n",
        "    gini_upper = 1 - ((len(D2[D2['gender'] == 'female']) / len(D2)) ** 2 + (len(D2[D2['gender'] == 'male']) / len(D2)) ** 2)\n",
        "    weighted_gini_index = (len(D1) / len(sorted_df)) * gini_lower + (len(D2) / len(sorted_df)) * gini_upper\n",
        "    if weighted_gini_index < best_gini_index:\n",
        "        best_split = midpoint\n",
        "        best_gini_index = weighted_gini_index\n",
        "print(best_split, best_gini_index)"
      ],
      "execution_count": 198,
      "outputs": [
        {
          "output_type": "stream",
          "name": "stdout",
          "text": [
            "68.5 0.2655288120702919\n"
          ]
        }
      ]
    },
    {
      "cell_type": "code",
      "metadata": {
        "deletable": false,
        "nbgrader": {
          "checksum": "6f2ddee90f539fef475c3cf581869a7f",
          "grade": false,
          "grade_id": "cell-fdcb9f54f35480c4",
          "locked": false,
          "schema_version": 1,
          "solution": true
        },
        "id": "RiMp3KiOugkv"
      },
      "source": [
        "#The value set in the variable must be float\n",
        "best_split_point = best_split # Replace 0 with the actual value\n",
        "\n",
        "# YOUR CODE HERE"
      ],
      "execution_count": 199,
      "outputs": []
    },
    {
      "cell_type": "code",
      "metadata": {
        "deletable": false,
        "editable": false,
        "nbgrader": {
          "checksum": "2b3dd2ed02ddb601bc36a52f45defd92",
          "grade": true,
          "grade_id": "cell-323f912bd5314e78",
          "locked": true,
          "points": 1.5,
          "schema_version": 1,
          "solution": false
        },
        "id": "61AwBlXhugk0",
        "colab": {
          "base_uri": "https://localhost:8080/",
          "height": 0
        },
        "outputId": "51974002-ef86-4771-c3c6-06a46567af87"
      },
      "source": [
        "# This is an autograded cell, do not edit\n",
        "print(best_split_point)"
      ],
      "execution_count": 200,
      "outputs": [
        {
          "output_type": "stream",
          "name": "stdout",
          "text": [
            "68.5\n"
          ]
        }
      ]
    },
    {
      "cell_type": "markdown",
      "metadata": {
        "deletable": false,
        "editable": false,
        "nbgrader": {
          "checksum": "166316144c3f9c6f82d2963c96c19ba4",
          "grade": false,
          "grade_id": "cell-aa468156b67c5ab6",
          "locked": true,
          "schema_version": 1,
          "solution": false
        },
        "id": "AawaoNa9ugk2"
      },
      "source": [
        "---\n",
        "**Question 4 (0.5 points, autograded)**: What is the Gini index of the best split point of the 'height' feature? (Still using males and females as the target classes, assuming a binary split)\n"
      ]
    },
    {
      "cell_type": "code",
      "metadata": {
        "deletable": false,
        "nbgrader": {
          "checksum": "ee6e07cc1c224dbd0852a4105190e3f2",
          "grade": false,
          "grade_id": "cell-11b6c20fa6270892",
          "locked": false,
          "schema_version": 1,
          "solution": true
        },
        "id": "J_8GTuoSugk3"
      },
      "source": [
        "# YOUR CODE HERE"
      ],
      "execution_count": 201,
      "outputs": []
    },
    {
      "cell_type": "code",
      "metadata": {
        "deletable": false,
        "nbgrader": {
          "checksum": "4264def559ba5fe2e77d3688f04d9cfd",
          "grade": false,
          "grade_id": "cell-bef6191446f0b09e",
          "locked": false,
          "schema_version": 1,
          "solution": true
        },
        "id": "nnY4qayGugk8"
      },
      "source": [
        "# The value set in the variable must be float\n",
        "gini_of_best_split_point = best_gini_index # Replace 0 with the actual value\n",
        "\n",
        "# YOUR CODE HERE"
      ],
      "execution_count": 202,
      "outputs": []
    },
    {
      "cell_type": "code",
      "metadata": {
        "deletable": false,
        "editable": false,
        "nbgrader": {
          "checksum": "0a0c63234a8f7fe57d8a19b011609fda",
          "grade": true,
          "grade_id": "cell-a483f7c52ce46218",
          "locked": true,
          "points": 0.5,
          "schema_version": 1,
          "solution": false
        },
        "id": "qtHNnrD8ugk_",
        "colab": {
          "base_uri": "https://localhost:8080/",
          "height": 0
        },
        "outputId": "a13fe38f-8fbe-4282-bb55-f19fffb37091"
      },
      "source": [
        "# This is an autograded cell, do not edit\n",
        "print(gini_of_best_split_point)"
      ],
      "execution_count": 203,
      "outputs": [
        {
          "output_type": "stream",
          "name": "stdout",
          "text": [
            "0.2655288120702919\n"
          ]
        }
      ]
    },
    {
      "cell_type": "markdown",
      "metadata": {
        "deletable": false,
        "editable": false,
        "nbgrader": {
          "checksum": "3e4a285a07159ff52a5f4ffe396f74d6",
          "grade": false,
          "grade_id": "cell-3d05b5c3faef353d",
          "locked": true,
          "schema_version": 1,
          "solution": false
        },
        "id": "TILEzh_WuglE"
      },
      "source": [
        "---\n",
        "**Question 5 (0.5 points, autograded)**: How much does this partitioning reduce the Gini Index over the Gini index of the overall dataset?"
      ]
    },
    {
      "cell_type": "code",
      "metadata": {
        "deletable": false,
        "nbgrader": {
          "checksum": "58f9b4479c238a525df6aa057e6eaa3b",
          "grade": false,
          "grade_id": "cell-1ab03a8159601e29",
          "locked": false,
          "schema_version": 1,
          "solution": true
        },
        "id": "qOCZ13AAuglG"
      },
      "source": [
        "# YOUR CODE HERE"
      ],
      "execution_count": 204,
      "outputs": []
    },
    {
      "cell_type": "code",
      "metadata": {
        "deletable": false,
        "nbgrader": {
          "checksum": "0d222b71a5f4dd420fd140eeefb846d4",
          "grade": false,
          "grade_id": "cell-fbcebc71fc8bc842",
          "locked": false,
          "schema_version": 1,
          "solution": true
        },
        "id": "Z_jBrzFLuglN"
      },
      "source": [
        "# The value set in the variable must be float\n",
        "gini_difference = gini_index - gini_of_best_split_point # Replace 0 with the actual value\n",
        "\n",
        "# YOUR CODE HERE"
      ],
      "execution_count": 205,
      "outputs": []
    },
    {
      "cell_type": "code",
      "metadata": {
        "deletable": false,
        "editable": false,
        "nbgrader": {
          "checksum": "86c116a776736ca45f3b04f15f237623",
          "grade": true,
          "grade_id": "cell-f24e621d36c96976",
          "locked": true,
          "points": 0.5,
          "schema_version": 1,
          "solution": false
        },
        "id": "XrLS99QPuglQ",
        "colab": {
          "base_uri": "https://localhost:8080/",
          "height": 0
        },
        "outputId": "31892803-7aef-4c8e-dc32-8b838adbcc23"
      },
      "source": [
        "# This is an autograded cell, do not edit\n",
        "print(gini_difference)"
      ],
      "execution_count": 206,
      "outputs": [
        {
          "output_type": "stream",
          "name": "stdout",
          "text": [
            "0.2309004678344888\n"
          ]
        }
      ]
    },
    {
      "cell_type": "markdown",
      "metadata": {
        "deletable": false,
        "editable": false,
        "nbgrader": {
          "checksum": "a3c0d5d5951cda89ddc95d0edd3c006d",
          "grade": false,
          "grade_id": "cell-68fc7f06fbb3bd5c",
          "locked": true,
          "schema_version": 1,
          "solution": false
        },
        "id": "4vI5aG7GuglS"
      },
      "source": [
        "---\n",
        "**Question 6 (0.5 points, autograded)**: How many 'female' and 'male' rows are shorter than the best height split point?"
      ]
    },
    {
      "cell_type": "code",
      "metadata": {
        "deletable": false,
        "nbgrader": {
          "checksum": "3d82c210dd5b8b938066fc8b9a0e70e8",
          "grade": false,
          "grade_id": "cell-cbfbed1feed2c2c6",
          "locked": false,
          "schema_version": 1,
          "solution": true
        },
        "id": "Zmt1qgE5uglT"
      },
      "source": [
        "# YOUR CODE HERE\n",
        "q6_df = df.copy()\n",
        "female_below = q6_df[(q6_df['gender'] == 'female') & (q6_df['height'] < best_split_point)]\n",
        "male_below = q6_df[(q6_df['gender'] == 'male') & (q6_df['height'] < best_split_point)]"
      ],
      "execution_count": 207,
      "outputs": []
    },
    {
      "cell_type": "code",
      "metadata": {
        "deletable": false,
        "nbgrader": {
          "checksum": "71225beec49fc733245cd37612d3712e",
          "grade": false,
          "grade_id": "cell-fed4f19f21abcc31",
          "locked": false,
          "schema_version": 1,
          "solution": true
        },
        "id": "xAB5GTeauglX"
      },
      "source": [
        "# The value set in the variable must be integer\n",
        "female_rows_below = len(female_below) # Replace 0 with the actual value\n",
        "male_rows_below = len(male_below) # Replace 0 with the actual value\n",
        "\n",
        "# YOUR CODE HERE"
      ],
      "execution_count": 208,
      "outputs": []
    },
    {
      "cell_type": "code",
      "metadata": {
        "deletable": false,
        "editable": false,
        "nbgrader": {
          "checksum": "12c1b2345e628bec41463cf88a60aeb0",
          "grade": true,
          "grade_id": "cell-8129604534bfec74",
          "locked": true,
          "points": 0.5,
          "schema_version": 1,
          "solution": false
        },
        "id": "MiBZAc9vugld",
        "colab": {
          "base_uri": "https://localhost:8080/",
          "height": 0
        },
        "outputId": "7b5b9c40-3b86-41da-fe62-a88ce366ba6a"
      },
      "source": [
        "# This is an autograded cell, do not edit\n",
        "print(female_rows_below, male_rows_below)"
      ],
      "execution_count": 209,
      "outputs": [
        {
          "output_type": "stream",
          "name": "stdout",
          "text": [
            "905 142\n"
          ]
        }
      ]
    },
    {
      "cell_type": "markdown",
      "metadata": {
        "deletable": false,
        "editable": false,
        "nbgrader": {
          "checksum": "9fa8403981b6352444437901acb0d45c",
          "grade": false,
          "grade_id": "cell-95c30c8534082764",
          "locked": true,
          "schema_version": 1,
          "solution": false
        },
        "id": "GmBNDTILuglg"
      },
      "source": [
        "---\n",
        "**Question 7 (0.5 points, autograded)**: How many 'female' and 'male' rows are taller than the best height split point?"
      ]
    },
    {
      "cell_type": "code",
      "metadata": {
        "deletable": false,
        "nbgrader": {
          "checksum": "9754f9fb331109f6c4b2b834211f0021",
          "grade": false,
          "grade_id": "cell-8b16da8f6a50682f",
          "locked": false,
          "schema_version": 1,
          "solution": true
        },
        "id": "dHJLmbwvuglh"
      },
      "source": [
        "# YOUR CODE HERE\n",
        "q7_df = df.copy()\n",
        "female_above = q7_df[(q7_df['gender'] == 'female') & (q7_df['height'] > best_split_point)]\n",
        "male_above = q7_df[(q7_df['gender'] == 'male') & (q7_df['height'] > best_split_point)]"
      ],
      "execution_count": 210,
      "outputs": []
    },
    {
      "cell_type": "code",
      "metadata": {
        "deletable": false,
        "nbgrader": {
          "checksum": "e2697ca1d9a6feec241ff33460d57600",
          "grade": false,
          "grade_id": "cell-2314033286696a75",
          "locked": false,
          "schema_version": 1,
          "solution": true
        },
        "id": "46G-hbpnugll"
      },
      "source": [
        "#The value set in the variable must be integer\n",
        "female_rows_above = len(female_above) # Replace 0 with the actual value\n",
        "male_rows_above = len(male_above) # Replace 0 with the actual value\n",
        "# YOUR CODE HERE"
      ],
      "execution_count": 211,
      "outputs": []
    },
    {
      "cell_type": "code",
      "metadata": {
        "deletable": false,
        "editable": false,
        "nbgrader": {
          "checksum": "b2c8fbc90d6eb0473ef27e1855483904",
          "grade": true,
          "grade_id": "cell-da98dfdb73b8de96",
          "locked": true,
          "points": 0.5,
          "schema_version": 1,
          "solution": false
        },
        "id": "n2seT5oauglo",
        "colab": {
          "base_uri": "https://localhost:8080/",
          "height": 0
        },
        "outputId": "0ee1806d-59eb-4728-8732-979063d0303c"
      },
      "source": [
        "# This is an autograded cell, do not edit\n",
        "print(female_rows_above, male_rows_above)"
      ],
      "execution_count": 212,
      "outputs": [
        {
          "output_type": "stream",
          "name": "stdout",
          "text": [
            "173 768\n"
          ]
        }
      ]
    },
    {
      "cell_type": "markdown",
      "metadata": {
        "deletable": false,
        "editable": false,
        "nbgrader": {
          "checksum": "1600c335755c3857d742205f32718e81",
          "grade": false,
          "grade_id": "cell-f0f3bf7078e30689",
          "locked": true,
          "schema_version": 1,
          "solution": false
        },
        "id": "waG6P9fyuglt"
      },
      "source": [
        "---\n",
        "## Best Split of a Categorial Variable\n",
        "\n",
        "**Question 8 (0.5 points, autograded)**: How many possible splits are there of the eyecolor feature? (Assuming binary split). (Hint: Powersets from tutorial 3).\n",
        "\n",
        "Python tip: the combinations function of the itertools module allows you to enumerate combinations of a list.\n",
        "\n",
        "(Tip: Many students have had trouble with this question in the past, and we highly recommend taking a look at tutorial 3 for guidance: https://colab.research.google.com/drive/13m3KZH1Y5EHB8Wm5_8PIeUL-jLFM0wu9?usp=sharing\n"
      ]
    },
    {
      "cell_type": "code",
      "metadata": {
        "deletable": false,
        "nbgrader": {
          "checksum": "2887cf4ef5a35baf851be351c05f0397",
          "grade": false,
          "grade_id": "cell-e5896ba56062be2d",
          "locked": false,
          "schema_version": 1,
          "solution": true
        },
        "id": "1uYaZLJnuglu"
      },
      "source": [
        "# YOUR CODE HERE\n",
        "q8_df = df.copy()\n",
        "unique_eyecolors = q8_df['eyecolor'].unique()\n",
        "\n",
        "#num_splits = 0\n",
        "powerset = []\n",
        "for r in range(1, len(unique_eyecolors)):\n",
        "    #num_splits += len(list(combinations(unique_eyecolors, r)))\n",
        "    subset_r = itertools.combinations(unique_eyecolors, r)\n",
        "    powerset += subset_r\n",
        "ans = len(powerset)"
      ],
      "execution_count": 213,
      "outputs": []
    },
    {
      "cell_type": "code",
      "metadata": {
        "deletable": false,
        "nbgrader": {
          "checksum": "c295a12954acf6f936b6a921a548717d",
          "grade": false,
          "grade_id": "cell-7cc929e1f346c97c",
          "locked": false,
          "schema_version": 1,
          "solution": true
        },
        "id": "FozfnlkNuglx"
      },
      "source": [
        "# The value set in the variable must be integer\n",
        "num_of_splits = ans # Replace 0 with the actual value\n",
        "\n",
        "# YOUR CODE HERE"
      ],
      "execution_count": 214,
      "outputs": []
    },
    {
      "cell_type": "code",
      "metadata": {
        "deletable": false,
        "editable": false,
        "nbgrader": {
          "checksum": "d10ef3967a94bfbc24d620dceae732ed",
          "grade": true,
          "grade_id": "cell-e345841556e102c6",
          "locked": true,
          "points": 0.5,
          "schema_version": 1,
          "solution": false
        },
        "id": "cLupsW1Sugl0",
        "colab": {
          "base_uri": "https://localhost:8080/",
          "height": 0
        },
        "outputId": "ce1c131a-a600-4b29-a68c-ae79740ceafe"
      },
      "source": [
        "# This is an autograded cell, do not edit\n",
        "print(num_of_splits)"
      ],
      "execution_count": 215,
      "outputs": [
        {
          "output_type": "stream",
          "name": "stdout",
          "text": [
            "30\n"
          ]
        }
      ]
    },
    {
      "cell_type": "markdown",
      "metadata": {
        "deletable": false,
        "editable": false,
        "nbgrader": {
          "checksum": "3f998cc39260ed85ff0341750544bd86",
          "grade": false,
          "grade_id": "cell-8503b7bec552f92c",
          "locked": true,
          "schema_version": 1,
          "solution": false
        },
        "id": "PuLJsUuvugl3"
      },
      "source": [
        "---\n",
        "**Question 9 (1 points, autograded)**: Which split of eyecolor best splits the female and male rows, as measured by the Gini Index?"
      ]
    },
    {
      "cell_type": "code",
      "metadata": {
        "deletable": false,
        "nbgrader": {
          "checksum": "4f117805db47824ae1ef7129672c0d47",
          "grade": false,
          "grade_id": "cell-76f837f4f27e0842",
          "locked": false,
          "schema_version": 1,
          "solution": true
        },
        "id": "HLOlJnsqugl3"
      },
      "source": [
        "# YOUR CODE HERE\n",
        "q9_df = df.copy()\n",
        "unique_eye_colors = q9_df['eyecolor'].unique()\n",
        "\n",
        "best_split = None\n",
        "best_gini_index_q9 = float('inf')\n",
        "group_1 = []\n",
        "group_2 = []\n",
        "\n",
        "for split_colors in combinations(unique_eye_colors, r):\n",
        "    group1 = q9_df[q9_df['eyecolor'].isin(split_colors)]\n",
        "    group2 = q9_df[~q9_df['eyecolor'].isin(split_colors)]\n",
        "\n",
        "    gini_group1 = 1 - ((len(group1[group1['gender'] == 'female']) / len(group1)) ** 2 + (len(group1[group1['gender'] == 'male']) / len(group1)) ** 2)\n",
        "    gini_group2 = 1 - ((len(group2[group2['gender'] == 'female']) / len(group2)) ** 2 + (len(group2[group2['gender'] == 'male']) / len(group2)) ** 2)\n",
        "\n",
        "    weighted_gini = (len(group1) / len(q9_df)) * gini_group1 + (len(group2) / len(q9_df)) * gini_group2\n",
        "\n",
        "    if weighted_gini < best_gini_index_q9:\n",
        "        best_gini_index_q9 = weighted_gini\n",
        "        best_split = split_colors\n",
        "        colour_group_1_ans = list(split_colors)\n",
        "        colour_group_2_ans = list(set(unique_eye_colors) - set(split_colors))"
      ],
      "execution_count": 216,
      "outputs": []
    },
    {
      "cell_type": "code",
      "metadata": {
        "deletable": false,
        "nbgrader": {
          "checksum": "1904d5cda806153db739b5a397c420ce",
          "grade": false,
          "grade_id": "cell-c6d008b0007ae4d7",
          "locked": false,
          "schema_version": 1,
          "solution": true
        },
        "id": "iTBzhW_Vugl5"
      },
      "source": [
        "# The value set in the variable must be an array\n",
        "colour_group_1 = colour_group_1_ans # Replace [] with the actual colours/values in the group\n",
        "colour_group_2 = colour_group_2_ans # Replace [] with the actual colours/values in the group\n",
        "\n",
        "# YOUR CODE HERE"
      ],
      "execution_count": 217,
      "outputs": []
    },
    {
      "cell_type": "code",
      "metadata": {
        "deletable": false,
        "editable": false,
        "nbgrader": {
          "checksum": "4e306b120de04cbdc496f0bf5ca4bc75",
          "grade": true,
          "grade_id": "cell-633329070c59b89d",
          "locked": true,
          "points": 1,
          "schema_version": 1,
          "solution": false
        },
        "id": "DBKu0dDvugl-",
        "colab": {
          "base_uri": "https://localhost:8080/",
          "height": 0
        },
        "outputId": "fa35ce94-9834-4f9d-8be8-bcec58219e94"
      },
      "source": [
        "# This is an autograded cell, do not edit\n",
        "print(colour_group_1, colour_group_2)"
      ],
      "execution_count": 218,
      "outputs": [
        {
          "output_type": "stream",
          "name": "stdout",
          "text": [
            "['hazel', 'brown', 'blue', 'other'] ['green']\n"
          ]
        }
      ]
    },
    {
      "cell_type": "markdown",
      "metadata": {
        "deletable": false,
        "editable": false,
        "nbgrader": {
          "checksum": "a5fa6db03e0b1d03320f702d669e6328",
          "grade": false,
          "grade_id": "cell-54d3a4d63e10789a",
          "locked": true,
          "schema_version": 1,
          "solution": false
        },
        "id": "Q0n3uxWFugmC"
      },
      "source": [
        "---\n",
        "**Question 10 (0.5 points, autograded)**: What is the Gini Index of this best split?"
      ]
    },
    {
      "cell_type": "code",
      "metadata": {
        "deletable": false,
        "nbgrader": {
          "checksum": "f1b5c57dc68cb76716cb9dd1e5cb00db",
          "grade": false,
          "grade_id": "cell-f755b4ebebdcbcd3",
          "locked": false,
          "schema_version": 1,
          "solution": true
        },
        "id": "SLWuwwvnugmF"
      },
      "source": [
        "# YOUR CODE HERE\n",
        "q10_ans = best_gini_index_q9"
      ],
      "execution_count": 219,
      "outputs": []
    },
    {
      "cell_type": "code",
      "metadata": {
        "deletable": false,
        "nbgrader": {
          "checksum": "efce7c9024ee735ae78576a9e6153798",
          "grade": false,
          "grade_id": "cell-b9d691586c5addbd",
          "locked": false,
          "schema_version": 1,
          "solution": true
        },
        "id": "VYJlCiCuugmJ"
      },
      "source": [
        "# The value set in the variable must be float\n",
        "gini_of_best_split_group = q10_ans # Replace 0 with the actual value\n",
        "\n",
        "# YOUR CODE HERE"
      ],
      "execution_count": 220,
      "outputs": []
    },
    {
      "cell_type": "code",
      "metadata": {
        "deletable": false,
        "editable": false,
        "nbgrader": {
          "checksum": "2d4da39818e70541f2d3a55729adbae0",
          "grade": true,
          "grade_id": "cell-7332ad4509b48564",
          "locked": true,
          "points": 0.5,
          "schema_version": 1,
          "solution": false
        },
        "id": "MFn6uVBcugmL",
        "colab": {
          "base_uri": "https://localhost:8080/",
          "height": 0
        },
        "outputId": "0295d840-30b3-444c-f579-cca9fb9fc063"
      },
      "source": [
        "# This is an autograded cell, do not edit\n",
        "print(gini_of_best_split_group)"
      ],
      "execution_count": 221,
      "outputs": [
        {
          "output_type": "stream",
          "name": "stdout",
          "text": [
            "0.4930915729509777\n"
          ]
        }
      ]
    },
    {
      "cell_type": "markdown",
      "metadata": {
        "deletable": false,
        "editable": false,
        "nbgrader": {
          "checksum": "473602565cfa2400f2ad7b85fd72b373",
          "grade": false,
          "grade_id": "cell-34f1033ad6a06232",
          "locked": true,
          "schema_version": 1,
          "solution": false
        },
        "id": "_o0PW2rLugmO"
      },
      "source": [
        "---\n",
        "**Question 11 (0.5 points, autograded)**: How much does this partitioning decrease the Gini Index over the Gini index of the overall dataset?"
      ]
    },
    {
      "cell_type": "code",
      "metadata": {
        "deletable": false,
        "nbgrader": {
          "checksum": "bf9360740e6f25bb1c156c93c1869845",
          "grade": false,
          "grade_id": "cell-68d41651a95a23df",
          "locked": false,
          "schema_version": 1,
          "solution": true
        },
        "id": "Ja5w5_ucugmP"
      },
      "source": [
        "# YOUR CODE HERE\n",
        "q11_ans = gini_index - gini_of_best_split_group"
      ],
      "execution_count": 222,
      "outputs": []
    },
    {
      "cell_type": "code",
      "metadata": {
        "deletable": false,
        "nbgrader": {
          "checksum": "7d84ef913eb55fa6ab7d5f327bc8b650",
          "grade": false,
          "grade_id": "cell-7e15f66615ed4361",
          "locked": false,
          "schema_version": 1,
          "solution": true
        },
        "id": "Z1m4Yf-NugmR"
      },
      "source": [
        "#The value set in the variable must be float\n",
        "gini_difference2 = q11_ans # Replace 0 with the actual value\n",
        "\n",
        "# YOUR CODE HERE"
      ],
      "execution_count": 223,
      "outputs": []
    },
    {
      "cell_type": "code",
      "metadata": {
        "deletable": false,
        "editable": false,
        "nbgrader": {
          "checksum": "6ac2eb45e569ee8da44b7ed0faf33edc",
          "grade": true,
          "grade_id": "cell-a879c9d33c4f102f",
          "locked": true,
          "points": 0.5,
          "schema_version": 1,
          "solution": false
        },
        "id": "-7ij3URDugmT",
        "colab": {
          "base_uri": "https://localhost:8080/",
          "height": 0
        },
        "outputId": "7779e2b0-267d-4c33-d8d3-08b8aa795803"
      },
      "source": [
        "# This is an autograded cell, do not edit\n",
        "print(gini_difference2)"
      ],
      "execution_count": 224,
      "outputs": [
        {
          "output_type": "stream",
          "name": "stdout",
          "text": [
            "0.003337706953802977\n"
          ]
        }
      ]
    },
    {
      "cell_type": "markdown",
      "metadata": {
        "deletable": false,
        "editable": false,
        "nbgrader": {
          "checksum": "60aae9f1a5f6e166acf954ee3219986a",
          "grade": false,
          "grade_id": "cell-a47e13b3fcc0108a",
          "locked": true,
          "schema_version": 1,
          "solution": false
        },
        "id": "C0UNgzrTugmX"
      },
      "source": [
        "---\n",
        "**Question 12 (1 points, autograded)** : How many 'female' rows and 'male' rows are in your first partition? How many 'female' rows and 'male' rows are in your second partition?"
      ]
    },
    {
      "cell_type": "code",
      "metadata": {
        "deletable": false,
        "nbgrader": {
          "checksum": "83f6848101b44ce8d5d499484d55d3b2",
          "grade": false,
          "grade_id": "cell-da838430a7b931e1",
          "locked": false,
          "schema_version": 1,
          "solution": true
        },
        "id": "JguwfDQmugmY"
      },
      "source": [
        "# YOUR CODE HERE\n",
        "q12_df = df.copy()\n",
        "female_partition1 = len(q12_df[(q12_df['gender'] == 'female') & (q12_df['eyecolor'].isin(colour_group_1))])\n",
        "male_partition1 = len(q12_df[(q12_df['gender'] == 'male') & (q12_df['eyecolor'].isin(colour_group_1))])\n",
        "female_partition2 = len(q12_df[(q12_df['gender'] == 'female') & (q12_df['eyecolor'].isin(colour_group_2))])\n",
        "male_female_partition2 = len(q12_df[(q12_df['gender'] == 'male') & (q12_df['eyecolor'].isin(colour_group_2))])"
      ],
      "execution_count": 225,
      "outputs": []
    },
    {
      "cell_type": "code",
      "metadata": {
        "deletable": false,
        "nbgrader": {
          "checksum": "3c880462e0a6e9e9d64542752b22cbef",
          "grade": false,
          "grade_id": "cell-e4c3bc95376f6df7",
          "locked": false,
          "schema_version": 1,
          "solution": true
        },
        "id": "H-dDxSbDugma"
      },
      "source": [
        "# The value set in the variable must be integer, order doesn't matter\n",
        "partition1_male = male_partition1 # Replace 0 with the actual value\n",
        "partition1_female = female_partition1 # Replace 0 with the actual value\n",
        "partition2_male = male_female_partition2 # Replace 0 with the actual value\n",
        "partition2_female = female_partition2 # Replace 0 with the actual value\n",
        "# YOUR CODE HERE"
      ],
      "execution_count": 226,
      "outputs": []
    },
    {
      "cell_type": "code",
      "metadata": {
        "deletable": false,
        "editable": false,
        "nbgrader": {
          "checksum": "0fdc2e6ab8f5b169f5bfd9566d85fc01",
          "grade": true,
          "grade_id": "cell-1c022d94964cb6cc",
          "locked": true,
          "points": 1,
          "schema_version": 1,
          "solution": false
        },
        "id": "XYCfnyCNugmd",
        "colab": {
          "base_uri": "https://localhost:8080/",
          "height": 0
        },
        "outputId": "735313d6-15f8-4bf3-e171-41bb8ec61de1"
      },
      "source": [
        "# This is an autograded cell, do not edit\n",
        "print(partition1_male, partition1_female, partition2_male, partition2_female)"
      ],
      "execution_count": 227,
      "outputs": [
        {
          "output_type": "stream",
          "name": "stdout",
          "text": [
            "803 888 107 190\n"
          ]
        }
      ]
    },
    {
      "cell_type": "markdown",
      "metadata": {
        "deletable": false,
        "editable": false,
        "nbgrader": {
          "checksum": "2d2ab95c05c31c5f214bd422e16e450b",
          "grade": false,
          "grade_id": "cell-d81b2ec1e886e1b6",
          "locked": true,
          "schema_version": 1,
          "solution": false
        },
        "id": "JoFggmQGugmi"
      },
      "source": [
        "---\n",
        "## Training a decision tree\n",
        "**Question 13 (1 points, autograded)**: Using all of the features in the original dataframe read in at the top of this notebook, train a decision tree classifier that has a depth of three (not including the root node). What is the accuracy of this classifier on the training data)?\n",
        "\n",
        "Scikit-learn classifiers require class labels and features to be in numeric arrays. As such, you will need to turn your categorical features into numeric arrays using DictVectorizer. This is a helpful notebook for understanding how to do this: https://nbviewer.org/gist/sarguido/7423289. You can turn a pandas dataframe of features into a dictionary of the form needed by DictVectorizer by using df.to_dict('records'). Make sure you remove the class label first (in this case, gender). If you use the class label as a feature, your classifier will have a training accuracy of 100%! The example notebook link also shows how to turn your class labels into a numeric array using sklearn.preprocessing.LabelEncoder()."
      ]
    },
    {
      "cell_type": "code",
      "metadata": {
        "deletable": false,
        "nbgrader": {
          "checksum": "14960b019250231f745c6db5a38c70f7",
          "grade": false,
          "grade_id": "cell-a77a52f79c83b21a",
          "locked": false,
          "schema_version": 1,
          "solution": true
        },
        "id": "kFIx_xdyugmj",
        "colab": {
          "base_uri": "https://localhost:8080/",
          "height": 0
        },
        "outputId": "04a55095-b70e-4c02-e5a8-f0653641cb13"
      },
      "source": [
        "from sklearn.metrics import accuracy_score\n",
        "# YOUR CODE HERE\n",
        "q13_df = df.copy()\n",
        "\n",
        "y = q13_df['gender']\n",
        "X = q13_df.drop('gender', axis=1)\n",
        "\n",
        "vec = DictVectorizer()\n",
        "X_encoded = vec.fit_transform(X.to_dict('records'))\n",
        "\n",
        "le = preprocessing.LabelEncoder()\n",
        "y_encoded = le.fit_transform(y)\n",
        "\n",
        "clf = tree.DecisionTreeClassifier(max_depth=3, random_state=42)\n",
        "clf.fit(X_encoded, y_encoded)\n",
        "\n",
        "y_pred = clf.predict(X_encoded)\n",
        "\n",
        "ans_accuracy = accuracy_score(y_encoded, y_pred)\n",
        "\n",
        "print(ans_accuracy)"
      ],
      "execution_count": 236,
      "outputs": [
        {
          "output_type": "stream",
          "name": "stdout",
          "text": [
            "0.8646881287726358\n"
          ]
        }
      ]
    },
    {
      "cell_type": "code",
      "metadata": {
        "deletable": false,
        "nbgrader": {
          "checksum": "f26339bc22d99829fefeb18e1c46cb06",
          "grade": false,
          "grade_id": "cell-55c9f9a2702cf09c",
          "locked": false,
          "schema_version": 1,
          "solution": true
        },
        "id": "CqowI-lrugmn"
      },
      "source": [
        "# The value set in the variable must be float\n",
        "accuracy = ans_accuracy #Replace 0 with the actual value\n",
        "\n",
        "# YOUR CODE HERE"
      ],
      "execution_count": 237,
      "outputs": []
    },
    {
      "cell_type": "code",
      "metadata": {
        "deletable": false,
        "editable": false,
        "nbgrader": {
          "checksum": "75544e763b81e3e36748ea0f4989c6ae",
          "grade": true,
          "grade_id": "cell-329a69c83b199316",
          "locked": true,
          "points": 1,
          "schema_version": 1,
          "solution": false
        },
        "id": "urP93Al5ugmu",
        "colab": {
          "base_uri": "https://localhost:8080/",
          "height": 0
        },
        "outputId": "082fc671-7b79-47d8-a836-10ff460145ac"
      },
      "source": [
        "# This is an autograded cell, do not edit\n",
        "print(accuracy)"
      ],
      "execution_count": 238,
      "outputs": [
        {
          "output_type": "stream",
          "name": "stdout",
          "text": [
            "0.8646881287726358\n"
          ]
        }
      ]
    },
    {
      "cell_type": "markdown",
      "metadata": {
        "deletable": false,
        "editable": false,
        "nbgrader": {
          "checksum": "f23e20cb9c25f2f8d674f98079625ff2",
          "grade": false,
          "grade_id": "cell-e321872a66519e2c",
          "locked": true,
          "schema_version": 1,
          "solution": false
        },
        "id": "MpU-3jviugm1"
      },
      "source": [
        "---\n",
        "**Question 14 (1 points, manually graded)**: Using the following code snippet, visualize your decision tree. In your write-up, **write down the interpretation of the rule at each node** which is used to perform the splitting.\n",
        "\n",
        "We provide **two options** to visualize decision trees. The first option uses `tree.plot_tree` and the other uses an external tool called `GraphViz`. You can **use either of the two options**.  `tree.plot_tree` is the **recommended and easier option** as it is a built-in function in `sklearn` and doesn't require any additional setup.\n",
        "\n",
        "Uncomment the code, **fill in the clf (classifier) and `feature_names` arguments**. Executing the code will display the tree visualization in the output cell.\n",
        "\n",
        "Note for users who want to install graphviz on their local machines (**you don't need to do install graphviz if you're running the notebook Colab**, which is the class' recommended way of doing assignments):\n",
        "\n",
        "\n",
        "\n",
        "> In order to install graphviz, you may need to download the tool from [this website](https://graphviz.gitlab.io), and then pip3/conda install the python libraries you do not have. Mac users can use ```brew install graphviz``` instead of following the link, and linux users can do the same using their favourite package manager (for example, Ubuntu users can use ```sudo apt-get install graphviz```, followed by the necessary pip3/conda installations.\n",
        "\n",
        "\n"
      ]
    },
    {
      "cell_type": "code",
      "metadata": {
        "id": "CcYGDqUIIGZa",
        "colab": {
          "base_uri": "https://localhost:8080/",
          "height": 1115
        },
        "outputId": "13052971-e2fb-4f6d-c259-45ba02f151be"
      },
      "source": [
        "# Option 1 (Recommended Option) - Using `tree.plot_tree`\n",
        "\n",
        "fig, ax = plt.subplots(figsize=(14, 14))\n",
        "tree.plot_tree(clf, fontsize=7, feature_names=vec.get_feature_names_out(), class_names=True);"
      ],
      "execution_count": 254,
      "outputs": [
        {
          "output_type": "display_data",
          "data": {
            "text/plain": [
              "<Figure size 1400x1400 with 1 Axes>"
            ],
            "image/png": "[encoded data removed]"
          },
          "metadata": {}
        }
      ]
    },
    {
      "cell_type": "code",
      "metadata": {
        "deletable": false,
        "editable": false,
        "nbgrader": {
          "checksum": "b43dac070b745305841e22382bc87bda",
          "grade": false,
          "grade_id": "cell-5aaab8332072d23e",
          "locked": true,
          "schema_version": 1,
          "solution": false
        },
        "id": "H80MNiT4ugm2"
      },
      "source": [
        "# Option 2 - Using GraphViz. Visualization is prettier, but additional setup may be required if running on your local machine (although no setup required on Colab)\n",
        "\n",
        "from IPython.display import Image\n",
        "import pydotplus\n",
        "import pydot\n",
        "from six import StringIO\n",
        "\n",
        "# clf = your classifier\n",
        "# dotfile = StringIO()\n",
        "# tree.export_graphviz(clf, out_file=dotfile,\n",
        "#                       feature_names=<Names of columns>,\n",
        "#                           class_names=['Female', 'Male'],\n",
        "#                           filled=True, rounded=True,\n",
        "#                           special_characters=True)\n",
        "# graph = pydotplus.graph_from_dot_data(dotfile.getvalue())\n",
        "# Image(graph.create_png())\n",
        "\n",
        "\n",
        "# Ignore the cell below, but do not delete it. It is used to grade the image output of this cell."
      ],
      "execution_count": null,
      "outputs": []
    },
    {
      "cell_type": "code",
      "metadata": {
        "deletable": false,
        "nbgrader": {
          "checksum": "cd77be0d5dbdbf44dccc26ef3ee69512",
          "grade": true,
          "grade_id": "cell-ebde7100c67bf20c",
          "locked": false,
          "points": 1,
          "schema_version": 1,
          "solution": true
        },
        "id": "ty3tzOLVugm8"
      },
      "source": [
        "# YOUR CODE HERE"
      ],
      "execution_count": 255,
      "outputs": []
    },
    {
      "cell_type": "markdown",
      "source": [
        "At the root node, we can see that the rule is height <= height and it split into nodes, where one node is for height <= 68.5 and the other node for height > 68.5. The left node uses the rule playgames <=7.75 and the right node uses the rule of its parent node height but this time it is height <=70.5. So now from people who are shorter than or equal to 68.5 they're looking at their playgames feature and from people who are taller, they're still looking at height. On the secodn splits for the nodes, the left side splits and uses the rule height <= 67.5 and height <= 65.5. on the right side, it checks the playgames feature (playgames <= 2.5 and playgames <= 1.75). When looking at the gini index from resulting bottom nodes, we can see that height <= 67.5 returns the lowest gini index, which shows that that the majority of the samples belong to the same class under this rule."
      ],
      "metadata": {
        "id": "kMf9aDdh7aTb"
      }
    },
    {
      "cell_type": "markdown",
      "metadata": {
        "deletable": false,
        "editable": false,
        "nbgrader": {
          "checksum": "29e84207b6e13109206f7ef78d0ff602",
          "grade": false,
          "grade_id": "cell-06714e6427b2d0d0",
          "locked": true,
          "schema_version": 1,
          "solution": false
        },
        "id": "gIOPTYuiugnF"
      },
      "source": [
        "---\n",
        "## Bonus Question (2 points, auto graded)\n",
        "For each of your leaf nodes, specify the percentage of 'female' rows in that node (out of the total number of rows at that node)\n"
      ]
    },
    {
      "cell_type": "code",
      "metadata": {
        "deletable": false,
        "nbgrader": {
          "checksum": "88cda91aeb11b6f96d6c2bacf4a4804e",
          "grade": false,
          "grade_id": "cell-650a81bc31e6f608",
          "locked": false,
          "schema_version": 1,
          "solution": true
        },
        "id": "co_iRKrUugnG"
      },
      "source": [
        "# The value set in the variable must be array\n",
        "ratios = 0 # Replace 0 with the actual value\n",
        "\n",
        "# YOUR CODE HERE\n",
        "raise NotImplementedError()\n"
      ],
      "execution_count": null,
      "outputs": []
    },
    {
      "cell_type": "code",
      "metadata": {
        "deletable": false,
        "editable": false,
        "nbgrader": {
          "checksum": "de18cf01eb62a9398145d3f1879681d5",
          "grade": true,
          "grade_id": "cell-2cc540aa430d101d",
          "locked": true,
          "points": 2,
          "schema_version": 1,
          "solution": false
        },
        "id": "Ugyn_t3lugnH"
      },
      "source": [
        "# This is an autograded cell, do not edit\n",
        "print(ratios)"
      ],
      "execution_count": null,
      "outputs": []
    },
    {
      "cell_type": "markdown",
      "source": [
        "*ⓒ Prof. Zachary Pardos, 2022*"
      ],
      "metadata": {
        "id": "TcHv6u9pzZKV"
      }
    }
  ]
}