{
  "cells": [
    {
      "cell_type": "markdown",
      "metadata": {
        "id": "RTtjzb-C8WfV"
      },
      "source": [
        "DATA MINING & ANALYTICS (2022)\n",
        "\n",
        "Make sure you fill in any place that says `YOUR CODE HERE` or `YOUR ANSWER HERE`, as well as your name below:"
      ]
    },
    {
      "cell_type": "code",
      "execution_count": 1,
      "metadata": {
        "id": "84YmnDPm8WfX"
      },
      "outputs": [],
      "source": [
        "NAME = \"Reuel Yang\""
      ]
    },
    {
      "cell_type": "markdown",
      "metadata": {
        "id": "mPzgt7538Wfe"
      },
      "source": [
        "---"
      ]
    },
    {
      "cell_type": "markdown",
      "metadata": {
        "deletable": false,
        "editable": false,
        "id": "a84b7eS58Wff",
        "nbgrader": {
          "checksum": "421e2e076e4bd859041d2c49e8c1b374",
          "grade": false,
          "grade_id": "cell-9ca594c076da14a9",
          "locked": true,
          "schema_version": 1,
          "solution": false
        }
      },
      "source": [
        "# Lab 2: Clustering ##\n",
        "\n",
        "**Please read the following instructions very carefully.**\n",
        "\n",
        "## About the Dataset\n",
        "The dataset for this lab has been created from some custom features from Lab 1. The columns are named as q1, q2....etc. A description of the features can be found at this link: https://docs.google.com/spreadsheets/d/18wwyjGku2HYfgDX9Vez64lGHz31E_PfbpmAdfb7ly6M/edit?usp=sharing\n",
        "\n",
        "## Working on the assignment / FAQs\n",
        "- **Always use the seed/random_state as *42* wherever applicable** (This is to ensure repeatability in answers, across students and coding environments).\n",
        "    - This can typically look like taking in another argument `random_state = 42` when applicable.\n",
        "- The points allotted per question is listed.\n",
        "- To avoid any ambiguity, each question also specifies what *value* the function must return. Note that these are dummy values and not the answers themselves.\n",
        "- If a question has multiple answers (due to differences in handling NaNs, zeros etc.), all answers will be considered.\n",
        "- Most assignments have bonus questions for extra credit, do try them out!\n",
        "- You can delete the `raise NotImplementedError()` when you are attempting the question.\n",
        "- **Submitting the assignment** : Save your work as a PDF (Print -> Save as PDF), download the `.ipynb` file from Colab (Download -> Download as .ipynb), and upload these two files to Gradescope. **Run all cells before submitting.**\n",
        "- **MAKE A COPY OF THIS FILE FOR YOURSELF TO EDIT/SAVE.**\n",
        "- That's about it. Happy coding!"
      ]
    },
    {
      "cell_type": "code",
      "execution_count": 2,
      "metadata": {
        "deletable": false,
        "editable": false,
        "id": "uS-ZiJUd8Wfg",
        "nbgrader": {
          "checksum": "ccd093de0c01c601220c82809d785907",
          "grade": false,
          "grade_id": "cell-11a8a6cab098e8a1",
          "locked": true,
          "schema_version": 1,
          "solution": false
        },
        "outputId": "d92f03c0-c9b6-4ae7-fd4c-076ba91b6f6f",
        "colab": {
          "base_uri": "https://localhost:8080/"
        }
      },
      "outputs": [
        {
          "output_type": "stream",
          "name": "stdout",
          "text": [
            "--2023-09-13 17:27:15--  http://askoski.berkeley.edu/~zp/yelp_reviewers.csv\n",
            "Resolving askoski.berkeley.edu (askoski.berkeley.edu)... 169.229.192.179\n",
            "Connecting to askoski.berkeley.edu (askoski.berkeley.edu)|169.229.192.179|:80... connected.\n",
            "HTTP request sent, awaiting response... 200 OK\n",
            "Length: 35809479 (34M) [text/csv]\n",
            "Saving to: ‘yelp_reviewers.csv’\n",
            "\n",
            "yelp_reviewers.csv  100%[===================>]  34.15M  25.6MB/s    in 1.3s    \n",
            "\n",
            "2023-09-13 17:27:16 (25.6 MB/s) - ‘yelp_reviewers.csv’ saved [35809479/35809479]\n",
            "\n",
            "Dataset Downloaded: yelp_reviewers.csv\n",
            "                q3           q4           q5           q6           q7  \\\n",
            "count  7177.000000  7177.000000  7177.000000  7177.000000  7177.000000   \n",
            "mean      6.838651     5.281455     4.750871     8.808973     1.539160   \n",
            "std       7.597977    16.208703    13.866352    19.980443     0.885421   \n",
            "min       1.000000     1.000000     1.000000     1.000000     0.000000   \n",
            "25%       3.000000     1.000000     1.000000     2.000000     1.100000   \n",
            "50%       5.000000     2.000000     2.000000     5.000000     1.610000   \n",
            "75%       9.000000     4.000000     4.000000     9.000000     2.200000   \n",
            "max     252.000000   607.000000   474.000000   773.000000     5.530000   \n",
            "\n",
            "                q8           q9          q10          q11          q12  ...  \\\n",
            "count  7177.000000  7177.000000  7177.000000  7177.000000  7177.000000  ...   \n",
            "mean      0.934928     0.870281     1.549898    26.732782    25.660616  ...   \n",
            "std       0.976816     0.950066     1.024145    10.226302    11.451583  ...   \n",
            "min       0.000000     0.000000     0.000000     2.900000     1.410000  ...   \n",
            "25%       0.000000     0.000000     0.690000    20.000000    16.670000  ...   \n",
            "50%       0.690000     0.690000     1.610000    25.710000    25.000000  ...   \n",
            "75%       1.390000     1.390000     2.200000    33.330000    33.330000  ...   \n",
            "max       6.410000     6.160000     6.650000    77.780000    75.000000  ...   \n",
            "\n",
            "              q16r         q16u         q16v         q16w         q16x  \\\n",
            "count  7177.000000  7177.000000  7177.000000  7177.000000  7177.000000   \n",
            "mean      3.641912     0.462843    22.503414    25.665180     0.003744   \n",
            "std       1.483358     0.507827    14.350555    29.021007     0.006019   \n",
            "min       1.000000     0.000000     1.000000     1.000000     0.000000   \n",
            "25%       3.000000     0.000000    10.000000     9.000000     0.000491   \n",
            "50%       4.000000     0.333333    21.000000    18.000000     0.001967   \n",
            "75%       5.000000     0.666667    33.000000    33.000000     0.004666   \n",
            "max       5.000000     6.000000    53.000000   868.000000     0.150618   \n",
            "\n",
            "              q16y         q16z        q16aa        q16ab        q16ac  \n",
            "count  7177.000000  7177.000000  7177.000000  7177.000000  7177.000000  \n",
            "mean     74.046169     0.675212     0.552041     1.127751     3.649254  \n",
            "std      50.031941     1.503059     2.042566     4.652206     0.977100  \n",
            "min       1.333333     0.000000     0.000000     0.000000     1.000000  \n",
            "25%      39.666667     0.000000     0.000000     0.000000     3.200000  \n",
            "50%      62.900000     0.000000     0.000000     0.500000     3.777778  \n",
            "75%      95.687500     1.000000     0.000000     1.307692     4.333333  \n",
            "max     507.200000    44.000000   106.000000   342.300000     5.000000  \n",
            "\n",
            "[8 rows x 40 columns]\n",
            "....SETUP COMPLETE....\n"
          ]
        }
      ],
      "source": [
        "import pandas as pd\n",
        "import collections\n",
        "from sklearn.cluster import KMeans\n",
        "from sklearn.metrics import silhouette_score\n",
        "import numpy as np\n",
        "from sklearn.preprocessing import normalize\n",
        "\n",
        "import matplotlib\n",
        "import matplotlib.pyplot as plt\n",
        "\n",
        "%matplotlib inline\n",
        "matplotlib.style.use('ggplot')\n",
        "\n",
        "#DOWNLOADING DATASET\n",
        "!wget -nc http://askoski.berkeley.edu/~zp/yelp_reviewers.csv\n",
        "# !unzip -u yelp_reviewers.zip\n",
        "print('Dataset Downloaded: yelp_reviewers.csv')\n",
        "df = pd.read_csv('yelp_reviewers.csv', delimiter= ',')\n",
        "df = df.sample(frac=0.3, random_state=42)\n",
        "print(df.dropna().describe())\n",
        "\n",
        "print('....SETUP COMPLETE....')"
      ]
    },
    {
      "cell_type": "code",
      "execution_count": 3,
      "metadata": {
        "id": "ANCMpJ178foc",
        "colab": {
          "base_uri": "https://localhost:8080/",
          "height": 1000
        },
        "outputId": "d4a60892-deda-4192-b1d7-aca87af30fc5"
      },
      "outputs": [
        {
          "output_type": "execute_result",
          "data": {
            "text/plain": [
              "                         129451                  116706  \\\n",
              "user_id  kIWQXgjmVdgEs9BOgr8G5A  fXU_-5DBmNlGhI8fbX-2vQ   \n",
              "q3                            1                       1   \n",
              "q4                            0                       0   \n",
              "q5                            0                       0   \n",
              "q6                            0                       0   \n",
              "q7                          0.0                     0.0   \n",
              "q8                          NaN                     NaN   \n",
              "q9                          NaN                     NaN   \n",
              "q10                         NaN                     NaN   \n",
              "q11                         NaN                     NaN   \n",
              "q12                         NaN                     NaN   \n",
              "q13                         NaN                     NaN   \n",
              "q14                           7                      10   \n",
              "q15                       510.0                   132.0   \n",
              "q16a                          0                       0   \n",
              "q16b                        0.0                     0.0   \n",
              "q16c                        0.0                     0.0   \n",
              "q16d                        3.0                     1.0   \n",
              "q16e                   0.013725                0.045455   \n",
              "q16f                        0.0                     0.0   \n",
              "q16g                          0                       1   \n",
              "q16h                          0                       1   \n",
              "q16i                          0                       0   \n",
              "q16j                        0.0                     0.0   \n",
              "q16k                          0                       0   \n",
              "q16l                          0                       0   \n",
              "q16m                        3.0                     0.0   \n",
              "q16n                        0.0                     0.0   \n",
              "q16o                        0.0                     1.0   \n",
              "q16p                        0.0                     0.0   \n",
              "q16q                        0.0                     0.0   \n",
              "q16r                          3                       1   \n",
              "q16s                experienced             experienced   \n",
              "q16t                         no                      no   \n",
              "q16u                        0.0                     0.0   \n",
              "q16v                         13                      35   \n",
              "q16w                          3                       1   \n",
              "q16x                        0.0                0.007576   \n",
              "q16y                      101.0                    23.0   \n",
              "q16z                          0                       0   \n",
              "q16aa                         0                       0   \n",
              "q16ab                       NaN                     0.0   \n",
              "q16ac                       3.0                     1.0   \n",
              "\n",
              "                         144394                  24699   \\\n",
              "user_id  prF_lbKywPnZhNqvJOOaDw  8GHUeOm807bI5Qh4X3CHBA   \n",
              "q3                            1                       1   \n",
              "q4                            0                       0   \n",
              "q5                            0                       0   \n",
              "q6                            0                       0   \n",
              "q7                          0.0                     0.0   \n",
              "q8                          NaN                     NaN   \n",
              "q9                          NaN                     NaN   \n",
              "q10                         NaN                     NaN   \n",
              "q11                         NaN                     NaN   \n",
              "q12                         NaN                     NaN   \n",
              "q13                         NaN                     NaN   \n",
              "q14                           9                       8   \n",
              "q15                      1792.0                   283.0   \n",
              "q16a                          0                       0   \n",
              "q16b                        0.0                     0.0   \n",
              "q16c                        0.0                     0.0   \n",
              "q16d                        3.0                     5.0   \n",
              "q16e                   0.027344                0.017668   \n",
              "q16f                        0.0                     0.0   \n",
              "q16g                          1                       0   \n",
              "q16h                          1                       0   \n",
              "q16i                          0                       0   \n",
              "q16j                        0.0                     0.0   \n",
              "q16k                          0                       0   \n",
              "q16l                          0                       0   \n",
              "q16m                       12.0                     1.0   \n",
              "q16n                        1.0                     0.0   \n",
              "q16o                        1.0                     0.0   \n",
              "q16p                        1.0                     0.0   \n",
              "q16q                        0.0                     0.0   \n",
              "q16r                          3                       5   \n",
              "q16s                experienced             experienced   \n",
              "q16t                         no                      no   \n",
              "q16u                        2.0                     0.0   \n",
              "q16v                         36                      33   \n",
              "q16w                          3                       5   \n",
              "q16x                   0.001685                     0.0   \n",
              "q16y                      363.0                    50.0   \n",
              "q16z                          0                       0   \n",
              "q16aa                         0                       0   \n",
              "q16ab                       NaN                     2.0   \n",
              "q16ac                       3.0                     5.0   \n",
              "\n",
              "                         47453   \n",
              "user_id  Gd_IGX3BmRYbPD84ovLEoA  \n",
              "q3                            8  \n",
              "q4                            2  \n",
              "q5                            1  \n",
              "q6                            8  \n",
              "q7                         2.08  \n",
              "q8                         0.69  \n",
              "q9                          0.0  \n",
              "q10                        2.08  \n",
              "q11                       18.18  \n",
              "q12                        9.09  \n",
              "q13                       72.73  \n",
              "q14                          10  \n",
              "q15                      663.38  \n",
              "q16a                          4  \n",
              "q16b                   0.353553  \n",
              "q16c                   0.002073  \n",
              "q16d                      4.875  \n",
              "q16e                   0.022989  \n",
              "q16f                   0.330719  \n",
              "q16g                          2  \n",
              "q16h                          6  \n",
              "q16i                          0  \n",
              "q16j                      1.375  \n",
              "q16k                          1  \n",
              "q16l                          0  \n",
              "q16m                        4.5  \n",
              "q16n                      0.125  \n",
              "q16o                       0.75  \n",
              "q16p                        1.0  \n",
              "q16q                   0.192489  \n",
              "q16r                          5  \n",
              "q16s                experienced  \n",
              "q16t                         no  \n",
              "q16u                      0.375  \n",
              "q16v                          8  \n",
              "q16w                         39  \n",
              "q16x                   0.001755  \n",
              "q16y                  91.072917  \n",
              "q16z                          4  \n",
              "q16aa                         0  \n",
              "q16ab                       1.0  \n",
              "q16ac                     4.875  "
            ],
            "text/html": [
              "\n",
              "  <div id=\"df-7925435c-05da-4f2d-981f-d13ac496aa40\" class=\"colab-df-container\">\n",
              "    <div>\n",
              "<style scoped>\n",
              "    .dataframe tbody tr th:only-of-type {\n",
              "        vertical-align: middle;\n",
              "    }\n",
              "\n",
              "    .dataframe tbody tr th {\n",
              "        vertical-align: top;\n",
              "    }\n",
              "\n",
              "    .dataframe thead th {\n",
              "        text-align: right;\n",
              "    }\n",
              "</style>\n",
              "<table border=\"1\" class=\"dataframe\">\n",
              "  <thead>\n",
              "    <tr style=\"text-align: right;\">\n",
              "      <th></th>\n",
              "      <th>129451</th>\n",
              "      <th>116706</th>\n",
              "      <th>144394</th>\n",
              "      <th>24699</th>\n",
              "      <th>47453</th>\n",
              "    </tr>\n",
              "  </thead>\n",
              "  <tbody>\n",
              "    <tr>\n",
              "      <th>user_id</th>\n",
              "      <td>kIWQXgjmVdgEs9BOgr8G5A</td>\n",
              "      <td>fXU_-5DBmNlGhI8fbX-2vQ</td>\n",
              "      <td>prF_lbKywPnZhNqvJOOaDw</td>\n",
              "      <td>8GHUeOm807bI5Qh4X3CHBA</td>\n",
              "      <td>Gd_IGX3BmRYbPD84ovLEoA</td>\n",
              "    </tr>\n",
              "    <tr>\n",
              "      <th>q3</th>\n",
              "      <td>1</td>\n",
              "      <td>1</td>\n",
              "      <td>1</td>\n",
              "      <td>1</td>\n",
              "      <td>8</td>\n",
              "    </tr>\n",
              "    <tr>\n",
              "      <th>q4</th>\n",
              "      <td>0</td>\n",
              "      <td>0</td>\n",
              "      <td>0</td>\n",
              "      <td>0</td>\n",
              "      <td>2</td>\n",
              "    </tr>\n",
              "    <tr>\n",
              "      <th>q5</th>\n",
              "      <td>0</td>\n",
              "      <td>0</td>\n",
              "      <td>0</td>\n",
              "      <td>0</td>\n",
              "      <td>1</td>\n",
              "    </tr>\n",
              "    <tr>\n",
              "      <th>q6</th>\n",
              "      <td>0</td>\n",
              "      <td>0</td>\n",
              "      <td>0</td>\n",
              "      <td>0</td>\n",
              "      <td>8</td>\n",
              "    </tr>\n",
              "    <tr>\n",
              "      <th>q7</th>\n",
              "      <td>0.0</td>\n",
              "      <td>0.0</td>\n",
              "      <td>0.0</td>\n",
              "      <td>0.0</td>\n",
              "      <td>2.08</td>\n",
              "    </tr>\n",
              "    <tr>\n",
              "      <th>q8</th>\n",
              "      <td>NaN</td>\n",
              "      <td>NaN</td>\n",
              "      <td>NaN</td>\n",
              "      <td>NaN</td>\n",
              "      <td>0.69</td>\n",
              "    </tr>\n",
              "    <tr>\n",
              "      <th>q9</th>\n",
              "      <td>NaN</td>\n",
              "      <td>NaN</td>\n",
              "      <td>NaN</td>\n",
              "      <td>NaN</td>\n",
              "      <td>0.0</td>\n",
              "    </tr>\n",
              "    <tr>\n",
              "      <th>q10</th>\n",
              "      <td>NaN</td>\n",
              "      <td>NaN</td>\n",
              "      <td>NaN</td>\n",
              "      <td>NaN</td>\n",
              "      <td>2.08</td>\n",
              "    </tr>\n",
              "    <tr>\n",
              "      <th>q11</th>\n",
              "      <td>NaN</td>\n",
              "      <td>NaN</td>\n",
              "      <td>NaN</td>\n",
              "      <td>NaN</td>\n",
              "      <td>18.18</td>\n",
              "    </tr>\n",
              "    <tr>\n",
              "      <th>q12</th>\n",
              "      <td>NaN</td>\n",
              "      <td>NaN</td>\n",
              "      <td>NaN</td>\n",
              "      <td>NaN</td>\n",
              "      <td>9.09</td>\n",
              "    </tr>\n",
              "    <tr>\n",
              "      <th>q13</th>\n",
              "      <td>NaN</td>\n",
              "      <td>NaN</td>\n",
              "      <td>NaN</td>\n",
              "      <td>NaN</td>\n",
              "      <td>72.73</td>\n",
              "    </tr>\n",
              "    <tr>\n",
              "      <th>q14</th>\n",
              "      <td>7</td>\n",
              "      <td>10</td>\n",
              "      <td>9</td>\n",
              "      <td>8</td>\n",
              "      <td>10</td>\n",
              "    </tr>\n",
              "    <tr>\n",
              "      <th>q15</th>\n",
              "      <td>510.0</td>\n",
              "      <td>132.0</td>\n",
              "      <td>1792.0</td>\n",
              "      <td>283.0</td>\n",
              "      <td>663.38</td>\n",
              "    </tr>\n",
              "    <tr>\n",
              "      <th>q16a</th>\n",
              "      <td>0</td>\n",
              "      <td>0</td>\n",
              "      <td>0</td>\n",
              "      <td>0</td>\n",
              "      <td>4</td>\n",
              "    </tr>\n",
              "    <tr>\n",
              "      <th>q16b</th>\n",
              "      <td>0.0</td>\n",
              "      <td>0.0</td>\n",
              "      <td>0.0</td>\n",
              "      <td>0.0</td>\n",
              "      <td>0.353553</td>\n",
              "    </tr>\n",
              "    <tr>\n",
              "      <th>q16c</th>\n",
              "      <td>0.0</td>\n",
              "      <td>0.0</td>\n",
              "      <td>0.0</td>\n",
              "      <td>0.0</td>\n",
              "      <td>0.002073</td>\n",
              "    </tr>\n",
              "    <tr>\n",
              "      <th>q16d</th>\n",
              "      <td>3.0</td>\n",
              "      <td>1.0</td>\n",
              "      <td>3.0</td>\n",
              "      <td>5.0</td>\n",
              "      <td>4.875</td>\n",
              "    </tr>\n",
              "    <tr>\n",
              "      <th>q16e</th>\n",
              "      <td>0.013725</td>\n",
              "      <td>0.045455</td>\n",
              "      <td>0.027344</td>\n",
              "      <td>0.017668</td>\n",
              "      <td>0.022989</td>\n",
              "    </tr>\n",
              "    <tr>\n",
              "      <th>q16f</th>\n",
              "      <td>0.0</td>\n",
              "      <td>0.0</td>\n",
              "      <td>0.0</td>\n",
              "      <td>0.0</td>\n",
              "      <td>0.330719</td>\n",
              "    </tr>\n",
              "    <tr>\n",
              "      <th>q16g</th>\n",
              "      <td>0</td>\n",
              "      <td>1</td>\n",
              "      <td>1</td>\n",
              "      <td>0</td>\n",
              "      <td>2</td>\n",
              "    </tr>\n",
              "    <tr>\n",
              "      <th>q16h</th>\n",
              "      <td>0</td>\n",
              "      <td>1</td>\n",
              "      <td>1</td>\n",
              "      <td>0</td>\n",
              "      <td>6</td>\n",
              "    </tr>\n",
              "    <tr>\n",
              "      <th>q16i</th>\n",
              "      <td>0</td>\n",
              "      <td>0</td>\n",
              "      <td>0</td>\n",
              "      <td>0</td>\n",
              "      <td>0</td>\n",
              "    </tr>\n",
              "    <tr>\n",
              "      <th>q16j</th>\n",
              "      <td>0.0</td>\n",
              "      <td>0.0</td>\n",
              "      <td>0.0</td>\n",
              "      <td>0.0</td>\n",
              "      <td>1.375</td>\n",
              "    </tr>\n",
              "    <tr>\n",
              "      <th>q16k</th>\n",
              "      <td>0</td>\n",
              "      <td>0</td>\n",
              "      <td>0</td>\n",
              "      <td>0</td>\n",
              "      <td>1</td>\n",
              "    </tr>\n",
              "    <tr>\n",
              "      <th>q16l</th>\n",
              "      <td>0</td>\n",
              "      <td>0</td>\n",
              "      <td>0</td>\n",
              "      <td>0</td>\n",
              "      <td>0</td>\n",
              "    </tr>\n",
              "    <tr>\n",
              "      <th>q16m</th>\n",
              "      <td>3.0</td>\n",
              "      <td>0.0</td>\n",
              "      <td>12.0</td>\n",
              "      <td>1.0</td>\n",
              "      <td>4.5</td>\n",
              "    </tr>\n",
              "    <tr>\n",
              "      <th>q16n</th>\n",
              "      <td>0.0</td>\n",
              "      <td>0.0</td>\n",
              "      <td>1.0</td>\n",
              "      <td>0.0</td>\n",
              "      <td>0.125</td>\n",
              "    </tr>\n",
              "    <tr>\n",
              "      <th>q16o</th>\n",
              "      <td>0.0</td>\n",
              "      <td>1.0</td>\n",
              "      <td>1.0</td>\n",
              "      <td>0.0</td>\n",
              "      <td>0.75</td>\n",
              "    </tr>\n",
              "    <tr>\n",
              "      <th>q16p</th>\n",
              "      <td>0.0</td>\n",
              "      <td>0.0</td>\n",
              "      <td>1.0</td>\n",
              "      <td>0.0</td>\n",
              "      <td>1.0</td>\n",
              "    </tr>\n",
              "    <tr>\n",
              "      <th>q16q</th>\n",
              "      <td>0.0</td>\n",
              "      <td>0.0</td>\n",
              "      <td>0.0</td>\n",
              "      <td>0.0</td>\n",
              "      <td>0.192489</td>\n",
              "    </tr>\n",
              "    <tr>\n",
              "      <th>q16r</th>\n",
              "      <td>3</td>\n",
              "      <td>1</td>\n",
              "      <td>3</td>\n",
              "      <td>5</td>\n",
              "      <td>5</td>\n",
              "    </tr>\n",
              "    <tr>\n",
              "      <th>q16s</th>\n",
              "      <td>experienced</td>\n",
              "      <td>experienced</td>\n",
              "      <td>experienced</td>\n",
              "      <td>experienced</td>\n",
              "      <td>experienced</td>\n",
              "    </tr>\n",
              "    <tr>\n",
              "      <th>q16t</th>\n",
              "      <td>no</td>\n",
              "      <td>no</td>\n",
              "      <td>no</td>\n",
              "      <td>no</td>\n",
              "      <td>no</td>\n",
              "    </tr>\n",
              "    <tr>\n",
              "      <th>q16u</th>\n",
              "      <td>0.0</td>\n",
              "      <td>0.0</td>\n",
              "      <td>2.0</td>\n",
              "      <td>0.0</td>\n",
              "      <td>0.375</td>\n",
              "    </tr>\n",
              "    <tr>\n",
              "      <th>q16v</th>\n",
              "      <td>13</td>\n",
              "      <td>35</td>\n",
              "      <td>36</td>\n",
              "      <td>33</td>\n",
              "      <td>8</td>\n",
              "    </tr>\n",
              "    <tr>\n",
              "      <th>q16w</th>\n",
              "      <td>3</td>\n",
              "      <td>1</td>\n",
              "      <td>3</td>\n",
              "      <td>5</td>\n",
              "      <td>39</td>\n",
              "    </tr>\n",
              "    <tr>\n",
              "      <th>q16x</th>\n",
              "      <td>0.0</td>\n",
              "      <td>0.007576</td>\n",
              "      <td>0.001685</td>\n",
              "      <td>0.0</td>\n",
              "      <td>0.001755</td>\n",
              "    </tr>\n",
              "    <tr>\n",
              "      <th>q16y</th>\n",
              "      <td>101.0</td>\n",
              "      <td>23.0</td>\n",
              "      <td>363.0</td>\n",
              "      <td>50.0</td>\n",
              "      <td>91.072917</td>\n",
              "    </tr>\n",
              "    <tr>\n",
              "      <th>q16z</th>\n",
              "      <td>0</td>\n",
              "      <td>0</td>\n",
              "      <td>0</td>\n",
              "      <td>0</td>\n",
              "      <td>4</td>\n",
              "    </tr>\n",
              "    <tr>\n",
              "      <th>q16aa</th>\n",
              "      <td>0</td>\n",
              "      <td>0</td>\n",
              "      <td>0</td>\n",
              "      <td>0</td>\n",
              "      <td>0</td>\n",
              "    </tr>\n",
              "    <tr>\n",
              "      <th>q16ab</th>\n",
              "      <td>NaN</td>\n",
              "      <td>0.0</td>\n",
              "      <td>NaN</td>\n",
              "      <td>2.0</td>\n",
              "      <td>1.0</td>\n",
              "    </tr>\n",
              "    <tr>\n",
              "      <th>q16ac</th>\n",
              "      <td>3.0</td>\n",
              "      <td>1.0</td>\n",
              "      <td>3.0</td>\n",
              "      <td>5.0</td>\n",
              "      <td>4.875</td>\n",
              "    </tr>\n",
              "  </tbody>\n",
              "</table>\n",
              "</div>\n",
              "    <div class=\"colab-df-buttons\">\n",
              "\n",
              "  <div class=\"colab-df-container\">\n",
              "    <button class=\"colab-df-convert\" onclick=\"convertToInteractive('df-7925435c-05da-4f2d-981f-d13ac496aa40')\"\n",
              "            title=\"Convert this dataframe to an interactive table.\"\n",
              "            style=\"display:none;\">\n",
              "\n",
              "  <svg xmlns=\"http://www.w3.org/2000/svg\" height=\"24px\" viewBox=\"0 -960 960 960\">\n",
              "    <path d=\"M120-120v-720h720v720H120Zm60-500h600v-160H180v160Zm220 220h160v-160H400v160Zm0 220h160v-160H400v160ZM180-400h160v-160H180v160Zm440 0h160v-160H620v160ZM180-180h160v-160H180v160Zm440 0h160v-160H620v160Z\"/>\n",
              "  </svg>\n",
              "    </button>\n",
              "\n",
              "  <style>\n",
              "    .colab-df-container {\n",
              "      display:flex;\n",
              "      gap: 12px;\n",
              "    }\n",
              "\n",
              "    .colab-df-convert {\n",
              "      background-color: #E8F0FE;\n",
              "      border: none;\n",
              "      border-radius: 50%;\n",
              "      cursor: pointer;\n",
              "      display: none;\n",
              "      fill: #1967D2;\n",
              "      height: 32px;\n",
              "      padding: 0 0 0 0;\n",
              "      width: 32px;\n",
              "    }\n",
              "\n",
              "    .colab-df-convert:hover {\n",
              "      background-color: #E2EBFA;\n",
              "      box-shadow: 0px 1px 2px rgba(60, 64, 67, 0.3), 0px 1px 3px 1px rgba(60, 64, 67, 0.15);\n",
              "      fill: #174EA6;\n",
              "    }\n",
              "\n",
              "    .colab-df-buttons div {\n",
              "      margin-bottom: 4px;\n",
              "    }\n",
              "\n",
              "    [theme=dark] .colab-df-convert {\n",
              "      background-color: #3B4455;\n",
              "      fill: #D2E3FC;\n",
              "    }\n",
              "\n",
              "    [theme=dark] .colab-df-convert:hover {\n",
              "      background-color: #434B5C;\n",
              "      box-shadow: 0px 1px 3px 1px rgba(0, 0, 0, 0.15);\n",
              "      filter: drop-shadow(0px 1px 2px rgba(0, 0, 0, 0.3));\n",
              "      fill: #FFFFFF;\n",
              "    }\n",
              "  </style>\n",
              "\n",
              "    <script>\n",
              "      const buttonEl =\n",
              "        document.querySelector('#df-7925435c-05da-4f2d-981f-d13ac496aa40 button.colab-df-convert');\n",
              "      buttonEl.style.display =\n",
              "        google.colab.kernel.accessAllowed ? 'block' : 'none';\n",
              "\n",
              "      async function convertToInteractive(key) {\n",
              "        const element = document.querySelector('#df-7925435c-05da-4f2d-981f-d13ac496aa40');\n",
              "        const dataTable =\n",
              "          await google.colab.kernel.invokeFunction('convertToInteractive',\n",
              "                                                    [key], {});\n",
              "        if (!dataTable) return;\n",
              "\n",
              "        const docLinkHtml = 'Like what you see? Visit the ' +\n",
              "          '<a target=\"_blank\" href=https://colab.research.google.com/notebooks/data_table.ipynb>data table notebook</a>'\n",
              "          + ' to learn more about interactive tables.';\n",
              "        element.innerHTML = '';\n",
              "        dataTable['output_type'] = 'display_data';\n",
              "        await google.colab.output.renderOutput(dataTable, element);\n",
              "        const docLink = document.createElement('div');\n",
              "        docLink.innerHTML = docLinkHtml;\n",
              "        element.appendChild(docLink);\n",
              "      }\n",
              "    </script>\n",
              "  </div>\n",
              "\n",
              "\n",
              "<div id=\"df-946e9fc6-c840-4517-89c7-72801898db5b\">\n",
              "  <button class=\"colab-df-quickchart\" onclick=\"quickchart('df-946e9fc6-c840-4517-89c7-72801898db5b')\"\n",
              "            title=\"Suggest charts.\"\n",
              "            style=\"display:none;\">\n",
              "\n",
              "<svg xmlns=\"http://www.w3.org/2000/svg\" height=\"24px\"viewBox=\"0 0 24 24\"\n",
              "     width=\"24px\">\n",
              "    <g>\n",
              "        <path d=\"M19 3H5c-1.1 0-2 .9-2 2v14c0 1.1.9 2 2 2h14c1.1 0 2-.9 2-2V5c0-1.1-.9-2-2-2zM9 17H7v-7h2v7zm4 0h-2V7h2v10zm4 0h-2v-4h2v4z\"/>\n",
              "    </g>\n",
              "</svg>\n",
              "  </button>\n",
              "\n",
              "<style>\n",
              "  .colab-df-quickchart {\n",
              "      --bg-color: #E8F0FE;\n",
              "      --fill-color: #1967D2;\n",
              "      --hover-bg-color: #E2EBFA;\n",
              "      --hover-fill-color: #174EA6;\n",
              "      --disabled-fill-color: #AAA;\n",
              "      --disabled-bg-color: #DDD;\n",
              "  }\n",
              "\n",
              "  [theme=dark] .colab-df-quickchart {\n",
              "      --bg-color: #3B4455;\n",
              "      --fill-color: #D2E3FC;\n",
              "      --hover-bg-color: #434B5C;\n",
              "      --hover-fill-color: #FFFFFF;\n",
              "      --disabled-bg-color: #3B4455;\n",
              "      --disabled-fill-color: #666;\n",
              "  }\n",
              "\n",
              "  .colab-df-quickchart {\n",
              "    background-color: var(--bg-color);\n",
              "    border: none;\n",
              "    border-radius: 50%;\n",
              "    cursor: pointer;\n",
              "    display: none;\n",
              "    fill: var(--fill-color);\n",
              "    height: 32px;\n",
              "    padding: 0;\n",
              "    width: 32px;\n",
              "  }\n",
              "\n",
              "  .colab-df-quickchart:hover {\n",
              "    background-color: var(--hover-bg-color);\n",
              "    box-shadow: 0 1px 2px rgba(60, 64, 67, 0.3), 0 1px 3px 1px rgba(60, 64, 67, 0.15);\n",
              "    fill: var(--button-hover-fill-color);\n",
              "  }\n",
              "\n",
              "  .colab-df-quickchart-complete:disabled,\n",
              "  .colab-df-quickchart-complete:disabled:hover {\n",
              "    background-color: var(--disabled-bg-color);\n",
              "    fill: var(--disabled-fill-color);\n",
              "    box-shadow: none;\n",
              "  }\n",
              "\n",
              "  .colab-df-spinner {\n",
              "    border: 2px solid var(--fill-color);\n",
              "    border-color: transparent;\n",
              "    border-bottom-color: var(--fill-color);\n",
              "    animation:\n",
              "      spin 1s steps(1) infinite;\n",
              "  }\n",
              "\n",
              "  @keyframes spin {\n",
              "    0% {\n",
              "      border-color: transparent;\n",
              "      border-bottom-color: var(--fill-color);\n",
              "      border-left-color: var(--fill-color);\n",
              "    }\n",
              "    20% {\n",
              "      border-color: transparent;\n",
              "      border-left-color: var(--fill-color);\n",
              "      border-top-color: var(--fill-color);\n",
              "    }\n",
              "    30% {\n",
              "      border-color: transparent;\n",
              "      border-left-color: var(--fill-color);\n",
              "      border-top-color: var(--fill-color);\n",
              "      border-right-color: var(--fill-color);\n",
              "    }\n",
              "    40% {\n",
              "      border-color: transparent;\n",
              "      border-right-color: var(--fill-color);\n",
              "      border-top-color: var(--fill-color);\n",
              "    }\n",
              "    60% {\n",
              "      border-color: transparent;\n",
              "      border-right-color: var(--fill-color);\n",
              "    }\n",
              "    80% {\n",
              "      border-color: transparent;\n",
              "      border-right-color: var(--fill-color);\n",
              "      border-bottom-color: var(--fill-color);\n",
              "    }\n",
              "    90% {\n",
              "      border-color: transparent;\n",
              "      border-bottom-color: var(--fill-color);\n",
              "    }\n",
              "  }\n",
              "</style>\n",
              "\n",
              "  <script>\n",
              "    async function quickchart(key) {\n",
              "      const quickchartButtonEl =\n",
              "        document.querySelector('#' + key + ' button');\n",
              "      quickchartButtonEl.disabled = true;  // To prevent multiple clicks.\n",
              "      quickchartButtonEl.classList.add('colab-df-spinner');\n",
              "      try {\n",
              "        const charts = await google.colab.kernel.invokeFunction(\n",
              "            'suggestCharts', [key], {});\n",
              "      } catch (error) {\n",
              "        console.error('Error during call to suggestCharts:', error);\n",
              "      }\n",
              "      quickchartButtonEl.classList.remove('colab-df-spinner');\n",
              "      quickchartButtonEl.classList.add('colab-df-quickchart-complete');\n",
              "    }\n",
              "    (() => {\n",
              "      let quickchartButtonEl =\n",
              "        document.querySelector('#df-946e9fc6-c840-4517-89c7-72801898db5b button');\n",
              "      quickchartButtonEl.style.display =\n",
              "        google.colab.kernel.accessAllowed ? 'block' : 'none';\n",
              "    })();\n",
              "  </script>\n",
              "</div>\n",
              "    </div>\n",
              "  </div>\n"
            ]
          },
          "metadata": {},
          "execution_count": 3
        }
      ],
      "source": [
        "df.head().T"
      ]
    },
    {
      "cell_type": "markdown",
      "metadata": {
        "deletable": false,
        "editable": false,
        "id": "mV9fSZv88Wfk",
        "nbgrader": {
          "checksum": "abffba52a1391fd598ceb32fa84a5960",
          "grade": false,
          "grade_id": "cell-91b1f66036bc756a",
          "locked": true,
          "schema_version": 1,
          "solution": false
        }
      },
      "source": [
        "---"
      ]
    },
    {
      "cell_type": "markdown",
      "metadata": {
        "deletable": false,
        "editable": false,
        "id": "FyEW1omS8Wfk",
        "nbgrader": {
          "checksum": "9a3601934d89674b0f1ddb8953f392b8",
          "grade": false,
          "grade_id": "cell-3cb43492c95c0336",
          "locked": true,
          "schema_version": 1,
          "solution": false
        }
      },
      "source": [
        "### Question 1 `(1 point)`\n",
        "What is the best choice of k according to the silhouette metric for clustering q4-q6? Only consider 2 <= k <= 8. (hint: take a look at `silhouette_score`).\n",
        "\n",
        "\n",
        "**NOTE**: For features with high variance, empty clusters can occur. There are several ways of dealing with empty clusters. A common approach is to drop empty clusters. The preferred approach for this lab is to treat the empty clusters as “singletons”, leaving them empty with single point placeholders (so no need to drop anything for the purposes of the lab).\n"
      ]
    },
    {
      "cell_type": "code",
      "execution_count": null,
      "metadata": {
        "deletable": false,
        "id": "SHN499lB8Wfl",
        "nbgrader": {
          "checksum": "d870b56ad1274ceed7a8c1ad14120f4d",
          "grade": false,
          "grade_id": "cell-35daa961ef9ef163",
          "locked": false,
          "schema_version": 1,
          "solution": true
        },
        "colab": {
          "base_uri": "https://localhost:8080/"
        },
        "outputId": "343548ef-d23f-43f7-9130-27dac62c4ebd"
      },
      "outputs": [
        {
          "output_type": "stream",
          "name": "stdout",
          "text": [
            "2\n"
          ]
        }
      ],
      "source": [
        "#Make sure you return the answer value in this function.\n",
        "#The return value should be an integer.\n",
        "def q1(df):\n",
        "\n",
        "  # YOUR CODE HERE\n",
        "  # For KMeans use argument n_init = 10 when applicable.\n",
        "  X = df[['q4','q5','q6']]\n",
        "  silhouette_scores = []\n",
        "  for k in range(2, 9):\n",
        "    kmeans = KMeans(n_clusters=k, random_state=42, n_init=10)\n",
        "    kmeans.fit(X)\n",
        "    cluster_labels = kmeans.labels_\n",
        "    label_checker = np.unique(cluster_labels)\n",
        "    for label in label_checker:\n",
        "      if label not in cluster_labels:\n",
        "        singleton = kmeans.cluster_centers_[label]\n",
        "    score = silhouette_score(X, cluster_labels)\n",
        "    silhouette_scores.append(score)\n",
        "  best_k = 2 + silhouette_scores.index(max(silhouette_scores))\n",
        "  return best_k\n",
        "  raise NotImplementedError()\n",
        "\n",
        "print(q1(df))"
      ]
    },
    {
      "cell_type": "markdown",
      "metadata": {
        "deletable": false,
        "editable": false,
        "id": "t1USbOiZ8Wfo",
        "nbgrader": {
          "checksum": "9229f3626bea7238f91b319b76f8d6c1",
          "grade": false,
          "grade_id": "cell-1f4af152457c700f",
          "locked": true,
          "schema_version": 1,
          "solution": false
        }
      },
      "source": [
        "What is the best choice of k?"
      ]
    },
    {
      "cell_type": "code",
      "execution_count": null,
      "metadata": {
        "deletable": false,
        "id": "IiP-7-BI8Wfp",
        "nbgrader": {
          "checksum": "e686f8bb8933c06c0b80f1d3a0ab7c4c",
          "grade": true,
          "grade_id": "cell-75f42d06e03fe139",
          "locked": false,
          "points": 1,
          "schema_version": 1,
          "solution": true
        },
        "colab": {
          "base_uri": "https://localhost:8080/"
        },
        "outputId": "2666bf02-6920-4a89-a19f-29d289a4ecf2"
      },
      "outputs": [
        {
          "output_type": "execute_result",
          "data": {
            "text/plain": [
              "2"
            ]
          },
          "metadata": {},
          "execution_count": 5
        }
      ],
      "source": [
        "2"
      ]
    },
    {
      "cell_type": "markdown",
      "metadata": {
        "deletable": false,
        "editable": false,
        "id": "nR7L0bqm8Wft",
        "nbgrader": {
          "checksum": "4d1db294cd60c6368ab7f1cc287ac861",
          "grade": false,
          "grade_id": "cell-3f1e7c00e311da4b",
          "locked": true,
          "schema_version": 1,
          "solution": false
        }
      },
      "source": [
        "### Question 2 `(1 point)`\n",
        "What is the best choice of k according to the silhouette metric for clustering q7-q10? Only consider 2 <= k <= 8.\n",
        "\n",
        "**Note:** Keep in mind, there may be missing values in this part of the dataset! For these missing values, first find the subset of data specified for this question (q7-q10), then replace the missing values with 0. We do this since the missing values from q7-q10 are most commonly because of taking the log's of values of 0 from q3-q6."
      ]
    },
    {
      "cell_type": "code",
      "execution_count": null,
      "metadata": {
        "deletable": false,
        "id": "Jv9s-92L8Wft",
        "nbgrader": {
          "checksum": "9cf8b96c08dc833c7b88ee35362ed959",
          "grade": false,
          "grade_id": "cell-dc62c66cc9acf621",
          "locked": false,
          "schema_version": 1,
          "solution": true
        },
        "colab": {
          "base_uri": "https://localhost:8080/"
        },
        "outputId": "9bbe004c-cd44-4df2-ba29-923d15e6d3a4"
      },
      "outputs": [
        {
          "output_type": "stream",
          "name": "stdout",
          "text": [
            "2\n"
          ]
        }
      ],
      "source": [
        "#Make sure you return the answer value in this function.\n",
        "#The return value should be an integer.\n",
        "def q2(df):\n",
        "\n",
        "  # YOUR CODE HERE\n",
        "  # For KMeans use argument n_init = 10 when applicable.\n",
        "  X = df[['q7','q8','q9', 'q10']].copy()\n",
        "  X.fillna(0, inplace=True)\n",
        "  silhouette_scores = []\n",
        "  for k in range(2, 9):\n",
        "    kmeans = KMeans(n_clusters=k, random_state=42, n_init=10)\n",
        "    kmeans.fit(X)\n",
        "    cluster_labels = kmeans.labels_\n",
        "    score = silhouette_score(X, cluster_labels)\n",
        "    silhouette_scores.append(score)\n",
        "  best_k = 2 + silhouette_scores.index(max(silhouette_scores))\n",
        "  return best_k\n",
        "  raise NotImplementedError()\n",
        "\n",
        "print(q2(df))"
      ]
    },
    {
      "cell_type": "markdown",
      "metadata": {
        "deletable": false,
        "editable": false,
        "id": "ohkPzjsf8Wfz",
        "nbgrader": {
          "checksum": "13a5d949504f1ed6dbf3bf474d135175",
          "grade": false,
          "grade_id": "cell-a798fe1067889c85",
          "locked": true,
          "schema_version": 1,
          "solution": false
        }
      },
      "source": [
        "What is the best choice of k?"
      ]
    },
    {
      "cell_type": "code",
      "execution_count": null,
      "metadata": {
        "deletable": false,
        "id": "WwlzPYjj8Wf0",
        "nbgrader": {
          "checksum": "39518f72ac99d22c2be6e053d683ecb3",
          "grade": true,
          "grade_id": "cell-b9c0fc321a251e1e",
          "locked": false,
          "points": 0.5,
          "schema_version": 1,
          "solution": true
        },
        "colab": {
          "base_uri": "https://localhost:8080/"
        },
        "outputId": "4405c64d-b2aa-40cc-aa6c-09f4a68b793d"
      },
      "outputs": [
        {
          "output_type": "execute_result",
          "data": {
            "text/plain": [
              "2"
            ]
          },
          "metadata": {},
          "execution_count": 7
        }
      ],
      "source": [
        "2"
      ]
    },
    {
      "cell_type": "markdown",
      "metadata": {
        "deletable": false,
        "editable": false,
        "id": "QW6AW5SN8Wf3",
        "nbgrader": {
          "checksum": "685cbed1a7666b907cfd74876798b246",
          "grade": false,
          "grade_id": "cell-abc5d1274688008b",
          "locked": true,
          "schema_version": 1,
          "solution": false
        }
      },
      "source": [
        "### Question 3 `(1 point)`\n",
        "What is the best choice of k according to the silhouette metric for clustering q11-q13? Only consider 2 <= k <= 8.\n",
        "\n",
        "**Note:** Keep in mind, there may be missing values in this part of the dataset! For these missing values, first find the subset of data specified for this question (q11-q13), then drop rows that have missing values."
      ]
    },
    {
      "cell_type": "code",
      "execution_count": null,
      "metadata": {
        "deletable": false,
        "id": "FU0QGeDx8Wf6",
        "nbgrader": {
          "checksum": "79b98812400934790474017de005b61b",
          "grade": false,
          "grade_id": "cell-fa2944f22a609780",
          "locked": false,
          "schema_version": 1,
          "solution": true
        },
        "colab": {
          "base_uri": "https://localhost:8080/"
        },
        "outputId": "a698a697-06d7-4a26-eb77-3a701320f8d8"
      },
      "outputs": [
        {
          "output_type": "stream",
          "name": "stdout",
          "text": [
            "8\n"
          ]
        }
      ],
      "source": [
        "#Make sure you return the answer value in this function.\n",
        "#The return value should be an integer.\n",
        "def q3(df):\n",
        "\n",
        "  # YOUR CODE HERE\n",
        "  # For KMeans use argument n_init = 10 when applicable.\n",
        "  X = df[['q11','q12','q13']].copy()\n",
        "  X.dropna(inplace=True)\n",
        "  silhouette_scores = []\n",
        "  for k in range(2, 9):\n",
        "    kmeans = KMeans(n_clusters=k, random_state=42, n_init=10)\n",
        "    kmeans.fit(X)\n",
        "    cluster_labels = kmeans.labels_\n",
        "    score = silhouette_score(X, cluster_labels)\n",
        "    silhouette_scores.append(score)\n",
        "  best_k = 2 + silhouette_scores.index(max(silhouette_scores))\n",
        "  return best_k\n",
        "  raise NotImplementedError()\n",
        "\n",
        "print(q3(df))"
      ]
    },
    {
      "cell_type": "markdown",
      "metadata": {
        "deletable": false,
        "editable": false,
        "id": "Y-5NyKXZ8Wf_",
        "nbgrader": {
          "checksum": "7f1e4d9e7bc46ed5b72756983c3ea7d1",
          "grade": false,
          "grade_id": "cell-ffde459d3d7f30d4",
          "locked": true,
          "schema_version": 1,
          "solution": false
        }
      },
      "source": [
        "What is the best choice of k?"
      ]
    },
    {
      "cell_type": "code",
      "execution_count": null,
      "metadata": {
        "deletable": false,
        "id": "AZfZebXo8WgB",
        "nbgrader": {
          "checksum": "286a814a2fc12cff437655784716f2d7",
          "grade": true,
          "grade_id": "cell-dd60c729c46b5610",
          "locked": false,
          "points": 0.5,
          "schema_version": 1,
          "solution": true
        },
        "colab": {
          "base_uri": "https://localhost:8080/"
        },
        "outputId": "8c7aafd2-b875-4f11-8462-8b8514164da2"
      },
      "outputs": [
        {
          "output_type": "execute_result",
          "data": {
            "text/plain": [
              "8"
            ]
          },
          "metadata": {},
          "execution_count": 9
        }
      ],
      "source": [
        "8"
      ]
    },
    {
      "cell_type": "markdown",
      "metadata": {
        "deletable": false,
        "editable": false,
        "id": "aQMzO6nF8WgJ",
        "nbgrader": {
          "checksum": "a18ebc832af60a47193b79496235a06c",
          "grade": false,
          "grade_id": "cell-3bf4719c7aa218c6",
          "locked": true,
          "schema_version": 1,
          "solution": false
        }
      },
      "source": [
        "### Question 4 `(1 point)`\n",
        "Take the best clustering (i.e., best value of K) from Question 3 and using the same subset of data from q11-q13, list the number of data points in each cluster. Return your answer in dictionary form (i.e. `ans = {0: 100, 1: 200, ...}`)."
      ]
    },
    {
      "cell_type": "code",
      "execution_count": null,
      "metadata": {
        "deletable": false,
        "id": "ztW4Dgbc8WgN",
        "nbgrader": {
          "checksum": "cc9c33b42265e3a41d8fefb18770a4e8",
          "grade": false,
          "grade_id": "cell-24fde636c2f83a67",
          "locked": false,
          "schema_version": 1,
          "solution": true
        }
      },
      "outputs": [],
      "source": [
        "#Make sure you return the answer value in this function.\n",
        "#The return value should be an dictionary. Eg : {0:1000,1:500,2:1460}.\n",
        "def q4(df):\n",
        "\n",
        "  # YOUR CODE HERE\n",
        "  # For KMeans use argument n_init = 10 when applicable.\n",
        "  X = df[['q11','q12','q13']].copy()\n",
        "  X.dropna(inplace=True)\n",
        "  kmeans = KMeans(n_clusters=8, random_state=42, n_init=10)\n",
        "  kmeans.fit(X)\n",
        "  cluster_labels = kmeans.labels_\n",
        "  X['Clusters'] = cluster_labels\n",
        "  cluster_amounts = X['Clusters'].value_counts()\n",
        "  return cluster_amounts.to_dict()\n",
        "  raise NotImplementedError()"
      ]
    },
    {
      "cell_type": "code",
      "execution_count": null,
      "metadata": {
        "deletable": false,
        "editable": false,
        "id": "iIUdLPIw8WgQ",
        "nbgrader": {
          "checksum": "99637ce263f2207d1701716f5f1f44ca",
          "grade": true,
          "grade_id": "cell-2deca552fa9f803f",
          "locked": true,
          "points": 1,
          "schema_version": 1,
          "solution": false
        },
        "colab": {
          "base_uri": "https://localhost:8080/"
        },
        "outputId": "aede137f-296c-4fd9-fb96-e6786518fe38"
      },
      "outputs": [
        {
          "output_type": "stream",
          "name": "stdout",
          "text": [
            "{0: 9831, 6: 5724, 7: 3301, 5: 3216, 4: 3037, 1: 2140, 2: 1632, 3: 1228}\n"
          ]
        }
      ],
      "source": [
        "#This is an graded cell, do not edit\n",
        "print(q4(df))"
      ]
    },
    {
      "cell_type": "markdown",
      "metadata": {
        "deletable": false,
        "editable": false,
        "id": "xgii61fI8WgT",
        "nbgrader": {
          "checksum": "f455a94d03bf20a31ce26a2da672ee98",
          "grade": false,
          "grade_id": "cell-4277f89074807c16",
          "locked": true,
          "schema_version": 1,
          "solution": false
        }
      },
      "source": [
        "### Question 5 `(1 point)`\n",
        "Consider the best clustering from Question 3. Were there clusters that represented very funny but useless reviewers (check column definitions for columns corresponding to funny, useless, etc.)?  If so, print the center of that cluster."
      ]
    },
    {
      "cell_type": "code",
      "execution_count": null,
      "metadata": {
        "deletable": false,
        "id": "_XzB8j6f8WgU",
        "nbgrader": {
          "checksum": "d2664de57a82a4d02c7d529617a1450c",
          "grade": false,
          "grade_id": "cell-550e8e6942843343",
          "locked": false,
          "schema_version": 1,
          "solution": true
        }
      },
      "outputs": [],
      "source": [
        "#Make sure you return the answer value in this function.\n",
        "#The return value should be a list. Eg : [10, 30, 54].\n",
        "def q5(df):\n",
        "\n",
        "  # YOUR CODE HERE\n",
        "  # For KMeans use argument n_init = 10 when applicable.\n",
        "  best_k = 8\n",
        "  X = df[['q11','q12','q13']].copy()\n",
        "  X.dropna(inplace=True)\n",
        "  kmeans = KMeans(n_clusters=best_k, random_state=42, n_init=10)\n",
        "  kmeans.fit(X)\n",
        "  X['Clusters'] = kmeans.labels_\n",
        "  X['q12-q13'] = X['q12']-X['q13']\n",
        "  clusters_by_diff = X.groupby('Clusters')['q12-q13'].mean().to_frame()\n",
        "  funny_but_useless_cluster = clusters_by_diff['q12-q13'].idxmax()\n",
        "  center = kmeans.cluster_centers_[funny_but_useless_cluster]\n",
        "  answer = center.tolist()\n",
        "  return answer\n",
        "  raise NotImplementedError()"
      ]
    },
    {
      "cell_type": "code",
      "execution_count": null,
      "metadata": {
        "deletable": false,
        "editable": false,
        "id": "g22ke0I48WgX",
        "nbgrader": {
          "checksum": "36e1fb3627b616460376cfe2db01762c",
          "grade": true,
          "grade_id": "cell-5c9ad8f64f9e3cb9",
          "locked": true,
          "points": 1,
          "schema_version": 1,
          "solution": false
        },
        "colab": {
          "base_uri": "https://localhost:8080/"
        },
        "outputId": "27e80376-67cd-4554-f6bf-6ad4601d1dfd"
      },
      "outputs": [
        {
          "output_type": "stream",
          "name": "stdout",
          "text": [
            "[ 1.1 98.3  0.6]\n"
          ]
        }
      ],
      "source": [
        "#This is a graded cell, do not edit\n",
        "print(np.round_(q5(df), decimals=1, out=None))"
      ]
    },
    {
      "cell_type": "markdown",
      "metadata": {
        "deletable": false,
        "editable": false,
        "id": "U2yg2Z2_8Wgd",
        "nbgrader": {
          "checksum": "423fac1c99ce7c9090dd9e96e6778777",
          "grade": false,
          "grade_id": "cell-303792a4ac61cb3a",
          "locked": true,
          "schema_version": 1,
          "solution": false
        }
      },
      "source": [
        "### Question 6 `(1 point)`\n",
        "Consider the best clustering from Question 3. What was the centroid of the cluster that represented relatively uniform strength in all voting categories?"
      ]
    },
    {
      "cell_type": "code",
      "execution_count": null,
      "metadata": {
        "deletable": false,
        "id": "94isPDi08Wgf",
        "nbgrader": {
          "checksum": "9b6ebc1ed5ed8d8042dcf7cd49952b57",
          "grade": false,
          "grade_id": "cell-391c7439f978dff8",
          "locked": false,
          "schema_version": 1,
          "solution": true
        }
      },
      "outputs": [],
      "source": [
        "#Make sure you return the answer value in this function.\n",
        "#The return value should be a centroid in list form. Eg : [10, 10.5, 13].\n",
        "def q6(df):\n",
        "\n",
        "  # YOUR CODE HERE\n",
        "  # For KMeans use argument n_init = 10 when applicable.\n",
        "  X = df[['q11', 'q12', 'q13']].copy()\n",
        "  X.dropna(inplace=True)\n",
        "  kmeans = KMeans(n_clusters=8, random_state=42, n_init=10)\n",
        "  kmeans.fit(X)\n",
        "  cluster_centers = []\n",
        "  for cluster in range(8):\n",
        "    cluster_center = kmeans.cluster_centers_[cluster]\n",
        "    cluster_centers.append(cluster_center)\n",
        "  stds = [np.std(arr) for arr in cluster_centers]\n",
        "  uniform_cluster = np.argmin(stds)\n",
        "  center_uniform = kmeans.cluster_centers_[uniform_cluster]\n",
        "  return center_uniform\n",
        "  raise NotImplementedError()"
      ]
    },
    {
      "cell_type": "code",
      "execution_count": null,
      "metadata": {
        "deletable": false,
        "editable": false,
        "id": "GKePHYay8Wgl",
        "nbgrader": {
          "checksum": "cfcf6b7a02a8426368b49ab70898113b",
          "grade": true,
          "grade_id": "cell-4a75c628cdd62ed3",
          "locked": true,
          "points": 1,
          "schema_version": 1,
          "solution": false
        },
        "colab": {
          "base_uri": "https://localhost:8080/"
        },
        "outputId": "fa74fa9d-8f68-4785-9356-cb28a19fef11"
      },
      "outputs": [
        {
          "output_type": "stream",
          "name": "stdout",
          "text": [
            "[31.455741   30.37879937 38.1627805 ]\n"
          ]
        }
      ],
      "source": [
        "#This is a graded cell, do not edit\n",
        "print(q6(df))"
      ]
    },
    {
      "cell_type": "markdown",
      "metadata": {
        "deletable": false,
        "editable": false,
        "id": "BlCXYH7J8Wgp",
        "nbgrader": {
          "checksum": "7277b47e7131491c1b5bc8487bc7f848",
          "grade": false,
          "grade_id": "cell-b29200abdbf3f648",
          "locked": true,
          "schema_version": 1,
          "solution": false
        }
      },
      "source": [
        "### Question 7 `(1 point)`\n",
        "Cluster the dataset using $k = 7$ and using features q7-q15 (refer to the column descriptions if needed).\n",
        "What is the silhouette metric for this clustering?\n",
        "For a more in-depth understanding of cluster analysis with silhouette, look [here](http://scikit-learn.org/stable/auto_examples/cluster/plot_kmeans_silhouette_analysis.html).\n",
        "\n",
        "As before, fill NaN values in q7-q10 with 0, but drop rows that have NaN values from q11-q15."
      ]
    },
    {
      "cell_type": "code",
      "execution_count": null,
      "metadata": {
        "deletable": false,
        "id": "P5AW-1Hj8Wgq",
        "nbgrader": {
          "checksum": "aadc8b4d3daea84bcdf7326f7d9e1e48",
          "grade": false,
          "grade_id": "cell-692872a9776a2f81",
          "locked": false,
          "schema_version": 1,
          "solution": true
        }
      },
      "outputs": [],
      "source": [
        "#Make sure you return the answer value in this function.\n",
        "#The return value should be a float.\n",
        "def q7(df):\n",
        "\n",
        "  # YOUR CODE HERE\n",
        "  # For KMeans use argument n_init = 10 when applicable.\n",
        "  X = df[['q7','q8','q9','q10','q11','q12','q13','q14','q15']].copy()\n",
        "  X[['q7', 'q8', 'q9', 'q10']] = X[['q7', 'q8', 'q9', 'q10']].fillna(0)\n",
        "  X = X.dropna(subset=['q11', 'q12', 'q13', 'q14', 'q15'])\n",
        "  kmeans = KMeans(n_clusters=7, random_state=42, n_init=10)\n",
        "  labels = kmeans.fit_predict(X)\n",
        "  silhouette_avg = silhouette_score(X, labels)\n",
        "  return silhouette_avg\n",
        "  raise NotImplementedError()"
      ]
    },
    {
      "cell_type": "code",
      "execution_count": null,
      "metadata": {
        "deletable": false,
        "editable": false,
        "id": "Kx23kyP18Wgw",
        "nbgrader": {
          "checksum": "7c847dc80333efefec63b12bce9a3c23",
          "grade": true,
          "grade_id": "cell-d5a3ed8462b9b40b",
          "locked": true,
          "points": 1,
          "schema_version": 1,
          "solution": false
        },
        "colab": {
          "base_uri": "https://localhost:8080/"
        },
        "outputId": "ac0ab473-38a0-41cd-ac7d-ffaf8c56e810"
      },
      "outputs": [
        {
          "output_type": "stream",
          "name": "stdout",
          "text": [
            "0.4757489954135929\n"
          ]
        }
      ],
      "source": [
        "#This is a graded cell, do not edit\n",
        "print(q7(df))"
      ]
    },
    {
      "cell_type": "markdown",
      "metadata": {
        "deletable": false,
        "editable": false,
        "id": "ghXtWRlm8Wg1",
        "nbgrader": {
          "checksum": "b5206e977bdec3a2a2da9a55d42539e1",
          "grade": false,
          "grade_id": "cell-bb20d152047de4c0",
          "locked": true,
          "schema_version": 1,
          "solution": false
        }
      },
      "source": [
        "### Question 8 `(1 point)`\n",
        "Cluster the dataset using $k = 7$ and using features q7-q15 (refer to the column descriptions if needed).\n",
        "\n",
        "What is the average q3 value in each of the clusters? Replace/fill NaN values for q7-q15 as you have done for previous questions."
      ]
    },
    {
      "cell_type": "code",
      "execution_count": null,
      "metadata": {
        "deletable": false,
        "id": "7VLNa7ZT8Wg2",
        "nbgrader": {
          "checksum": "cec8fcc62994a8c42d2a828240cf8d70",
          "grade": false,
          "grade_id": "cell-ce75d2c2b37a5939",
          "locked": false,
          "schema_version": 1,
          "solution": true
        }
      },
      "outputs": [],
      "source": [
        "#Make sure you return the answer value in this function.\n",
        "#The return value should be an Array. Eg : [10, 30, 54].\n",
        "def q8(df):\n",
        "\n",
        "  # YOUR CODE HERE\n",
        "  # For KMeans use argument n_init = 10 when applicable.\n",
        "  Y = df.copy()\n",
        "  Y[['q7', 'q8', 'q9', 'q10']] = Y[['q7', 'q8', 'q9', 'q10']].fillna(0)\n",
        "  Y = Y.dropna(subset=['q11', 'q12', 'q13', 'q14', 'q15'])\n",
        "  X = df[['q7','q8','q9','q10','q11','q12','q13','q14','q15']].copy()\n",
        "  X[['q7', 'q8', 'q9', 'q10']] = X[['q7', 'q8', 'q9', 'q10']].fillna(0)\n",
        "  X = X.dropna(subset=['q11', 'q12', 'q13', 'q14', 'q15'])\n",
        "  kmeans = KMeans(n_clusters=7, random_state=42, n_init=10)\n",
        "  labels = kmeans.fit_predict(X)\n",
        "  Y['Cluster'] = labels\n",
        "  avg_q3 = Y.groupby('Cluster')['q3'].mean().values\n",
        "  return avg_q3\n",
        "  raise NotImplementedError()"
      ]
    },
    {
      "cell_type": "code",
      "execution_count": null,
      "metadata": {
        "deletable": false,
        "editable": false,
        "id": "uU1zA9hQ8Wg7",
        "nbgrader": {
          "checksum": "8fcac0a1587052a68abfd2dc22e6a444",
          "grade": true,
          "grade_id": "cell-125a523ba764c027",
          "locked": true,
          "points": 1,
          "schema_version": 1,
          "solution": false
        },
        "colab": {
          "base_uri": "https://localhost:8080/"
        },
        "outputId": "7f80982d-0160-4d22-eb63-7769056a6246"
      },
      "outputs": [
        {
          "output_type": "stream",
          "name": "stdout",
          "text": [
            "[3.8 4.6 4.6 2.5 4.8 1.4 3.6]\n"
          ]
        }
      ],
      "source": [
        "#This is a graded cell, do not edit\n",
        "print(np.round_(q8(df), decimals=1, out=None))"
      ]
    },
    {
      "cell_type": "markdown",
      "metadata": {
        "deletable": false,
        "editable": false,
        "id": "ImMBccCv8WhE",
        "nbgrader": {
          "checksum": "539014b1c77f0d5159b9158216999ffa",
          "grade": false,
          "grade_id": "cell-32dc52f985a4469b",
          "locked": true,
          "schema_version": 1,
          "solution": false
        }
      },
      "source": [
        "### Question 9 `(2 points)`\n",
        "\n",
        "We will now cluster the dataset using all features in the dataset.\n",
        "\n",
        "We can drop features with high incidents of `-inf` / `NaN` / blank values. We will also perform some form of normalization on these features so as not to over bias the clustering towards the larger magnitude features.\n",
        "\n",
        "Let's go ahead and get started."
      ]
    },
    {
      "cell_type": "markdown",
      "metadata": {
        "id": "retvc8Yzp60D"
      },
      "source": [
        "\n",
        "#### Data Cleansing and Normalization ####\n",
        "**Check how many null values there are in each column.**"
      ]
    },
    {
      "cell_type": "code",
      "execution_count": null,
      "metadata": {
        "deletable": false,
        "editable": false,
        "id": "vdt07lvl8WhH",
        "nbgrader": {
          "checksum": "26c5eee0748fe77d6f219f2f654adc69",
          "grade": false,
          "grade_id": "cell-00e25d9828db774a",
          "locked": true,
          "schema_version": 1,
          "solution": false
        },
        "colab": {
          "base_uri": "https://localhost:8080/"
        },
        "outputId": "f4daa009-c304-41e0-e9f3-8908dd28a476"
      },
      "outputs": [
        {
          "output_type": "execute_result",
          "data": {
            "text/plain": [
              "user_id        0\n",
              "q3             0\n",
              "q4             0\n",
              "q5             0\n",
              "q6             0\n",
              "q7             0\n",
              "q8         35280\n",
              "q9         36743\n",
              "q10        24338\n",
              "q11        21383\n",
              "q12        21383\n",
              "q13        21383\n",
              "q14            0\n",
              "q15            0\n",
              "q16a           0\n",
              "q16b           0\n",
              "q16c           0\n",
              "q16d           0\n",
              "q16e           0\n",
              "q16f           0\n",
              "q16g           0\n",
              "q16h           0\n",
              "q16i           0\n",
              "q16j           0\n",
              "q16k           0\n",
              "q16l           0\n",
              "q16m           0\n",
              "q16n           0\n",
              "q16o           0\n",
              "q16p           0\n",
              "q16q           0\n",
              "q16r           0\n",
              "q16s           0\n",
              "q16t           0\n",
              "q16u           0\n",
              "q16v           0\n",
              "q16w           0\n",
              "q16x           0\n",
              "q16y           0\n",
              "q16z           0\n",
              "q16aa          0\n",
              "q16ab      14469\n",
              "q16ac          0\n",
              "dtype: int64"
            ]
          },
          "metadata": {},
          "execution_count": 178
        }
      ],
      "source": [
        "# YOUR CODE HERE\n",
        "df.isnull().sum()"
      ]
    },
    {
      "cell_type": "markdown",
      "metadata": {
        "deletable": false,
        "editable": false,
        "id": "yzAo6QRS8WhO",
        "nbgrader": {
          "checksum": "059796c35a25a2239b6af643d573077c",
          "grade": false,
          "grade_id": "cell-dda1709aadca4b74",
          "locked": true,
          "schema_version": 1,
          "solution": false
        }
      },
      "source": [
        "It looks like q8 - q13 and q16ab have a lot of null values. Let's see what the impact is of removing the two columns with the most null values.\n",
        "\n",
        "**Drop the two columns with the most NaN values, and then remove all rows with NaN values remaining.**"
      ]
    },
    {
      "cell_type": "code",
      "execution_count": null,
      "metadata": {
        "deletable": false,
        "editable": false,
        "id": "pSrZ9i3g8WhQ",
        "nbgrader": {
          "checksum": "c9201f034d5527471e11c4bdf4259a06",
          "grade": false,
          "grade_id": "cell-e67e9b14f016567d",
          "locked": true,
          "schema_version": 1,
          "solution": false
        }
      },
      "outputs": [],
      "source": [
        "# YOUR CODE HERE\n",
        "new_df = df.copy()\n",
        "nulls = new_df.isnull().sum()\n",
        "sort_nulls = nulls.sort_values(ascending=False)\n",
        "drop_columns = sort_nulls.head(2).index\n",
        "new_df = new_df.drop(columns=drop_columns)\n",
        "new_df = new_df.dropna()"
      ]
    },
    {
      "cell_type": "markdown",
      "metadata": {
        "deletable": false,
        "editable": false,
        "id": "gQbRuq_Z8Whb",
        "nbgrader": {
          "checksum": "55ec19beab75bcb01d51763aa77b7c7d",
          "grade": false,
          "grade_id": "cell-0832f08869a19534",
          "locked": true,
          "schema_version": 1,
          "solution": false
        }
      },
      "source": [
        "By removing two features, we have effectively doubled the number of rows remaining than if we just removed all rows with a NaN value. That's pretty good.  \n",
        "\n",
        "Now, let's preprocess categorical variables into dummy variables. (hint: look at `pd.get_dummies`)."
      ]
    },
    {
      "cell_type": "code",
      "execution_count": null,
      "metadata": {
        "id": "TuE4zwIBzDGZ"
      },
      "outputs": [],
      "source": [
        "# YOUR CODE HERE\n",
        "new_df.drop(columns='user_id', inplace=True)\n",
        "new_df = pd.get_dummies(new_df, columns=['q16s', 'q16t'])"
      ]
    },
    {
      "cell_type": "markdown",
      "metadata": {
        "deletable": false,
        "editable": false,
        "id": "AGnnilDI8Whl",
        "nbgrader": {
          "checksum": "7409a97cd6cc5a2203cb5953fd78951e",
          "grade": false,
          "grade_id": "cell-0bf07ed81b15a7c6",
          "locked": true,
          "schema_version": 1,
          "solution": false
        }
      },
      "source": [
        "Now, normalize the remaining values."
      ]
    },
    {
      "cell_type": "code",
      "execution_count": null,
      "metadata": {
        "deletable": false,
        "editable": false,
        "id": "-tYTGviT8Whm",
        "nbgrader": {
          "checksum": "d415896af702471cbf3bad5e3bbf2298",
          "grade": false,
          "grade_id": "cell-d0c0fa3af31b680b",
          "locked": true,
          "schema_version": 1,
          "solution": false
        }
      },
      "outputs": [],
      "source": [
        "# YOUR CODE HERE\n",
        "columns_to_normalize = new_df.columns.difference(['q16l', 'q16s_experienced', 'q16s_freshman', 'q16t_no', 'q16t_yes'])\n",
        "for column in columns_to_normalize:\n",
        "    mean = new_df[column].mean()\n",
        "    std = new_df[column].std()\n",
        "    new_df[column] = (new_df[column] - mean) / std"
      ]
    },
    {
      "cell_type": "markdown",
      "metadata": {
        "deletable": false,
        "editable": false,
        "id": "jSJjHlsc8Wht",
        "nbgrader": {
          "checksum": "26e9bec01f855d44456f65879afa7ccf",
          "grade": false,
          "grade_id": "cell-be1b2a4ecbcb5558",
          "locked": true,
          "schema_version": 1,
          "solution": false
        }
      },
      "source": [
        "Using the the \"sum of squared errors\" metric along with the elbow method (make a graph and visually examine for the elbow), what is the best k to use for this dataset? (Hint: look at the `inertia_` attribute for k-means in sklearn)."
      ]
    },
    {
      "cell_type": "code",
      "execution_count": null,
      "metadata": {
        "deletable": false,
        "id": "HoZOPumL8Whv",
        "nbgrader": {
          "checksum": "3971d6b7067c2e2b586a79b0fca34252",
          "grade": true,
          "grade_id": "cell-f49f54902337159c",
          "locked": false,
          "points": 2,
          "schema_version": 1,
          "solution": true
        },
        "colab": {
          "base_uri": "https://localhost:8080/",
          "height": 477
        },
        "outputId": "fadf5c6b-0c1e-4f04-ad28-aeb2e68632cb"
      },
      "outputs": [
        {
          "output_type": "display_data",
          "data": {
            "text/plain": [
              "<Figure size 640x480 with 1 Axes>"
            ],
            "image/png": "[encoded data removed]"
          },
          "metadata": {}
        }
      ],
      "source": [
        "# The return value should be a graph to visualize the elbow method and the value of k determined from that graph.\n",
        "\n",
        "# YOUR CODE HERE\n",
        "# For KMeans use argument n_init = 10 when applicable.\n",
        "inertia=[]\n",
        "for k in range(1,9):\n",
        "    kmeans = KMeans(n_clusters=k, random_state=42, n_init=10)\n",
        "    kmeans.fit(new_df)\n",
        "    inertia.append(kmeans.inertia_)\n",
        "\n",
        "plt.plot(range(1,9), inertia, 'bx-')\n",
        "plt.xlabel('Number of Clusters (k)')\n",
        "plt.ylabel('Inertia')\n",
        "plt.title('What is the best K?')\n",
        "plt.show()\n",
        "\n",
        "best_k = 2"
      ]
    },
    {
      "cell_type": "markdown",
      "metadata": {
        "id": "pbXEsAnx2-ik"
      },
      "source": [
        "**Answer: 2**"
      ]
    },
    {
      "cell_type": "markdown",
      "metadata": {
        "deletable": false,
        "editable": false,
        "id": "_-cRpVgA8Wh2",
        "nbgrader": {
          "checksum": "78e8416b2c9c63fb2e91cc747a982eb9",
          "grade": false,
          "grade_id": "cell-ed56b09f2baf02c7",
          "locked": true,
          "schema_version": 1,
          "solution": false
        }
      },
      "source": [
        "### Question 10 `(1 points)`\n",
        "For this question, please come up with your own question about this dataset and using a clustering technique as part of your method of answering it. Describe the question you propose and how clustering can answer that question. Feel free to use additional cells if needed.\n"
      ]
    },
    {
      "cell_type": "markdown",
      "metadata": {
        "id": "c9JeChN2CcsC"
      },
      "source": [
        "**Question: How often was it that a review was funny but useless? Were they very often? Were they rare? Or were they somewhere in between?**"
      ]
    },
    {
      "cell_type": "code",
      "execution_count": null,
      "metadata": {
        "id": "Xn1xen_8CuY3",
        "colab": {
          "base_uri": "https://localhost:8080/"
        },
        "outputId": "171d9ac5-61aa-44d7-8dcd-2c2e1f0ef8b3"
      },
      "outputs": [
        {
          "output_type": "stream",
          "name": "stdout",
          "text": [
            "Very rare\n"
          ]
        }
      ],
      "source": [
        "# YOUR CODE HERE\n",
        "def q10(df):\n",
        "  best_k = 8\n",
        "  X = df[['q11','q12','q13']].copy()\n",
        "  X.dropna(inplace=True)\n",
        "  kmeans = KMeans(n_clusters=best_k, random_state=42, n_init=10)\n",
        "  kmeans.fit(X)\n",
        "  X['Clusters'] = kmeans.labels_\n",
        "  X['q12-q13'] = X['q12']-X['q13']\n",
        "  clusters_by_diff = X.groupby('Clusters')['q12-q13'].mean().to_frame()\n",
        "  funny_but_useless_cluster = clusters_by_diff['q12-q13'].idxmax()\n",
        "  cluster_amounts = X['Clusters'].value_counts(ascending=True)\n",
        "  total_count = len(cluster_amounts)\n",
        "  first_third = total_count // 3\n",
        "  last_third = 2 * total_count // 3\n",
        "  if cluster_amounts.index.get_loc(funny_but_useless_cluster) < first_third:\n",
        "      result = \"Very rare\"\n",
        "  elif cluster_amounts.index.get_loc(funny_but_useless_cluster) < last_third:\n",
        "      result = \"Somewhere in between\"\n",
        "  else:\n",
        "      result = \"Very often\"\n",
        "  return result\n",
        "\n",
        "print(q10(df))"
      ]
    },
    {
      "cell_type": "markdown",
      "metadata": {
        "id": "5nkFsYVnD7ll"
      },
      "source": [
        "### **Written Answer**"
      ]
    },
    {
      "cell_type": "markdown",
      "metadata": {
        "id": "b-aokzFoDhWA"
      },
      "source": [
        "**Answer:** We can determine how often the reviews were funny but useless by comparing the cluster sizes and determining how big or small (compared to the rest of the data) the cluster that represented funny but useless reviews was."
      ]
    },
    {
      "cell_type": "markdown",
      "metadata": {
        "deletable": false,
        "editable": false,
        "id": "Ylv6UWqm8WiC",
        "nbgrader": {
          "checksum": "47c18987b74081b9f0e201d36229f33d",
          "grade": false,
          "grade_id": "cell-b549ed2cba475bb7",
          "locked": true,
          "schema_version": 1,
          "solution": false
        }
      },
      "source": [
        "## Bonus question (`2 Points`) - Reviewer overlap:\n",
        "\n",
        "Now, let's take a look back at what we were doing last week, and use that in junction with what we've learned from above today.\n",
        "\n",
        "For this bonus question, please:\n",
        "- Download last week's dataset\n",
        "- Aggregate cool, funny, and useful votes for each business id\n",
        "- You may transform the aggregations (take %, log, or leave it as it is)\n",
        "- Cluster this dataframe (you can choose k). Do you find any meaningful/interesting clusters?\n",
        "- Assign the cluster label to each business id\n",
        "- Merge this with users to show what clusters the reviewers have reviewed.\n",
        "\n",
        "\n",
        "**You should be returning a dataframe with the following structure in the end:**\n",
        "\n",
        "Rows: user IDs as indices.\n",
        "\n",
        "Columns: boolean columns describing if the user ID has a review for each of the labels determined from the K-Means clustering, a boolean column describing if the user ID has a review for all of the given labels, and a column composing of lists of cluster IDs that the given user ID has written reviews for."
      ]
    },
    {
      "cell_type": "code",
      "execution_count": 4,
      "metadata": {
        "id": "ZA7-1wpAE40P",
        "colab": {
          "base_uri": "https://localhost:8080/"
        },
        "outputId": "4f2ff538-3798-4db0-b8fb-302830ab1ead"
      },
      "outputs": [
        {
          "output_type": "stream",
          "name": "stdout",
          "text": [
            "--2023-09-13 17:27:59--  http://askoski.berkeley.edu/~zp/yelp_reviews.csv\n",
            "Resolving askoski.berkeley.edu (askoski.berkeley.edu)... 169.229.192.179\n",
            "Connecting to askoski.berkeley.edu (askoski.berkeley.edu)|169.229.192.179|:80... connected.\n",
            "HTTP request sent, awaiting response... 200 OK\n",
            "Length: 376638166 (359M) [text/csv]\n",
            "Saving to: ‘yelp_reviews.csv’\n",
            "\n",
            "yelp_reviews.csv    100%[===================>] 359.19M  39.6MB/s    in 9.7s    \n",
            "\n",
            "2023-09-13 17:28:09 (37.1 MB/s) - ‘yelp_reviews.csv’ saved [376638166/376638166]\n",
            "\n"
          ]
        }
      ],
      "source": [
        "# YOUR CODE HERE\n",
        "# For KMeans use argument n_init = 10 when applicable.\n",
        "!wget -nc http://askoski.berkeley.edu/~zp/yelp_reviews.csv\n",
        "new_frame = pd.read_csv('yelp_reviews.csv')"
      ]
    },
    {
      "cell_type": "code",
      "source": [
        "agg = new_frame.groupby('business_id')[['cool_votes', 'useful_votes', 'funny_votes']].sum()\n",
        "k = range(2,9)\n",
        "for cluster in k:\n",
        "  kmeans = KMeans(n_clusters=cluster, random_state=42, n_init=10)\n",
        "  kmeans.fit(agg)\n",
        "  agg['cluster_label'] = kmeans.labels_\n",
        "merge_this = agg.reset_index()\n",
        "merge_this = pd.merge(merge_this, new_frame, on = 'business_id')\n",
        "bonus_df = merge_this[['business_id', 'user_id', 'cool_votes_x', 'useful_votes_x', 'funny_votes_x', 'cluster_label']]"
      ],
      "metadata": {
        "id": "Mi9SaGPqljrC"
      },
      "execution_count": 12,
      "outputs": []
    },
    {
      "cell_type": "code",
      "execution_count": 13,
      "metadata": {
        "id": "EgyyE_xVteq8",
        "colab": {
          "base_uri": "https://localhost:8080/"
        },
        "outputId": "d1ab6f33-6319-4b9f-d34e-d26c0ab1c295"
      },
      "outputs": [
        {
          "output_type": "stream",
          "name": "stdout",
          "text": [
            "              business_id                 user_id  cool_votes_x  \\\n",
            "0  --5jkZ3-nUPZxUvtcbr8Uw  Z3QMIh7ZYf6Q7NbvHJey4Q             4   \n",
            "1  --5jkZ3-nUPZxUvtcbr8Uw  c8ghzViTRFM44VaccEnEYw             4   \n",
            "2  --5jkZ3-nUPZxUvtcbr8Uw  5kH4RrEyebBr75ASdxnzSg             4   \n",
            "3  --5jkZ3-nUPZxUvtcbr8Uw  GRuNDtXKvJgfG69rsqpXIQ             4   \n",
            "4  --5jkZ3-nUPZxUvtcbr8Uw  tCa2ajxRYbX_RiUX0VPlfA             4   \n",
            "\n",
            "   useful_votes_x  funny_votes_x  cluster_label  \n",
            "0               3              3              6  \n",
            "1               3              3              6  \n",
            "2               3              3              6  \n",
            "3               3              3              6  \n",
            "4               3              3              6  \n"
          ]
        }
      ],
      "source": [
        "#This is a graded cell, do not edit\n",
        "print(bonus_df.head())"
      ]
    },
    {
      "cell_type": "markdown",
      "metadata": {
        "id": "h7v7FfzrDKCo"
      },
      "source": [
        "*ⓒ Prof. Zachary Pardos, 2022*"
      ]
    }
  ],
  "metadata": {
    "colab": {
      "provenance": []
    },
    "kernelspec": {
      "display_name": "Python 3",
      "language": "python",
      "name": "python3"
    },
    "language_info": {
      "codemirror_mode": {
        "name": "ipython",
        "version": 3
      },
      "file_extension": ".py",
      "mimetype": "text/x-python",
      "name": "python",
      "nbconvert_exporter": "python",
      "pygments_lexer": "ipython3",
      "version": "3.6.9"
    }
  },
  "nbformat": 4,
  "nbformat_minor": 0
}