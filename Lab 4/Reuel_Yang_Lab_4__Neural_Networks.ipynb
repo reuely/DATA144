{
  "nbformat": 4,
  "nbformat_minor": 0,
  "metadata": {
    "colab": {
      "provenance": [],
      "collapsed_sections": [
        "GTO2KMti07__",
        "YAnuY8Sv1DoO",
        "ZlDfGvy61EMS",
        "1foS74O01FfP",
        "2rFY8D4Q1GsZ"
      ]
    },
    "kernelspec": {
      "name": "python3",
      "display_name": "Python 3"
    }
  },
  "cells": [
    {
      "cell_type": "markdown",
      "metadata": {
        "id": "1xxMXNDF7ckw"
      },
      "source": [
        "## DMA 2023 ##\n",
        "Make sure you fill in any place that says `YOUR CODE HERE` or `YOUR ANSWER HERE`, as well as your name below:"
      ]
    },
    {
      "cell_type": "code",
      "source": [
        "NAME = \"Reuel Yang\""
      ],
      "metadata": {
        "id": "5sdHHukr6mmS"
      },
      "execution_count": 209,
      "outputs": []
    },
    {
      "cell_type": "markdown",
      "metadata": {
        "id": "Oyb_RNpFreOr"
      },
      "source": [
        "# Lab 4: Neural Networks #\n",
        "**Please read the following instructions very carefully**\n",
        "\n",
        "## Working on the assignment / FAQs\n",
        "- **Always use the seed/random_state as *42* wherever applicable** (This is to ensure repeatability in answers, across questions, students and coding environments).\n",
        "- All questions will be graded manually.\n",
        "- Most questions have two cells:\n",
        "  - A code cell for your work/code\n",
        "  - A text cell for giving your final answer\n",
        "- The points each question carries are indicated.\n",
        "- Most assignments have bonus questions for extra credit, do try them out!\n",
        "- **Submitting the assignment** : Download the '.ipynb' and '.pdf' files from Colab and upload them to Gradescope. Do not delete any outputs from cells before submitting. Make sure to assign pages to questions when uploading your PDF to Gradescope.\n",
        "- That's about it. Happy coding!\n",
        "\n",
        "\n",
        "## About the dataset\n",
        "This assignment uses a dataset obtained from the JSE Data Archive that contains biological and self-reported activity traits of a sample of college students at a single university uploaded in 2013. Background Information on the dataset: http://jse.amstat.org/v21n2/froelich/eyecolorgender.txt\n",
        "\n",
        "For this lab, the dataset has already been split into a training set `df_train` and a test set `df_test`.\n"
      ]
    },
    {
      "cell_type": "code",
      "metadata": {
        "id": "yj9Uh79ereOs"
      },
      "source": [
        "import pandas as pd\n",
        "from sklearn.neural_network import MLPClassifier\n",
        "from sklearn.svm import SVC\n",
        "\n",
        "from sklearn import preprocessing\n",
        "from sklearn.preprocessing import StandardScaler, MinMaxScaler\n",
        "from sklearn.preprocessing import LabelEncoder, OneHotEncoder\n",
        "from sklearn.feature_extraction import DictVectorizer\n",
        "\n",
        "from sklearn.pipeline import Pipeline\n",
        "from sklearn.metrics import accuracy_score\n",
        "from sklearn.model_selection import train_test_split\n",
        "from sklearn.model_selection import GridSearchCV, ParameterGrid\n",
        "\n",
        "import numpy as np\n",
        "\n",
        "import warnings\n",
        "warnings.filterwarnings(\"ignore\")"
      ],
      "execution_count": 210,
      "outputs": []
    },
    {
      "cell_type": "code",
      "metadata": {
        "id": "n6SRFrhfreOt",
        "colab": {
          "base_uri": "https://localhost:8080/",
          "height": 599
        },
        "outputId": "6272444a-2df2-499d-c882-ea05e68c35b9"
      },
      "source": [
        "!wget http://askoski.berkeley.edu/~zp/lab_4_training.csv\n",
        "!wget http://askoski.berkeley.edu/~zp/lab_4_test.csv\n",
        "\n",
        "df_train = pd.read_csv('./lab_4_training.csv')\n",
        "df_test = pd.read_csv('./lab_4_test.csv')\n",
        "df_train.head()"
      ],
      "execution_count": 211,
      "outputs": [
        {
          "output_type": "stream",
          "name": "stdout",
          "text": [
            "--2023-09-27 18:42:06--  http://askoski.berkeley.edu/~zp/lab_4_training.csv\n",
            "Resolving askoski.berkeley.edu (askoski.berkeley.edu)... 169.229.192.179\n",
            "Connecting to askoski.berkeley.edu (askoski.berkeley.edu)|169.229.192.179|:80... connected.\n",
            "HTTP request sent, awaiting response... 200 OK\n",
            "Length: 79177 (77K) [text/csv]\n",
            "Saving to: ‘lab_4_training.csv.6’\n",
            "\n",
            "\rlab_4_training.csv.   0%[                    ]       0  --.-KB/s               \rlab_4_training.csv. 100%[===================>]  77.32K  --.-KB/s    in 0.04s   \n",
            "\n",
            "2023-09-27 18:42:06 (2.02 MB/s) - ‘lab_4_training.csv.6’ saved [79177/79177]\n",
            "\n",
            "--2023-09-27 18:42:06--  http://askoski.berkeley.edu/~zp/lab_4_test.csv\n",
            "Resolving askoski.berkeley.edu (askoski.berkeley.edu)... 169.229.192.179\n",
            "Connecting to askoski.berkeley.edu (askoski.berkeley.edu)|169.229.192.179|:80... connected.\n",
            "HTTP request sent, awaiting response... 200 OK\n",
            "Length: 26519 (26K) [text/csv]\n",
            "Saving to: ‘lab_4_test.csv.6’\n",
            "\n",
            "lab_4_test.csv.6    100%[===================>]  25.90K  --.-KB/s    in 0.02s   \n",
            "\n",
            "2023-09-27 18:42:06 (1.52 MB/s) - ‘lab_4_test.csv.6’ saved [26519/26519]\n",
            "\n"
          ]
        },
        {
          "output_type": "execute_result",
          "data": {
            "text/plain": [
              "   Unnamed: 0  gender  age    year eyecolor  height  miles  brothers  sisters  \\\n",
              "0         577    male   20   third    hazel    72.0  180.0         0        0   \n",
              "1         677    male   19  second    hazel    72.0  120.0         1        1   \n",
              "2        1738    male   20  second    brown    63.0   55.0         1        2   \n",
              "3        1355    male   20   third    green    78.0  200.0         0        0   \n",
              "4         891  female   19  second    green    67.0  280.0         2        0   \n",
              "\n",
              "   computertime exercise  exercisehours  musiccds  playgames  watchtv  \n",
              "0           5.0       No            0.0     100.0       10.0     10.0  \n",
              "1          16.0      Yes            9.0      70.0        3.0      5.0  \n",
              "2          15.0      Yes            4.5      15.0        4.0     13.0  \n",
              "3          10.0      Yes            9.0      20.0       10.0     10.0  \n",
              "4           4.0      Yes            2.0     164.0        0.0      2.0  "
            ],
            "text/html": [
              "\n",
              "  <div id=\"df-bbc36da8-7358-49b0-9d14-9c48a3004fdf\" class=\"colab-df-container\">\n",
              "    <div>\n",
              "<style scoped>\n",
              "    .dataframe tbody tr th:only-of-type {\n",
              "        vertical-align: middle;\n",
              "    }\n",
              "\n",
              "    .dataframe tbody tr th {\n",
              "        vertical-align: top;\n",
              "    }\n",
              "\n",
              "    .dataframe thead th {\n",
              "        text-align: right;\n",
              "    }\n",
              "</style>\n",
              "<table border=\"1\" class=\"dataframe\">\n",
              "  <thead>\n",
              "    <tr style=\"text-align: right;\">\n",
              "      <th></th>\n",
              "      <th>Unnamed: 0</th>\n",
              "      <th>gender</th>\n",
              "      <th>age</th>\n",
              "      <th>year</th>\n",
              "      <th>eyecolor</th>\n",
              "      <th>height</th>\n",
              "      <th>miles</th>\n",
              "      <th>brothers</th>\n",
              "      <th>sisters</th>\n",
              "      <th>computertime</th>\n",
              "      <th>exercise</th>\n",
              "      <th>exercisehours</th>\n",
              "      <th>musiccds</th>\n",
              "      <th>playgames</th>\n",
              "      <th>watchtv</th>\n",
              "    </tr>\n",
              "  </thead>\n",
              "  <tbody>\n",
              "    <tr>\n",
              "      <th>0</th>\n",
              "      <td>577</td>\n",
              "      <td>male</td>\n",
              "      <td>20</td>\n",
              "      <td>third</td>\n",
              "      <td>hazel</td>\n",
              "      <td>72.0</td>\n",
              "      <td>180.0</td>\n",
              "      <td>0</td>\n",
              "      <td>0</td>\n",
              "      <td>5.0</td>\n",
              "      <td>No</td>\n",
              "      <td>0.0</td>\n",
              "      <td>100.0</td>\n",
              "      <td>10.0</td>\n",
              "      <td>10.0</td>\n",
              "    </tr>\n",
              "    <tr>\n",
              "      <th>1</th>\n",
              "      <td>677</td>\n",
              "      <td>male</td>\n",
              "      <td>19</td>\n",
              "      <td>second</td>\n",
              "      <td>hazel</td>\n",
              "      <td>72.0</td>\n",
              "      <td>120.0</td>\n",
              "      <td>1</td>\n",
              "      <td>1</td>\n",
              "      <td>16.0</td>\n",
              "      <td>Yes</td>\n",
              "      <td>9.0</td>\n",
              "      <td>70.0</td>\n",
              "      <td>3.0</td>\n",
              "      <td>5.0</td>\n",
              "    </tr>\n",
              "    <tr>\n",
              "      <th>2</th>\n",
              "      <td>1738</td>\n",
              "      <td>male</td>\n",
              "      <td>20</td>\n",
              "      <td>second</td>\n",
              "      <td>brown</td>\n",
              "      <td>63.0</td>\n",
              "      <td>55.0</td>\n",
              "      <td>1</td>\n",
              "      <td>2</td>\n",
              "      <td>15.0</td>\n",
              "      <td>Yes</td>\n",
              "      <td>4.5</td>\n",
              "      <td>15.0</td>\n",
              "      <td>4.0</td>\n",
              "      <td>13.0</td>\n",
              "    </tr>\n",
              "    <tr>\n",
              "      <th>3</th>\n",
              "      <td>1355</td>\n",
              "      <td>male</td>\n",
              "      <td>20</td>\n",
              "      <td>third</td>\n",
              "      <td>green</td>\n",
              "      <td>78.0</td>\n",
              "      <td>200.0</td>\n",
              "      <td>0</td>\n",
              "      <td>0</td>\n",
              "      <td>10.0</td>\n",
              "      <td>Yes</td>\n",
              "      <td>9.0</td>\n",
              "      <td>20.0</td>\n",
              "      <td>10.0</td>\n",
              "      <td>10.0</td>\n",
              "    </tr>\n",
              "    <tr>\n",
              "      <th>4</th>\n",
              "      <td>891</td>\n",
              "      <td>female</td>\n",
              "      <td>19</td>\n",
              "      <td>second</td>\n",
              "      <td>green</td>\n",
              "      <td>67.0</td>\n",
              "      <td>280.0</td>\n",
              "      <td>2</td>\n",
              "      <td>0</td>\n",
              "      <td>4.0</td>\n",
              "      <td>Yes</td>\n",
              "      <td>2.0</td>\n",
              "      <td>164.0</td>\n",
              "      <td>0.0</td>\n",
              "      <td>2.0</td>\n",
              "    </tr>\n",
              "  </tbody>\n",
              "</table>\n",
              "</div>\n",
              "    <div class=\"colab-df-buttons\">\n",
              "\n",
              "  <div class=\"colab-df-container\">\n",
              "    <button class=\"colab-df-convert\" onclick=\"convertToInteractive('df-bbc36da8-7358-49b0-9d14-9c48a3004fdf')\"\n",
              "            title=\"Convert this dataframe to an interactive table.\"\n",
              "            style=\"display:none;\">\n",
              "\n",
              "  <svg xmlns=\"http://www.w3.org/2000/svg\" height=\"24px\" viewBox=\"0 -960 960 960\">\n",
              "    <path d=\"M120-120v-720h720v720H120Zm60-500h600v-160H180v160Zm220 220h160v-160H400v160Zm0 220h160v-160H400v160ZM180-400h160v-160H180v160Zm440 0h160v-160H620v160ZM180-180h160v-160H180v160Zm440 0h160v-160H620v160Z\"/>\n",
              "  </svg>\n",
              "    </button>\n",
              "\n",
              "  <style>\n",
              "    .colab-df-container {\n",
              "      display:flex;\n",
              "      gap: 12px;\n",
              "    }\n",
              "\n",
              "    .colab-df-convert {\n",
              "      background-color: #E8F0FE;\n",
              "      border: none;\n",
              "      border-radius: 50%;\n",
              "      cursor: pointer;\n",
              "      display: none;\n",
              "      fill: #1967D2;\n",
              "      height: 32px;\n",
              "      padding: 0 0 0 0;\n",
              "      width: 32px;\n",
              "    }\n",
              "\n",
              "    .colab-df-convert:hover {\n",
              "      background-color: #E2EBFA;\n",
              "      box-shadow: 0px 1px 2px rgba(60, 64, 67, 0.3), 0px 1px 3px 1px rgba(60, 64, 67, 0.15);\n",
              "      fill: #174EA6;\n",
              "    }\n",
              "\n",
              "    .colab-df-buttons div {\n",
              "      margin-bottom: 4px;\n",
              "    }\n",
              "\n",
              "    [theme=dark] .colab-df-convert {\n",
              "      background-color: #3B4455;\n",
              "      fill: #D2E3FC;\n",
              "    }\n",
              "\n",
              "    [theme=dark] .colab-df-convert:hover {\n",
              "      background-color: #434B5C;\n",
              "      box-shadow: 0px 1px 3px 1px rgba(0, 0, 0, 0.15);\n",
              "      filter: drop-shadow(0px 1px 2px rgba(0, 0, 0, 0.3));\n",
              "      fill: #FFFFFF;\n",
              "    }\n",
              "  </style>\n",
              "\n",
              "    <script>\n",
              "      const buttonEl =\n",
              "        document.querySelector('#df-bbc36da8-7358-49b0-9d14-9c48a3004fdf button.colab-df-convert');\n",
              "      buttonEl.style.display =\n",
              "        google.colab.kernel.accessAllowed ? 'block' : 'none';\n",
              "\n",
              "      async function convertToInteractive(key) {\n",
              "        const element = document.querySelector('#df-bbc36da8-7358-49b0-9d14-9c48a3004fdf');\n",
              "        const dataTable =\n",
              "          await google.colab.kernel.invokeFunction('convertToInteractive',\n",
              "                                                    [key], {});\n",
              "        if (!dataTable) return;\n",
              "\n",
              "        const docLinkHtml = 'Like what you see? Visit the ' +\n",
              "          '<a target=\"_blank\" href=https://colab.research.google.com/notebooks/data_table.ipynb>data table notebook</a>'\n",
              "          + ' to learn more about interactive tables.';\n",
              "        element.innerHTML = '';\n",
              "        dataTable['output_type'] = 'display_data';\n",
              "        await google.colab.output.renderOutput(dataTable, element);\n",
              "        const docLink = document.createElement('div');\n",
              "        docLink.innerHTML = docLinkHtml;\n",
              "        element.appendChild(docLink);\n",
              "      }\n",
              "    </script>\n",
              "  </div>\n",
              "\n",
              "\n",
              "<div id=\"df-ac530257-efd7-4355-889f-02e6249b925f\">\n",
              "  <button class=\"colab-df-quickchart\" onclick=\"quickchart('df-ac530257-efd7-4355-889f-02e6249b925f')\"\n",
              "            title=\"Suggest charts.\"\n",
              "            style=\"display:none;\">\n",
              "\n",
              "<svg xmlns=\"http://www.w3.org/2000/svg\" height=\"24px\"viewBox=\"0 0 24 24\"\n",
              "     width=\"24px\">\n",
              "    <g>\n",
              "        <path d=\"M19 3H5c-1.1 0-2 .9-2 2v14c0 1.1.9 2 2 2h14c1.1 0 2-.9 2-2V5c0-1.1-.9-2-2-2zM9 17H7v-7h2v7zm4 0h-2V7h2v10zm4 0h-2v-4h2v4z\"/>\n",
              "    </g>\n",
              "</svg>\n",
              "  </button>\n",
              "\n",
              "<style>\n",
              "  .colab-df-quickchart {\n",
              "      --bg-color: #E8F0FE;\n",
              "      --fill-color: #1967D2;\n",
              "      --hover-bg-color: #E2EBFA;\n",
              "      --hover-fill-color: #174EA6;\n",
              "      --disabled-fill-color: #AAA;\n",
              "      --disabled-bg-color: #DDD;\n",
              "  }\n",
              "\n",
              "  [theme=dark] .colab-df-quickchart {\n",
              "      --bg-color: #3B4455;\n",
              "      --fill-color: #D2E3FC;\n",
              "      --hover-bg-color: #434B5C;\n",
              "      --hover-fill-color: #FFFFFF;\n",
              "      --disabled-bg-color: #3B4455;\n",
              "      --disabled-fill-color: #666;\n",
              "  }\n",
              "\n",
              "  .colab-df-quickchart {\n",
              "    background-color: var(--bg-color);\n",
              "    border: none;\n",
              "    border-radius: 50%;\n",
              "    cursor: pointer;\n",
              "    display: none;\n",
              "    fill: var(--fill-color);\n",
              "    height: 32px;\n",
              "    padding: 0;\n",
              "    width: 32px;\n",
              "  }\n",
              "\n",
              "  .colab-df-quickchart:hover {\n",
              "    background-color: var(--hover-bg-color);\n",
              "    box-shadow: 0 1px 2px rgba(60, 64, 67, 0.3), 0 1px 3px 1px rgba(60, 64, 67, 0.15);\n",
              "    fill: var(--button-hover-fill-color);\n",
              "  }\n",
              "\n",
              "  .colab-df-quickchart-complete:disabled,\n",
              "  .colab-df-quickchart-complete:disabled:hover {\n",
              "    background-color: var(--disabled-bg-color);\n",
              "    fill: var(--disabled-fill-color);\n",
              "    box-shadow: none;\n",
              "  }\n",
              "\n",
              "  .colab-df-spinner {\n",
              "    border: 2px solid var(--fill-color);\n",
              "    border-color: transparent;\n",
              "    border-bottom-color: var(--fill-color);\n",
              "    animation:\n",
              "      spin 1s steps(1) infinite;\n",
              "  }\n",
              "\n",
              "  @keyframes spin {\n",
              "    0% {\n",
              "      border-color: transparent;\n",
              "      border-bottom-color: var(--fill-color);\n",
              "      border-left-color: var(--fill-color);\n",
              "    }\n",
              "    20% {\n",
              "      border-color: transparent;\n",
              "      border-left-color: var(--fill-color);\n",
              "      border-top-color: var(--fill-color);\n",
              "    }\n",
              "    30% {\n",
              "      border-color: transparent;\n",
              "      border-left-color: var(--fill-color);\n",
              "      border-top-color: var(--fill-color);\n",
              "      border-right-color: var(--fill-color);\n",
              "    }\n",
              "    40% {\n",
              "      border-color: transparent;\n",
              "      border-right-color: var(--fill-color);\n",
              "      border-top-color: var(--fill-color);\n",
              "    }\n",
              "    60% {\n",
              "      border-color: transparent;\n",
              "      border-right-color: var(--fill-color);\n",
              "    }\n",
              "    80% {\n",
              "      border-color: transparent;\n",
              "      border-right-color: var(--fill-color);\n",
              "      border-bottom-color: var(--fill-color);\n",
              "    }\n",
              "    90% {\n",
              "      border-color: transparent;\n",
              "      border-bottom-color: var(--fill-color);\n",
              "    }\n",
              "  }\n",
              "</style>\n",
              "\n",
              "  <script>\n",
              "    async function quickchart(key) {\n",
              "      const quickchartButtonEl =\n",
              "        document.querySelector('#' + key + ' button');\n",
              "      quickchartButtonEl.disabled = true;  // To prevent multiple clicks.\n",
              "      quickchartButtonEl.classList.add('colab-df-spinner');\n",
              "      try {\n",
              "        const charts = await google.colab.kernel.invokeFunction(\n",
              "            'suggestCharts', [key], {});\n",
              "      } catch (error) {\n",
              "        console.error('Error during call to suggestCharts:', error);\n",
              "      }\n",
              "      quickchartButtonEl.classList.remove('colab-df-spinner');\n",
              "      quickchartButtonEl.classList.add('colab-df-quickchart-complete');\n",
              "    }\n",
              "    (() => {\n",
              "      let quickchartButtonEl =\n",
              "        document.querySelector('#df-ac530257-efd7-4355-889f-02e6249b925f button');\n",
              "      quickchartButtonEl.style.display =\n",
              "        google.colab.kernel.accessAllowed ? 'block' : 'none';\n",
              "    })();\n",
              "  </script>\n",
              "</div>\n",
              "    </div>\n",
              "  </div>\n"
            ]
          },
          "metadata": {},
          "execution_count": 211
        }
      ]
    },
    {
      "cell_type": "code",
      "metadata": {
        "id": "GowXG5FncrPD",
        "colab": {
          "base_uri": "https://localhost:8080/",
          "height": 206
        },
        "outputId": "9c195c64-a65c-47d2-fc1c-aed26cb2d19b"
      },
      "source": [
        "df_test.head()"
      ],
      "execution_count": 212,
      "outputs": [
        {
          "output_type": "execute_result",
          "data": {
            "text/plain": [
              "   Unnamed: 0 gender  age    year eyecolor  height  miles  brothers  sisters  \\\n",
              "0        1303   male   20  second    green    73.0  210.0         0        1   \n",
              "1          36   male   20   third    other    71.0   90.0         1        0   \n",
              "2         489   male   22  fourth    hazel    75.0  200.0         0        1   \n",
              "3        1415   male   19  second    brown    72.0   35.0         2        2   \n",
              "4         616   male   22  fourth    hazel    71.0   15.0         2        1   \n",
              "\n",
              "   computertime exercise  exercisehours  musiccds  playgames  watchtv  \n",
              "0          10.0      Yes            5.0      50.0        1.0     15.0  \n",
              "1          15.0      Yes            4.0      10.0        0.0      1.0  \n",
              "2           1.0      Yes            2.0     150.0        1.0     10.0  \n",
              "3          20.0      Yes            5.0     100.0        0.0      7.0  \n",
              "4          10.0      Yes            7.0      10.0        0.0      5.0  "
            ],
            "text/html": [
              "\n",
              "  <div id=\"df-0d863955-5e4f-46b4-9961-6f913453e9e3\" class=\"colab-df-container\">\n",
              "    <div>\n",
              "<style scoped>\n",
              "    .dataframe tbody tr th:only-of-type {\n",
              "        vertical-align: middle;\n",
              "    }\n",
              "\n",
              "    .dataframe tbody tr th {\n",
              "        vertical-align: top;\n",
              "    }\n",
              "\n",
              "    .dataframe thead th {\n",
              "        text-align: right;\n",
              "    }\n",
              "</style>\n",
              "<table border=\"1\" class=\"dataframe\">\n",
              "  <thead>\n",
              "    <tr style=\"text-align: right;\">\n",
              "      <th></th>\n",
              "      <th>Unnamed: 0</th>\n",
              "      <th>gender</th>\n",
              "      <th>age</th>\n",
              "      <th>year</th>\n",
              "      <th>eyecolor</th>\n",
              "      <th>height</th>\n",
              "      <th>miles</th>\n",
              "      <th>brothers</th>\n",
              "      <th>sisters</th>\n",
              "      <th>computertime</th>\n",
              "      <th>exercise</th>\n",
              "      <th>exercisehours</th>\n",
              "      <th>musiccds</th>\n",
              "      <th>playgames</th>\n",
              "      <th>watchtv</th>\n",
              "    </tr>\n",
              "  </thead>\n",
              "  <tbody>\n",
              "    <tr>\n",
              "      <th>0</th>\n",
              "      <td>1303</td>\n",
              "      <td>male</td>\n",
              "      <td>20</td>\n",
              "      <td>second</td>\n",
              "      <td>green</td>\n",
              "      <td>73.0</td>\n",
              "      <td>210.0</td>\n",
              "      <td>0</td>\n",
              "      <td>1</td>\n",
              "      <td>10.0</td>\n",
              "      <td>Yes</td>\n",
              "      <td>5.0</td>\n",
              "      <td>50.0</td>\n",
              "      <td>1.0</td>\n",
              "      <td>15.0</td>\n",
              "    </tr>\n",
              "    <tr>\n",
              "      <th>1</th>\n",
              "      <td>36</td>\n",
              "      <td>male</td>\n",
              "      <td>20</td>\n",
              "      <td>third</td>\n",
              "      <td>other</td>\n",
              "      <td>71.0</td>\n",
              "      <td>90.0</td>\n",
              "      <td>1</td>\n",
              "      <td>0</td>\n",
              "      <td>15.0</td>\n",
              "      <td>Yes</td>\n",
              "      <td>4.0</td>\n",
              "      <td>10.0</td>\n",
              "      <td>0.0</td>\n",
              "      <td>1.0</td>\n",
              "    </tr>\n",
              "    <tr>\n",
              "      <th>2</th>\n",
              "      <td>489</td>\n",
              "      <td>male</td>\n",
              "      <td>22</td>\n",
              "      <td>fourth</td>\n",
              "      <td>hazel</td>\n",
              "      <td>75.0</td>\n",
              "      <td>200.0</td>\n",
              "      <td>0</td>\n",
              "      <td>1</td>\n",
              "      <td>1.0</td>\n",
              "      <td>Yes</td>\n",
              "      <td>2.0</td>\n",
              "      <td>150.0</td>\n",
              "      <td>1.0</td>\n",
              "      <td>10.0</td>\n",
              "    </tr>\n",
              "    <tr>\n",
              "      <th>3</th>\n",
              "      <td>1415</td>\n",
              "      <td>male</td>\n",
              "      <td>19</td>\n",
              "      <td>second</td>\n",
              "      <td>brown</td>\n",
              "      <td>72.0</td>\n",
              "      <td>35.0</td>\n",
              "      <td>2</td>\n",
              "      <td>2</td>\n",
              "      <td>20.0</td>\n",
              "      <td>Yes</td>\n",
              "      <td>5.0</td>\n",
              "      <td>100.0</td>\n",
              "      <td>0.0</td>\n",
              "      <td>7.0</td>\n",
              "    </tr>\n",
              "    <tr>\n",
              "      <th>4</th>\n",
              "      <td>616</td>\n",
              "      <td>male</td>\n",
              "      <td>22</td>\n",
              "      <td>fourth</td>\n",
              "      <td>hazel</td>\n",
              "      <td>71.0</td>\n",
              "      <td>15.0</td>\n",
              "      <td>2</td>\n",
              "      <td>1</td>\n",
              "      <td>10.0</td>\n",
              "      <td>Yes</td>\n",
              "      <td>7.0</td>\n",
              "      <td>10.0</td>\n",
              "      <td>0.0</td>\n",
              "      <td>5.0</td>\n",
              "    </tr>\n",
              "  </tbody>\n",
              "</table>\n",
              "</div>\n",
              "    <div class=\"colab-df-buttons\">\n",
              "\n",
              "  <div class=\"colab-df-container\">\n",
              "    <button class=\"colab-df-convert\" onclick=\"convertToInteractive('df-0d863955-5e4f-46b4-9961-6f913453e9e3')\"\n",
              "            title=\"Convert this dataframe to an interactive table.\"\n",
              "            style=\"display:none;\">\n",
              "\n",
              "  <svg xmlns=\"http://www.w3.org/2000/svg\" height=\"24px\" viewBox=\"0 -960 960 960\">\n",
              "    <path d=\"M120-120v-720h720v720H120Zm60-500h600v-160H180v160Zm220 220h160v-160H400v160Zm0 220h160v-160H400v160ZM180-400h160v-160H180v160Zm440 0h160v-160H620v160ZM180-180h160v-160H180v160Zm440 0h160v-160H620v160Z\"/>\n",
              "  </svg>\n",
              "    </button>\n",
              "\n",
              "  <style>\n",
              "    .colab-df-container {\n",
              "      display:flex;\n",
              "      gap: 12px;\n",
              "    }\n",
              "\n",
              "    .colab-df-convert {\n",
              "      background-color: #E8F0FE;\n",
              "      border: none;\n",
              "      border-radius: 50%;\n",
              "      cursor: pointer;\n",
              "      display: none;\n",
              "      fill: #1967D2;\n",
              "      height: 32px;\n",
              "      padding: 0 0 0 0;\n",
              "      width: 32px;\n",
              "    }\n",
              "\n",
              "    .colab-df-convert:hover {\n",
              "      background-color: #E2EBFA;\n",
              "      box-shadow: 0px 1px 2px rgba(60, 64, 67, 0.3), 0px 1px 3px 1px rgba(60, 64, 67, 0.15);\n",
              "      fill: #174EA6;\n",
              "    }\n",
              "\n",
              "    .colab-df-buttons div {\n",
              "      margin-bottom: 4px;\n",
              "    }\n",
              "\n",
              "    [theme=dark] .colab-df-convert {\n",
              "      background-color: #3B4455;\n",
              "      fill: #D2E3FC;\n",
              "    }\n",
              "\n",
              "    [theme=dark] .colab-df-convert:hover {\n",
              "      background-color: #434B5C;\n",
              "      box-shadow: 0px 1px 3px 1px rgba(0, 0, 0, 0.15);\n",
              "      filter: drop-shadow(0px 1px 2px rgba(0, 0, 0, 0.3));\n",
              "      fill: #FFFFFF;\n",
              "    }\n",
              "  </style>\n",
              "\n",
              "    <script>\n",
              "      const buttonEl =\n",
              "        document.querySelector('#df-0d863955-5e4f-46b4-9961-6f913453e9e3 button.colab-df-convert');\n",
              "      buttonEl.style.display =\n",
              "        google.colab.kernel.accessAllowed ? 'block' : 'none';\n",
              "\n",
              "      async function convertToInteractive(key) {\n",
              "        const element = document.querySelector('#df-0d863955-5e4f-46b4-9961-6f913453e9e3');\n",
              "        const dataTable =\n",
              "          await google.colab.kernel.invokeFunction('convertToInteractive',\n",
              "                                                    [key], {});\n",
              "        if (!dataTable) return;\n",
              "\n",
              "        const docLinkHtml = 'Like what you see? Visit the ' +\n",
              "          '<a target=\"_blank\" href=https://colab.research.google.com/notebooks/data_table.ipynb>data table notebook</a>'\n",
              "          + ' to learn more about interactive tables.';\n",
              "        element.innerHTML = '';\n",
              "        dataTable['output_type'] = 'display_data';\n",
              "        await google.colab.output.renderOutput(dataTable, element);\n",
              "        const docLink = document.createElement('div');\n",
              "        docLink.innerHTML = docLinkHtml;\n",
              "        element.appendChild(docLink);\n",
              "      }\n",
              "    </script>\n",
              "  </div>\n",
              "\n",
              "\n",
              "<div id=\"df-65f6c52b-2899-48dc-a6d6-6d5b2eb6e410\">\n",
              "  <button class=\"colab-df-quickchart\" onclick=\"quickchart('df-65f6c52b-2899-48dc-a6d6-6d5b2eb6e410')\"\n",
              "            title=\"Suggest charts.\"\n",
              "            style=\"display:none;\">\n",
              "\n",
              "<svg xmlns=\"http://www.w3.org/2000/svg\" height=\"24px\"viewBox=\"0 0 24 24\"\n",
              "     width=\"24px\">\n",
              "    <g>\n",
              "        <path d=\"M19 3H5c-1.1 0-2 .9-2 2v14c0 1.1.9 2 2 2h14c1.1 0 2-.9 2-2V5c0-1.1-.9-2-2-2zM9 17H7v-7h2v7zm4 0h-2V7h2v10zm4 0h-2v-4h2v4z\"/>\n",
              "    </g>\n",
              "</svg>\n",
              "  </button>\n",
              "\n",
              "<style>\n",
              "  .colab-df-quickchart {\n",
              "      --bg-color: #E8F0FE;\n",
              "      --fill-color: #1967D2;\n",
              "      --hover-bg-color: #E2EBFA;\n",
              "      --hover-fill-color: #174EA6;\n",
              "      --disabled-fill-color: #AAA;\n",
              "      --disabled-bg-color: #DDD;\n",
              "  }\n",
              "\n",
              "  [theme=dark] .colab-df-quickchart {\n",
              "      --bg-color: #3B4455;\n",
              "      --fill-color: #D2E3FC;\n",
              "      --hover-bg-color: #434B5C;\n",
              "      --hover-fill-color: #FFFFFF;\n",
              "      --disabled-bg-color: #3B4455;\n",
              "      --disabled-fill-color: #666;\n",
              "  }\n",
              "\n",
              "  .colab-df-quickchart {\n",
              "    background-color: var(--bg-color);\n",
              "    border: none;\n",
              "    border-radius: 50%;\n",
              "    cursor: pointer;\n",
              "    display: none;\n",
              "    fill: var(--fill-color);\n",
              "    height: 32px;\n",
              "    padding: 0;\n",
              "    width: 32px;\n",
              "  }\n",
              "\n",
              "  .colab-df-quickchart:hover {\n",
              "    background-color: var(--hover-bg-color);\n",
              "    box-shadow: 0 1px 2px rgba(60, 64, 67, 0.3), 0 1px 3px 1px rgba(60, 64, 67, 0.15);\n",
              "    fill: var(--button-hover-fill-color);\n",
              "  }\n",
              "\n",
              "  .colab-df-quickchart-complete:disabled,\n",
              "  .colab-df-quickchart-complete:disabled:hover {\n",
              "    background-color: var(--disabled-bg-color);\n",
              "    fill: var(--disabled-fill-color);\n",
              "    box-shadow: none;\n",
              "  }\n",
              "\n",
              "  .colab-df-spinner {\n",
              "    border: 2px solid var(--fill-color);\n",
              "    border-color: transparent;\n",
              "    border-bottom-color: var(--fill-color);\n",
              "    animation:\n",
              "      spin 1s steps(1) infinite;\n",
              "  }\n",
              "\n",
              "  @keyframes spin {\n",
              "    0% {\n",
              "      border-color: transparent;\n",
              "      border-bottom-color: var(--fill-color);\n",
              "      border-left-color: var(--fill-color);\n",
              "    }\n",
              "    20% {\n",
              "      border-color: transparent;\n",
              "      border-left-color: var(--fill-color);\n",
              "      border-top-color: var(--fill-color);\n",
              "    }\n",
              "    30% {\n",
              "      border-color: transparent;\n",
              "      border-left-color: var(--fill-color);\n",
              "      border-top-color: var(--fill-color);\n",
              "      border-right-color: var(--fill-color);\n",
              "    }\n",
              "    40% {\n",
              "      border-color: transparent;\n",
              "      border-right-color: var(--fill-color);\n",
              "      border-top-color: var(--fill-color);\n",
              "    }\n",
              "    60% {\n",
              "      border-color: transparent;\n",
              "      border-right-color: var(--fill-color);\n",
              "    }\n",
              "    80% {\n",
              "      border-color: transparent;\n",
              "      border-right-color: var(--fill-color);\n",
              "      border-bottom-color: var(--fill-color);\n",
              "    }\n",
              "    90% {\n",
              "      border-color: transparent;\n",
              "      border-bottom-color: var(--fill-color);\n",
              "    }\n",
              "  }\n",
              "</style>\n",
              "\n",
              "  <script>\n",
              "    async function quickchart(key) {\n",
              "      const quickchartButtonEl =\n",
              "        document.querySelector('#' + key + ' button');\n",
              "      quickchartButtonEl.disabled = true;  // To prevent multiple clicks.\n",
              "      quickchartButtonEl.classList.add('colab-df-spinner');\n",
              "      try {\n",
              "        const charts = await google.colab.kernel.invokeFunction(\n",
              "            'suggestCharts', [key], {});\n",
              "      } catch (error) {\n",
              "        console.error('Error during call to suggestCharts:', error);\n",
              "      }\n",
              "      quickchartButtonEl.classList.remove('colab-df-spinner');\n",
              "      quickchartButtonEl.classList.add('colab-df-quickchart-complete');\n",
              "    }\n",
              "    (() => {\n",
              "      let quickchartButtonEl =\n",
              "        document.querySelector('#df-65f6c52b-2899-48dc-a6d6-6d5b2eb6e410 button');\n",
              "      quickchartButtonEl.style.display =\n",
              "        google.colab.kernel.accessAllowed ? 'block' : 'none';\n",
              "    })();\n",
              "  </script>\n",
              "</div>\n",
              "    </div>\n",
              "  </div>\n"
            ]
          },
          "metadata": {},
          "execution_count": 212
        }
      ]
    },
    {
      "cell_type": "markdown",
      "metadata": {
        "id": "RGt_10ZAreOv"
      },
      "source": [
        "***\n",
        "### Question 1 (1 point)###\n",
        "Calculate a baseline accuracy measure using the majority class, assuming a target variable of `gender`. The majority class is the most common value of the target variable in a particular dataset. Accuracy is calculated as (true positives + true negatives) / (all negatives and positives)."
      ]
    },
    {
      "cell_type": "markdown",
      "metadata": {
        "id": "UZPiLgekreOw"
      },
      "source": [
        "**Question 1.a**  \n",
        "Find the majority class in the training set. If you always predicted this class in the training set, what would your accuracy be?"
      ]
    },
    {
      "cell_type": "code",
      "metadata": {
        "id": "iYjEFc1greOx",
        "colab": {
          "base_uri": "https://localhost:8080/"
        },
        "outputId": "5d3a5949-5373-4f1e-f43a-dca4202d0c8e"
      },
      "source": [
        "# YOUR CODE HERE\n",
        "majority_class = df_train['gender'].mode()[0]\n",
        "predictions = np.array([majority_class] * len(df_train))\n",
        "accuracy = accuracy_score(df_train['gender'], predictions)\n",
        "accuracy"
      ],
      "execution_count": 213,
      "outputs": [
        {
          "output_type": "execute_result",
          "data": {
            "text/plain": [
              "0.5427852348993288"
            ]
          },
          "metadata": {},
          "execution_count": 213
        }
      ]
    },
    {
      "cell_type": "markdown",
      "metadata": {
        "id": "5w2LK2QxUFKv"
      },
      "source": [
        "**Answer: 0.5427852348993288**"
      ]
    },
    {
      "cell_type": "markdown",
      "metadata": {
        "id": "ULPKW0IvreOy"
      },
      "source": [
        "**Question 1.b**   \n",
        "If you always predicted this same class (majority from the training set) in the test set, what would your accuracy be?"
      ]
    },
    {
      "cell_type": "code",
      "metadata": {
        "id": "dfU5mwh405vq",
        "colab": {
          "base_uri": "https://localhost:8080/"
        },
        "outputId": "cc27cb4b-2cc3-4d99-bca0-28d613842358"
      },
      "source": [
        "# YOUR CODE HERE\n",
        "test_pred = np.array([majority_class] * len(df_test))\n",
        "test_acc = accuracy_score(df_test['gender'], test_pred)\n",
        "test_acc"
      ],
      "execution_count": 214,
      "outputs": [
        {
          "output_type": "execute_result",
          "data": {
            "text/plain": [
              "0.5226130653266332"
            ]
          },
          "metadata": {},
          "execution_count": 214
        }
      ]
    },
    {
      "cell_type": "markdown",
      "metadata": {
        "id": "pINRUJxG05v4"
      },
      "source": [
        "**Answer: 0.5226130653266332**"
      ]
    },
    {
      "cell_type": "markdown",
      "metadata": {
        "id": "GKb2Ju-GreO0"
      },
      "source": [
        "***\n",
        "### Question 2 (1.5 points)###\n",
        "Get started with Neural Networks."
      ]
    },
    {
      "cell_type": "markdown",
      "metadata": {
        "id": "UYI6e3F3reO0"
      },
      "source": [
        "   \n",
        "Choose a NN implementation (we recommend Sklearn MLPclassifier) and specify which you choose. Be sure the implementation allows you to modify the number of hidden layers and hidden nodes per layer.  \n",
        "\n",
        "NOTE: When possible, specify the logsig (`sigmoid`/`logistic`) function as the transfer function (another word for activation function) and use Levenberg-Marquardt backpropagation (`lbfgs`). It is possible to specify logistic in Sklearn MLPclassifier.  "
      ]
    },
    {
      "cell_type": "markdown",
      "source": [
        "**My NN implementation of choice: Sklearn MLPclassifier**"
      ],
      "metadata": {
        "id": "2WHCSftWa2bF"
      }
    },
    {
      "cell_type": "markdown",
      "metadata": {
        "id": "4am3sGc4reO1"
      },
      "source": [
        "**Question 2.a**   \n",
        "Train a neural network with a single 10 node hidden layer. Only use the `height` feature of the dataset to predict the `gender`. You will have to change `gender` to a 0 and 1 class. After training, use your trained model to predict the class (`gender`) using the `height` feature from the training set. What is the accuracy of this prediction?"
      ]
    },
    {
      "cell_type": "code",
      "metadata": {
        "id": "jbAzltaw067l",
        "colab": {
          "base_uri": "https://localhost:8080/"
        },
        "outputId": "2a2359e9-ff1d-4f82-9647-f369d2883f96"
      },
      "source": [
        "# YOUR CODE HERE\n",
        "copy_train = df_train.copy()\n",
        "copy_train['gender'] = (df_train['gender'] == 'female').astype(int)\n",
        "X = df_train[['height']]\n",
        "y = copy_train['gender']\n",
        "mlp = MLPClassifier(\n",
        "    hidden_layer_sizes=(10,),\n",
        "    activation='logistic',\n",
        "    solver='lbfgs',\n",
        "    random_state=42\n",
        ")\n",
        "mlp.fit(X, y)\n",
        "y_pred = mlp.predict(X)\n",
        "accuracy = accuracy_score(y, y_pred)\n",
        "accuracy"
      ],
      "execution_count": 215,
      "outputs": [
        {
          "output_type": "execute_result",
          "data": {
            "text/plain": [
              "0.8439597315436241"
            ]
          },
          "metadata": {},
          "execution_count": 215
        }
      ]
    },
    {
      "cell_type": "markdown",
      "metadata": {
        "id": "EuaCk0l0067q"
      },
      "source": [
        "**Answer: 0.8439597315436241**"
      ]
    },
    {
      "cell_type": "markdown",
      "metadata": {
        "id": "AkqzIeshreO2"
      },
      "source": [
        "**Question 2.b (0.5 points)**  \n",
        "Take the trained model from question 2.a and use it to predict the test set. This can be accomplished by taking the trained model and giving it the `height` feature values from the test set. What is the accuracy of this model on the test set?"
      ]
    },
    {
      "cell_type": "code",
      "metadata": {
        "id": "Tw25ezWp07hj",
        "colab": {
          "base_uri": "https://localhost:8080/"
        },
        "outputId": "d4d2afa7-c6e1-4767-87e9-391eedace284"
      },
      "source": [
        "# YOUR CODE HERE\n",
        "copy_test = df_test.copy()\n",
        "X_test = copy_test[['height']]\n",
        "copy_test['gender'] = (copy_test['gender'] == 'female').astype(int)\n",
        "y_test = copy_test['gender']\n",
        "y_pred_test = mlp.predict(X_test)\n",
        "accuracy_test = accuracy_score(y_test, y_pred_test)\n",
        "accuracy_test"
      ],
      "execution_count": 216,
      "outputs": [
        {
          "output_type": "execute_result",
          "data": {
            "text/plain": [
              "0.8542713567839196"
            ]
          },
          "metadata": {},
          "execution_count": 216
        }
      ]
    },
    {
      "cell_type": "markdown",
      "metadata": {
        "id": "HbHMAFvw07hm"
      },
      "source": [
        "**Answer: 0.8542713567839196**"
      ]
    },
    {
      "cell_type": "markdown",
      "metadata": {
        "id": "uMmIfsNEreO3"
      },
      "source": [
        "**Question 2.c**   \n",
        "Neural Networks tend to prefer smaller, normalized feature values. Try taking the log of the `height` feature in both training and testing sets or use a Standard Scalar operation in SKlearn to centre and normalize the data between 0-1 for continuous values. Repeat question 2.a and 2.b with the log version or the normalized and centered version of this feature."
      ]
    },
    {
      "cell_type": "code",
      "metadata": {
        "id": "wDhCZPaU07_8",
        "colab": {
          "base_uri": "https://localhost:8080/"
        },
        "outputId": "7a2f23f2-ba2c-4f6a-85e3-4134d328e3b2"
      },
      "source": [
        "# YOUR CODE HERE\n",
        "copy_train_2c = df_train.copy()\n",
        "copy_test_2c = df_test.copy()\n",
        "copy_train_2c['gender'] = (copy_train_2c['gender'] == 'female').astype(int)\n",
        "copy_test_2c['gender'] = (copy_test_2c['gender'] == 'female').astype(int)\n",
        "X_train = copy_train_2c[['height']]\n",
        "y_train = copy_train_2c['gender']\n",
        "X_test_1 = copy_test_2c[['height']]\n",
        "y_test_1 = copy_test_2c['gender']\n",
        "\n",
        "X_train_log = np.log(copy_train_2c[['height']])\n",
        "X_test_scaled_log = np.log(copy_test_2c[['height']])\n",
        "mlp_scaled = MLPClassifier(\n",
        "    hidden_layer_sizes=(10,),\n",
        "    activation='logistic',\n",
        "    solver='lbfgs',\n",
        "    random_state=42\n",
        ")\n",
        "mlp_scaled.fit(X_train_log, y_train)\n",
        "y_pred_train_log = mlp_scaled.predict(X_train_log)\n",
        "y_pred_test_log = mlp_scaled.predict(X_test_scaled_log)\n",
        "accuracy_train_log = accuracy_score(y_train, y_pred_train_log)\n",
        "accuracy_test_log = accuracy_score(y_test_1, y_pred_test_log)\n",
        "print('traine: ', accuracy_train_log)\n",
        "print('test: ', accuracy_test_log)"
      ],
      "execution_count": 217,
      "outputs": [
        {
          "output_type": "stream",
          "name": "stdout",
          "text": [
            "traine:  0.834731543624161\n",
            "test:  0.8316582914572864\n"
          ]
        }
      ]
    },
    {
      "cell_type": "markdown",
      "metadata": {
        "id": "GTO2KMti07__"
      },
      "source": [
        "**Answer (accuracy on training set): 0.834731543624161**"
      ]
    },
    {
      "cell_type": "markdown",
      "metadata": {
        "id": "ps1JmsR2uXiV"
      },
      "source": [
        "**Answer (accuracy on test set): 0.8316582914572864**"
      ]
    },
    {
      "cell_type": "markdown",
      "metadata": {
        "id": "2_SlOdcarePC"
      },
      "source": [
        "***\n",
        "\n",
        "### Question 3 (1 point) ###\n",
        "Many of the remaining features in the dataset are categorical. No ML method accepts categorical features, so transform `year`, `eyecolor`, `exercise` into a set of binary features, one feature per unique original feature value, and mark the binary feature as ‘1’ if the feature value matches the original value and ‘0’ otherwise. Using only these one-hot transformed features, train and predict the class of the test set. What was your accuracy using a Neural Network with a single 10 node hidden layer?"
      ]
    },
    {
      "cell_type": "code",
      "metadata": {
        "id": "YjhzBFNV1Aip",
        "colab": {
          "base_uri": "https://localhost:8080/"
        },
        "outputId": "ef26a6f2-59d1-4ddc-95af-64f972f34782"
      },
      "source": [
        "# YOUR CODE HERE\n",
        "df_train3 = df_train.copy()\n",
        "df_test3 = df_test.copy()\n",
        "features = ['year', 'eyecolor', 'exercise']\n",
        "df_train3['gender'] = (df_train3['gender'] == 'female').astype(int)\n",
        "df_test3['gender'] = (df_test3['gender'] == 'female').astype(int)\n",
        "\n",
        "encoder = OneHotEncoder(drop='first', sparse=False)\n",
        "X_train_encoded = encoder.fit_transform(df_train3[features])\n",
        "X_test_encoded = encoder.transform(df_test3[features])\n",
        "\n",
        "X_train_3 = X_train_encoded\n",
        "y_train_3 = df_train3['gender']\n",
        "\n",
        "classifier = MLPClassifier(\n",
        "    hidden_layer_sizes=(10,),\n",
        "    activation='logistic',\n",
        "    solver='lbfgs',\n",
        "    random_state=42\n",
        ")\n",
        "classifier.fit(X_train_3, y_train_3)\n",
        "\n",
        "y_pred_train_3 = classifier.predict(X_train_encoded)\n",
        "y_pred_test_3 = classifier.predict(X_test_encoded)\n",
        "\n",
        "accuracy_train_3 = accuracy_score(df_train3['gender'], y_pred_train_3)\n",
        "accuracy_test_3 = accuracy_score(df_test3['gender'], y_pred_test_3)\n",
        "print('traine: ', accuracy_train_3)\n",
        "print('test: ', accuracy_test_3)"
      ],
      "execution_count": 218,
      "outputs": [
        {
          "output_type": "stream",
          "name": "stdout",
          "text": [
            "traine:  0.584731543624161\n",
            "test:  0.5326633165829145\n"
          ]
        }
      ]
    },
    {
      "cell_type": "markdown",
      "metadata": {
        "id": "PyQ1EvAY1Ait"
      },
      "source": [
        "**Answer: training accuracy:  0.584731543624161 //\n",
        "test accuracy:  0.5326633165829145**"
      ]
    },
    {
      "cell_type": "markdown",
      "metadata": {
        "id": "dSSr9sBlrePG"
      },
      "source": [
        "***\n",
        "### Question 4 (3 points)###\n",
        "Using a NN, report the accuracy on the test set of a model that trained only on `height` and the `eyecolor` features of instances in the training set."
      ]
    },
    {
      "cell_type": "markdown",
      "metadata": {
        "id": "rMNSlOmJrePG"
      },
      "source": [
        "**Question 4.a**  \n",
        "What is the accuracy on the test set using the original `height` values (no pre-processing) and `eyecolor` as a one-hot?"
      ]
    },
    {
      "cell_type": "code",
      "metadata": {
        "id": "F_vN4tyv1Ckq",
        "colab": {
          "base_uri": "https://localhost:8080/"
        },
        "outputId": "d7d3734b-6ed3-47ac-9885-4e4e6d0409a9"
      },
      "source": [
        "# YOUR CODE HERE\n",
        "df_train_4 = df_train.copy()\n",
        "df_test_4 = df_test.copy()\n",
        "df_train_4['gender'] = (df_train_4['gender'] == 'female').astype(int)\n",
        "df_test_4['gender'] = (df_test_4['gender'] == 'female').astype(int)\n",
        "\n",
        "features = ['eyecolor']\n",
        "\n",
        "encoder4 = OneHotEncoder(drop='first', sparse=False)\n",
        "X_train_encoded4 = encoder4.fit_transform(df_train_4[features])\n",
        "X_test_encoded4 = encoder4.transform(df_test_4[features])\n",
        "\n",
        "X_train_4 = X_train_encoded4\n",
        "y_train_4 = df_train_4['gender']\n",
        "\n",
        "X_train4 = pd.concat([df_train_4['height'], pd.DataFrame(X_train_encoded4)], axis=1)\n",
        "X_test4 = pd.concat([df_test_4['height'], pd.DataFrame(X_test_encoded4)], axis=1)\n",
        "\n",
        "mlp4 = MLPClassifier(\n",
        "    hidden_layer_sizes=(10,),\n",
        "    activation='logistic',\n",
        "    solver='lbfgs',\n",
        "    random_state=42\n",
        ")\n",
        "mlp4.fit(X_train_4, y_train_4)\n",
        "\n",
        "y_pred_train_4 = mlp4.predict(X_train_encoded4)\n",
        "y_pred_test_4 = mlp4.predict(X_test_encoded4)\n",
        "\n",
        "accuracy_train_4 = accuracy_score(df_train_4['gender'], y_pred_train_4)\n",
        "accuracy_test_4 = accuracy_score(df_test_4['gender'], y_pred_test_4)\n",
        "print('traine: ', accuracy_train_4)\n",
        "print('test: ', accuracy_test_4)\n"
      ],
      "execution_count": 219,
      "outputs": [
        {
          "output_type": "stream",
          "name": "stdout",
          "text": [
            "traine:  0.5427852348993288\n",
            "test:  0.5226130653266332\n"
          ]
        }
      ]
    },
    {
      "cell_type": "markdown",
      "metadata": {
        "id": "CaL2o0TW1Cks"
      },
      "source": [
        "**Answer: training accuracy:  0.5427852348993288 //\n",
        "test accuracy:  0.5226130653266332**"
      ]
    },
    {
      "cell_type": "markdown",
      "metadata": {
        "id": "NC8Ipx9QrePH"
      },
      "source": [
        "**Question 4.b**  \n",
        "What is the accuracy on the test set using the log of `height` values (applied to both training and testing sets) and `eyecolor` as a one-hot?"
      ]
    },
    {
      "cell_type": "code",
      "metadata": {
        "id": "cFvzNv6O1DG3",
        "colab": {
          "base_uri": "https://localhost:8080/"
        },
        "outputId": "142a3ba9-664f-4dd5-e577-e61ca78af3bb"
      },
      "source": [
        "def data_changer(train_data, test_data):\n",
        "    binary = {'male': 0, 'female': 1}\n",
        "    train_set = train_data.replace(binary)\n",
        "    test_set = test_data.replace(binary)\n",
        "    return train_set, test_set\n",
        "\n",
        "def onehot_it(dataframe):\n",
        "    object_data = dataframe.select_dtypes(include=[object])\n",
        "    label_encoded_data = object_data.apply(preprocessing.LabelEncoder().fit_transform)\n",
        "    encoder = preprocessing.OneHotEncoder()\n",
        "    one_hot_encoded = encoder.fit_transform(label_encoded_data)\n",
        "    return pd.DataFrame(one_hot_encoded.toarray())\n",
        "\n",
        "def loggers(data):\n",
        "    transformed_data = onehot_it(data)\n",
        "    transformed_data.columns = transformed_data.columns.astype(str)\n",
        "    transformed_data['height'] = np.log(data['height'])\n",
        "    return transformed_data\n",
        "\n",
        "train_set, test_set = data_changer(df_train, df_test)\n",
        "\n",
        "encoded_train_data = loggers(train_set[['height', 'eyecolor']])\n",
        "encoded_test_data = loggers(test_set[['height', 'eyecolor']])\n",
        "\n",
        "Y_train_labels = train_set['gender']\n",
        "classifier_encoded_log = MLPClassifier(\n",
        "    hidden_layer_sizes=(10,),\n",
        "    activation='logistic',\n",
        "    solver='lbfgs',\n",
        "    random_state=42\n",
        ")\n",
        "classifier_encoded_log.fit(encoded_train_data, Y_train_labels)\n",
        "\n",
        "log_predicted_train = classifier_encoded_log.predict(encoded_train_data)\n",
        "train_acc = accuracy_score(Y_train_labels, log_predicted_train)\n",
        "\n",
        "Y_test_labels = test_set['gender']\n",
        "log_predicted_test = classifier_encoded_log.predict(encoded_test_data)\n",
        "test_acc = accuracy_score(Y_test_labels, log_predicted_test)\n",
        "\n",
        "print('traine: ', train_acc)\n",
        "print('test: ', test_acc)"
      ],
      "execution_count": 220,
      "outputs": [
        {
          "output_type": "stream",
          "name": "stdout",
          "text": [
            "traine:  0.8406040268456376\n",
            "test:  0.8567839195979899\n"
          ]
        }
      ]
    },
    {
      "cell_type": "markdown",
      "metadata": {
        "id": "Pt3NMp1M1DG4"
      },
      "source": [
        "**Answer: training accuracy:  0.8406040268456376 //\n",
        "test accuracy:  0.8567839195979899**"
      ]
    },
    {
      "cell_type": "markdown",
      "metadata": {
        "id": "iYm2jqnprePI"
      },
      "source": [
        "**Question 4.c**  \n",
        "What is the accuracy on the test set using the Z-score of `height` values and `eyecolor` as a one-hot?\n",
        "\n",
        "Z-score is a normalization function. It is the value of a feature minus the average value for that feature (in the training set), divided by the standard deviation of that feature (in the training set). Remember that, whenever applying a function to a feature in the training set, it also has to be applied to that same feature in the test set."
      ]
    },
    {
      "cell_type": "code",
      "metadata": {
        "id": "P3mDjF6N1DoN",
        "colab": {
          "base_uri": "https://localhost:8080/"
        },
        "outputId": "935fe73b-a440-4180-e5f0-aedf16b1dc52"
      },
      "source": [
        "# YOUR CODE HERE\n",
        "def helper_4c(data):\n",
        "    changed_df = onehot_it(data)\n",
        "    changed_df.columns = changed_df.columns.astype(str)\n",
        "    changed_df['height'] = (data['height'] - data['height'].mean()) / data['height'].std()\n",
        "    return changed_df\n",
        "\n",
        "std_encoded_train_data = helper_4c(train_set[['height', 'eyecolor']])\n",
        "std_encoded_test_data = helper_4c(test_set[['height', 'eyecolor']])\n",
        "\n",
        "Y_train_labels_std = train_set['gender']\n",
        "classifier_std_encoded = MLPClassifier(\n",
        "    hidden_layer_sizes=(10,),\n",
        "    activation='logistic',\n",
        "    solver='lbfgs',\n",
        "    random_state=42\n",
        ")\n",
        "\n",
        "classifier_std_encoded.fit(std_encoded_train_data, Y_train_labels_std)\n",
        "\n",
        "Y_test_labels_std = test_set['gender']\n",
        "\n",
        "std_predicted_train = classifier_std_encoded.predict(std_encoded_train_data)\n",
        "std_predicted_test = classifier_std_encoded.predict(std_encoded_test_data)\n",
        "\n",
        "train_acc4c = accuracy_score(Y_train_labels_std, std_predicted_train)\n",
        "test_acc4c = accuracy_score(Y_test_labels_std, std_predicted_test)\n",
        "\n",
        "print('traine: ', train_acc4c)\n",
        "print('test: ', test_acc4c)"
      ],
      "execution_count": 221,
      "outputs": [
        {
          "output_type": "stream",
          "name": "stdout",
          "text": [
            "traine:  0.8473154362416108\n",
            "test:  0.8567839195979899\n"
          ]
        }
      ]
    },
    {
      "cell_type": "markdown",
      "metadata": {
        "id": "YAnuY8Sv1DoO"
      },
      "source": [
        "**Answer: training accuracy:  0.8473154362416108 //\n",
        "test accuracy:  0.8567839195979899**"
      ]
    },
    {
      "cell_type": "markdown",
      "metadata": {
        "id": "Fh9qwu_9rePJ"
      },
      "source": [
        "***\n",
        "### Question 5 (1.5 points) ###\n",
        "Repeat question 4 for `playgames` & `eyecolor`."
      ]
    },
    {
      "cell_type": "markdown",
      "metadata": {
        "id": "II5bc2lGAUDD"
      },
      "source": [
        "**Question 5.a**  \\\\\n",
        "What is the accuracy on the test set using the original `playgames` values (no pre-processing) and `eyecolor` as a one-hot?"
      ]
    },
    {
      "cell_type": "code",
      "metadata": {
        "id": "JAgHz_r-1EMR",
        "colab": {
          "base_uri": "https://localhost:8080/"
        },
        "outputId": "acc8e03a-1e6f-4aab-ba18-2129b5a06c51"
      },
      "source": [
        "# YOUR CODE HERE\n",
        "subset_train = train_set[['playgames', 'eyecolor']]\n",
        "subset_test = test_set[['playgames', 'eyecolor']]\n",
        "\n",
        "encoded_train = onehot_it(subset_train)\n",
        "encoded_train.columns = encoded_train.columns.astype(str)\n",
        "encoded_train['playgames'] = subset_train['playgames']\n",
        "\n",
        "encoded_test = onehot_it(subset_test)\n",
        "encoded_test.columns = encoded_test.columns.astype(str)\n",
        "encoded_test['playgames'] = subset_test['playgames']\n",
        "\n",
        "Y_train_labels = train_set['gender']\n",
        "classifier = MLPClassifier(\n",
        "    hidden_layer_sizes=(10,),\n",
        "    activation='logistic',\n",
        "    solver='lbfgs',\n",
        "    random_state=42\n",
        ")\n",
        "classifier.fit(encoded_train, Y_train_labels)\n",
        "\n",
        "predicted_train = classifier.predict(encoded_train)\n",
        "acc_train = accuracy_score(Y_train_labels, predicted_train)\n",
        "\n",
        "Y_test_labels = test_set['gender']\n",
        "predicted_test = classifier.predict(encoded_test)\n",
        "acc_test = accuracy_score(Y_test_labels, predicted_test)\n",
        "\n",
        "print('traine: ', acc_train)\n",
        "print('test: ', acc_test)\n"
      ],
      "execution_count": 222,
      "outputs": [
        {
          "output_type": "stream",
          "name": "stdout",
          "text": [
            "traine:  0.7088926174496645\n",
            "test:  0.6733668341708543\n"
          ]
        }
      ]
    },
    {
      "cell_type": "markdown",
      "metadata": {
        "id": "gNqB2UTxAm9l"
      },
      "source": [
        "**Answer: training accuracy:  0.7088926174496645 //\n",
        "test accuracy:  0.6733668341708543**"
      ]
    },
    {
      "cell_type": "markdown",
      "metadata": {
        "id": "-EUk8EFdAeD1"
      },
      "source": [
        "**Question 5.b**  \\\\\n",
        "What is the accuracy on the test set using the log of `playgames` values (applied to both training and testing sets) and `eyecolor` as a one-hot?\n",
        "\n",
        "Note: You can drop rows that have 0 in the `playgames` column, in order to avoid -inf values when applying log."
      ]
    },
    {
      "cell_type": "code",
      "metadata": {
        "id": "TBoi2u6hAjAB",
        "colab": {
          "base_uri": "https://localhost:8080/"
        },
        "outputId": "8f5f81dc-fe65-450a-9860-95ab62106e0e"
      },
      "source": [
        "# YOUR CODE HERE\n",
        "train5 = train_set[['playgames', 'eyecolor', 'gender']].copy()\n",
        "test5 = test_set[['playgames', 'eyecolor', 'gender']].copy()\n",
        "\n",
        "train5['playgames'].replace(0.0, 0.01, inplace=True)\n",
        "test5['playgames'].replace(0.0, 0.01, inplace=True)\n",
        "\n",
        "encoded_train5b = onehot_it(train5[['playgames', 'eyecolor']])\n",
        "encoded_train5b.columns = encoded_train5b.columns.astype(str)\n",
        "\n",
        "encoded_test5b = onehot_it(test5[['playgames', 'eyecolor']])\n",
        "encoded_test5b.columns = encoded_test5b.columns.astype(str)\n",
        "\n",
        "classifier5b = MLPClassifier(hidden_layer_sizes=(10,), activation='logistic', solver='lbfgs', random_state=42)\n",
        "classifier5b.fit(encoded_train5b, train5['gender'])\n",
        "\n",
        "predicted_train5b = classifier5b.predict(encoded_train5b)\n",
        "actrain = accuracy_score(train5['gender'], predicted_train5b)\n",
        "\n",
        "predicted_test5b = classifier5b.predict(encoded_test5b)\n",
        "acacc = accuracy_score(test5['gender'], predicted_test5b)\n",
        "\n",
        "print('training accuracy:', actrain)\n",
        "print('test accuracy:', acacc)\n",
        "\n"
      ],
      "execution_count": 223,
      "outputs": [
        {
          "output_type": "stream",
          "name": "stdout",
          "text": [
            "training accuracy: 0.5427852348993288\n",
            "test accuracy: 0.5226130653266332\n"
          ]
        }
      ]
    },
    {
      "cell_type": "markdown",
      "metadata": {
        "id": "a2C9_xTUAnaU"
      },
      "source": [
        "**Answer: training accuracy: 0.5427852348993288 //\n",
        "test accuracy: 0.5226130653266332**"
      ]
    },
    {
      "cell_type": "markdown",
      "metadata": {
        "id": "eqf-3iQ1Aebj"
      },
      "source": [
        "**Question 5.c** \\\\\n",
        "What is the accuracy on the test set using the Z-score of `playgames` values and `eyecolor` as a one-hot?"
      ]
    },
    {
      "cell_type": "code",
      "metadata": {
        "id": "zSNSl76eAkKz",
        "colab": {
          "base_uri": "https://localhost:8080/"
        },
        "outputId": "61c9c09a-0855-499e-9532-81740db8cb19"
      },
      "source": [
        "# YOUR CODE HERE\n",
        "encoded_train_5c = onehot_it(train_set[['playgames', 'eyecolor']])\n",
        "encoded_train_5c.columns = encoded_train_5c.columns.astype(str)\n",
        "\n",
        "encoded_test_5c = onehot_it(test_set[['playgames', 'eyecolor']])\n",
        "encoded_test_5c.columns = encoded_test_5c.columns.astype(str)\n",
        "\n",
        "mean_playgames_train = train_set['playgames'].mean()\n",
        "std_playgames_train = train_set['playgames'].std()\n",
        "\n",
        "encoded_train_5c['playgames'] = (train_set['playgames'] - mean_playgames_train) / std_playgames_train\n",
        "encoded_test_5c['playgames'] = (test_set['playgames'] - mean_playgames_train) / std_playgames_train\n",
        "\n",
        "mlp_classifier = MLPClassifier(hidden_layer_sizes=(10,), activation='logistic', solver='lbfgs', random_state=42)\n",
        "mlp_classifier.fit(encoded_train_5c, train_set['gender'])\n",
        "\n",
        "train_predictions = mlp_classifier.predict(encoded_train_5c)\n",
        "acctrain = accuracy_score(train_set['gender'], train_predictions)\n",
        "\n",
        "test_predictions = mlp_classifier.predict(encoded_test_5c)\n",
        "acctest = accuracy_score(test_set['gender'], test_predictions)\n",
        "\n",
        "\n",
        "print('training accuracy:', acctrain)\n",
        "print('test accuracy:', acctest)"
      ],
      "execution_count": 224,
      "outputs": [
        {
          "output_type": "stream",
          "name": "stdout",
          "text": [
            "training accuracy: 0.7088926174496645\n",
            "test accuracy: 0.6733668341708543\n"
          ]
        }
      ]
    },
    {
      "cell_type": "markdown",
      "metadata": {
        "id": "ZlDfGvy61EMS"
      },
      "source": [
        "**Answer: training accuracy: 0.7088926174496645 //\n",
        "test accuracy: 0.6733668341708543**"
      ]
    },
    {
      "cell_type": "markdown",
      "metadata": {
        "id": "JYVuaPWgrePL"
      },
      "source": [
        "***\n",
        "### Question 6 (2 points)###\n",
        "Combine the features from question 3, 4, and 5 (`year`, `eyecolor`, `exercise`, `height`, `playgames`). For numeric features use the best normalization method from questions 4 and 5."
      ]
    },
    {
      "cell_type": "markdown",
      "metadata": {
        "id": "1iAiFhlFrePM"
      },
      "source": [
        "**Question 6.a**   \n",
        "What was the NN accuracy on the test set using the single 10 node hidden layer?"
      ]
    },
    {
      "cell_type": "code",
      "metadata": {
        "id": "QuLJ6sTB1FfN",
        "colab": {
          "base_uri": "https://localhost:8080/"
        },
        "outputId": "7e2e388e-76e4-4dd4-f6e6-08eb5c7b9d70"
      },
      "source": [
        "train_onehot = onehot_it(train_set)\n",
        "train_onehot.columns = train_onehot.columns.astype(str)\n",
        "train_onehot['height'] = (train_set['height'] - train_set['height'].mean()) / train_set['height'].std()\n",
        "train_onehot['playgames'] = (train_set['playgames'] - train_set['playgames'].mean()) / train_set['playgames'].std()\n",
        "\n",
        "test_onehot = onehot_it(test_set)\n",
        "test_onehot.columns = test_onehot.columns.astype(str)\n",
        "test_onehot['height'] = (test_set['height'] - test_set['height'].mean()) / test_set['height'].std()\n",
        "test_onehot['playgames'] = (test_set['playgames'] - test_set['playgames'].mean()) / test_set['playgames'].std()\n",
        "\n",
        "mlp_classifier = MLPClassifier(hidden_layer_sizes=(10,), activation='logistic', solver='lbfgs', random_state=42)\n",
        "mlp_classifier.fit(train_onehot, train_set['gender'])\n",
        "\n",
        "train_predictions = mlp_classifier.predict(train_onehot)\n",
        "trainn = accuracy_score(train_set['gender'], train_predictions)\n",
        "\n",
        "test_predictions = mlp_classifier.predict(test_onehot)\n",
        "testt = accuracy_score(test_set['gender'], test_predictions)\n",
        "\n",
        "print('training accuracy:', trainn)\n",
        "print('test accuracy:', testt)"
      ],
      "execution_count": 225,
      "outputs": [
        {
          "output_type": "stream",
          "name": "stdout",
          "text": [
            "training accuracy: 0.9177852348993288\n",
            "test accuracy: 0.7788944723618091\n"
          ]
        }
      ]
    },
    {
      "cell_type": "markdown",
      "metadata": {
        "id": "1foS74O01FfP"
      },
      "source": [
        "**Answer: training accuracy: 0.9177852348993288 //\n",
        "test accuracy: 0.7788944723618091**"
      ]
    },
    {
      "cell_type": "markdown",
      "metadata": {
        "id": "Jusc-kofrePP"
      },
      "source": [
        "***\n",
        "### Question 7- Bonus (1 point)###\n",
        "Can you improve your test set prediction accuracy by 3% or more? See how close to that milestone of improvement you can get by modifying the hyperparameters of  Neural Networks (the number of hidden layers, number of hidden nodes in each layer, the learning rate, the type of activation function etc.).\n",
        "\n",
        "A great guide to tuning parameters is explained in this guide: http://www.csie.ntu.edu.tw/~cjlin/papers/guide/guide.pdf. While the guide is specific to SVM and in particular the C and gamma parameters of the RBF kernel, the method applies more generally to any ML technique with tuning parameters.\n",
        "\n",
        "Please give your new prediction accuracy on the test set, and write a paragraph in a text cell below with an explanation of your approach and evaluation metrics.\n"
      ]
    },
    {
      "cell_type": "code",
      "metadata": {
        "id": "qvpoUdeq1GsX"
      },
      "source": [
        "# YOUR CODE HERE"
      ],
      "execution_count": null,
      "outputs": []
    },
    {
      "cell_type": "markdown",
      "metadata": {
        "id": "2rFY8D4Q1GsZ"
      },
      "source": [
        "**Answer: YOUR ANSWER HERE**"
      ]
    },
    {
      "cell_type": "markdown",
      "source": [
        "**Explanation: YOUR ANSWER HERE**"
      ],
      "metadata": {
        "id": "WwQ1o2BZDtKM"
      }
    }
  ]
}