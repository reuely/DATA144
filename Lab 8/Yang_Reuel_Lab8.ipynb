{
  "nbformat": 4,
  "nbformat_minor": 0,
  "metadata": {
    "colab": {
      "provenance": []
    },
    "kernelspec": {
      "name": "python3",
      "display_name": "Python 3"
    }
  },
  "cells": [
    {
      "cell_type": "markdown",
      "metadata": {
        "id": "9kTKaVK47knP"
      },
      "source": [
        "# Lab 8 Neural Language Model\n",
        "A language model predicts the next word in the sequence based on the specific words that have come before it in the sequence.\n",
        "\n",
        "It is also possible to develop language models at the character level using neural networks. The benefit of character-based language models is their small vocabulary and flexibility in handling any words, punctuation, and other document structure. This comes at the cost of requiring larger models that are slower to train.\n",
        "\n",
        "Nevertheless, in the field of neural language models, character-based models offer a lot of promise for a general, flexible and powerful approach to language modeling."
      ]
    },
    {
      "cell_type": "markdown",
      "metadata": {
        "id": "QK2Ew8_C7knQ"
      },
      "source": [
        "As a prerequisite for the lab, make sure to pip install:\n",
        "- keras\n",
        "- tensorflow\n",
        "- h5py"
      ]
    },
    {
      "cell_type": "markdown",
      "metadata": {
        "id": "xIs5eFI97knR"
      },
      "source": [
        "# Source Text Creation"
      ]
    },
    {
      "cell_type": "markdown",
      "metadata": {
        "id": "zQku8-L97knT"
      },
      "source": [
        "To start out with, we'll be using a simple nursery rhyme. It's quite short so we can actually train something on your CPU and see relatively interesting results. Please copy and paste the following text in a text file and save it as \"rhymes.txt\". Place this in the same directory as this jupyter notebook:"
      ]
    },
    {
      "cell_type": "code",
      "metadata": {
        "id": "6wl1ZLGG7wii",
        "colab": {
          "base_uri": "https://localhost:8080/",
          "height": 0
        },
        "outputId": "8e61a46b-d85b-4040-cfbb-8c5a63fb1cab"
      },
      "source": [
        "!pip install tensorflow\n",
        "!pip install keras\n",
        "!pip install h5py"
      ],
      "execution_count": 71,
      "outputs": [
        {
          "output_type": "stream",
          "name": "stdout",
          "text": [
            "Requirement already satisfied: tensorflow in /usr/local/lib/python3.10/dist-packages (2.14.0)\n",
            "Requirement already satisfied: absl-py>=1.0.0 in /usr/local/lib/python3.10/dist-packages (from tensorflow) (1.4.0)\n",
            "Requirement already satisfied: astunparse>=1.6.0 in /usr/local/lib/python3.10/dist-packages (from tensorflow) (1.6.3)\n",
            "Requirement already satisfied: flatbuffers>=23.5.26 in /usr/local/lib/python3.10/dist-packages (from tensorflow) (23.5.26)\n",
            "Requirement already satisfied: gast!=0.5.0,!=0.5.1,!=0.5.2,>=0.2.1 in /usr/local/lib/python3.10/dist-packages (from tensorflow) (0.5.4)\n",
            "Requirement already satisfied: google-pasta>=0.1.1 in /usr/local/lib/python3.10/dist-packages (from tensorflow) (0.2.0)\n",
            "Requirement already satisfied: h5py>=2.9.0 in /usr/local/lib/python3.10/dist-packages (from tensorflow) (3.9.0)\n",
            "Requirement already satisfied: libclang>=13.0.0 in /usr/local/lib/python3.10/dist-packages (from tensorflow) (16.0.6)\n",
            "Requirement already satisfied: ml-dtypes==0.2.0 in /usr/local/lib/python3.10/dist-packages (from tensorflow) (0.2.0)\n",
            "Requirement already satisfied: numpy>=1.23.5 in /usr/local/lib/python3.10/dist-packages (from tensorflow) (1.23.5)\n",
            "Requirement already satisfied: opt-einsum>=2.3.2 in /usr/local/lib/python3.10/dist-packages (from tensorflow) (3.3.0)\n",
            "Requirement already satisfied: packaging in /usr/local/lib/python3.10/dist-packages (from tensorflow) (23.2)\n",
            "Requirement already satisfied: protobuf!=4.21.0,!=4.21.1,!=4.21.2,!=4.21.3,!=4.21.4,!=4.21.5,<5.0.0dev,>=3.20.3 in /usr/local/lib/python3.10/dist-packages (from tensorflow) (3.20.3)\n",
            "Requirement already satisfied: setuptools in /usr/local/lib/python3.10/dist-packages (from tensorflow) (67.7.2)\n",
            "Requirement already satisfied: six>=1.12.0 in /usr/local/lib/python3.10/dist-packages (from tensorflow) (1.16.0)\n",
            "Requirement already satisfied: termcolor>=1.1.0 in /usr/local/lib/python3.10/dist-packages (from tensorflow) (2.3.0)\n",
            "Requirement already satisfied: typing-extensions>=3.6.6 in /usr/local/lib/python3.10/dist-packages (from tensorflow) (4.5.0)\n",
            "Requirement already satisfied: wrapt<1.15,>=1.11.0 in /usr/local/lib/python3.10/dist-packages (from tensorflow) (1.14.1)\n",
            "Requirement already satisfied: tensorflow-io-gcs-filesystem>=0.23.1 in /usr/local/lib/python3.10/dist-packages (from tensorflow) (0.34.0)\n",
            "Requirement already satisfied: grpcio<2.0,>=1.24.3 in /usr/local/lib/python3.10/dist-packages (from tensorflow) (1.59.2)\n",
            "Requirement already satisfied: tensorboard<2.15,>=2.14 in /usr/local/lib/python3.10/dist-packages (from tensorflow) (2.14.1)\n",
            "Requirement already satisfied: tensorflow-estimator<2.15,>=2.14.0 in /usr/local/lib/python3.10/dist-packages (from tensorflow) (2.14.0)\n",
            "Requirement already satisfied: keras<2.15,>=2.14.0 in /usr/local/lib/python3.10/dist-packages (from tensorflow) (2.14.0)\n",
            "Requirement already satisfied: wheel<1.0,>=0.23.0 in /usr/local/lib/python3.10/dist-packages (from astunparse>=1.6.0->tensorflow) (0.41.3)\n",
            "Requirement already satisfied: google-auth<3,>=1.6.3 in /usr/local/lib/python3.10/dist-packages (from tensorboard<2.15,>=2.14->tensorflow) (2.17.3)\n",
            "Requirement already satisfied: google-auth-oauthlib<1.1,>=0.5 in /usr/local/lib/python3.10/dist-packages (from tensorboard<2.15,>=2.14->tensorflow) (1.0.0)\n",
            "Requirement already satisfied: markdown>=2.6.8 in /usr/local/lib/python3.10/dist-packages (from tensorboard<2.15,>=2.14->tensorflow) (3.5.1)\n",
            "Requirement already satisfied: requests<3,>=2.21.0 in /usr/local/lib/python3.10/dist-packages (from tensorboard<2.15,>=2.14->tensorflow) (2.31.0)\n",
            "Requirement already satisfied: tensorboard-data-server<0.8.0,>=0.7.0 in /usr/local/lib/python3.10/dist-packages (from tensorboard<2.15,>=2.14->tensorflow) (0.7.2)\n",
            "Requirement already satisfied: werkzeug>=1.0.1 in /usr/local/lib/python3.10/dist-packages (from tensorboard<2.15,>=2.14->tensorflow) (3.0.1)\n",
            "Requirement already satisfied: cachetools<6.0,>=2.0.0 in /usr/local/lib/python3.10/dist-packages (from google-auth<3,>=1.6.3->tensorboard<2.15,>=2.14->tensorflow) (5.3.2)\n",
            "Requirement already satisfied: pyasn1-modules>=0.2.1 in /usr/local/lib/python3.10/dist-packages (from google-auth<3,>=1.6.3->tensorboard<2.15,>=2.14->tensorflow) (0.3.0)\n",
            "Requirement already satisfied: rsa<5,>=3.1.4 in /usr/local/lib/python3.10/dist-packages (from google-auth<3,>=1.6.3->tensorboard<2.15,>=2.14->tensorflow) (4.9)\n",
            "Requirement already satisfied: requests-oauthlib>=0.7.0 in /usr/local/lib/python3.10/dist-packages (from google-auth-oauthlib<1.1,>=0.5->tensorboard<2.15,>=2.14->tensorflow) (1.3.1)\n",
            "Requirement already satisfied: charset-normalizer<4,>=2 in /usr/local/lib/python3.10/dist-packages (from requests<3,>=2.21.0->tensorboard<2.15,>=2.14->tensorflow) (3.3.2)\n",
            "Requirement already satisfied: idna<4,>=2.5 in /usr/local/lib/python3.10/dist-packages (from requests<3,>=2.21.0->tensorboard<2.15,>=2.14->tensorflow) (3.4)\n",
            "Requirement already satisfied: urllib3<3,>=1.21.1 in /usr/local/lib/python3.10/dist-packages (from requests<3,>=2.21.0->tensorboard<2.15,>=2.14->tensorflow) (2.0.7)\n",
            "Requirement already satisfied: certifi>=2017.4.17 in /usr/local/lib/python3.10/dist-packages (from requests<3,>=2.21.0->tensorboard<2.15,>=2.14->tensorflow) (2023.7.22)\n",
            "Requirement already satisfied: MarkupSafe>=2.1.1 in /usr/local/lib/python3.10/dist-packages (from werkzeug>=1.0.1->tensorboard<2.15,>=2.14->tensorflow) (2.1.3)\n",
            "Requirement already satisfied: pyasn1<0.6.0,>=0.4.6 in /usr/local/lib/python3.10/dist-packages (from pyasn1-modules>=0.2.1->google-auth<3,>=1.6.3->tensorboard<2.15,>=2.14->tensorflow) (0.5.0)\n",
            "Requirement already satisfied: oauthlib>=3.0.0 in /usr/local/lib/python3.10/dist-packages (from requests-oauthlib>=0.7.0->google-auth-oauthlib<1.1,>=0.5->tensorboard<2.15,>=2.14->tensorflow) (3.2.2)\n",
            "Requirement already satisfied: keras in /usr/local/lib/python3.10/dist-packages (2.14.0)\n",
            "Requirement already satisfied: h5py in /usr/local/lib/python3.10/dist-packages (3.9.0)\n",
            "Requirement already satisfied: numpy>=1.17.3 in /usr/local/lib/python3.10/dist-packages (from h5py) (1.23.5)\n"
          ]
        }
      ]
    },
    {
      "cell_type": "code",
      "metadata": {
        "id": "iqQdG7M68HVt"
      },
      "source": [
        "\n",
        "s='Sing a song of sixpence,\\\n",
        "A pocket full of rye.\\\n",
        "Four and twenty blackbirds,\\\n",
        "Baked in a pie.\\\n",
        "When the pie was opened\\\n",
        "The birds began to sing;\\\n",
        "Wasn’t that a dainty dish,\\\n",
        "To set before the king.\\\n",
        "The king was in his counting house,\\\n",
        "Counting out his money;\\\n",
        "The queen was in the parlour,\\\n",
        "Eating bread and honey.\\\n",
        "The maid was in the garden,\\\n",
        "Hanging out the clothes,\\\n",
        "When down came a blackbird\\\n",
        "And pecked off her nose.'\n",
        "\n",
        "with open('rhymes.txt','w') as f:\n",
        "  f.write(s)"
      ],
      "execution_count": 72,
      "outputs": []
    },
    {
      "cell_type": "markdown",
      "metadata": {
        "id": "Gq7wq3fF7knV"
      },
      "source": [
        "    Sing a song of sixpence,\n",
        "    A pocket full of rye.\n",
        "    Four and twenty blackbirds,\n",
        "    Baked in a pie.\n",
        "\n",
        "    When the pie was opened\n",
        "    The birds began to sing;\n",
        "    Wasn’t that a dainty dish,\n",
        "    To set before the king.\n",
        "\n",
        "    The king was in his counting house,\n",
        "    Counting out his money;\n",
        "    The queen was in the parlour,\n",
        "    Eating bread and honey.\n",
        "\n",
        "    The maid was in the garden,\n",
        "    Hanging out the clothes,\n",
        "    When down came a blackbird\n",
        "    And pecked off her nose."
      ]
    },
    {
      "cell_type": "markdown",
      "metadata": {
        "id": "tdOJmdjU7knW"
      },
      "source": [
        "# Sequence Generation\n",
        "\n",
        "A language model must be trained on the text, and in the case of a character-based language model, the input and output sequences must be characters.\n",
        "\n",
        "The number of characters used as input will also define the number of characters that will need to be provided to the model in order to elicit the first predicted character.\n",
        "\n",
        "After the first character has been generated, it can be appended to the input sequence and used as input for the model to generate the next character.\n",
        "\n",
        "Longer sequences offer more context for the model to learn what character to output next but take longer to train and impose more burden on seeding the model when generating text.\n",
        "\n",
        "We will use an arbitrary length of 10 characters for this model.\n",
        "\n",
        "There is not a lot of text, and 10 characters is a few words.\n",
        "\n",
        "We can now transform the raw text into a form that our model can learn; specifically, input and output sequences of characters."
      ]
    },
    {
      "cell_type": "code",
      "metadata": {
        "id": "JjJfvv1U7knY"
      },
      "source": [
        "#load doc into memory\n",
        "def load_doc(filename):\n",
        "    # open the file as read only\n",
        "    file = open(filename, 'r')\n",
        "    # read all text\n",
        "    text = file.read()\n",
        "    # close the file\n",
        "    file.close()\n",
        "    return text\n",
        "# save tokens to file, one dialog per line\n",
        "def save_doc(lines, filename):\n",
        "    data = '\\n'.join(lines)\n",
        "    file = open(filename, 'w')\n",
        "    file.write(data)\n",
        "    file.close()"
      ],
      "execution_count": 73,
      "outputs": []
    },
    {
      "cell_type": "code",
      "metadata": {
        "id": "F6GbMmMs7knb",
        "colab": {
          "base_uri": "https://localhost:8080/",
          "height": 0
        },
        "outputId": "867731ff-8632-42d7-c952-5341ddec02dd"
      },
      "source": [
        "from sklearn.model_selection import train_test_split\n",
        "\n",
        "#load text\n",
        "raw_text = load_doc('rhymes.txt')\n",
        "print(raw_text)\n",
        "\n",
        "# clean\n",
        "tokens = raw_text.split()\n",
        "raw_text = ' '.join(tokens)\n",
        "\n",
        "# organize into sequences of characters\n",
        "length = 10 # changeing the length to 10 seem to make the model perform better but I had to change it back to 10 to do further questinos\n",
        "sequences = list()\n",
        "for i in range(length, len(raw_text)):\n",
        "    # select sequence of tokens\n",
        "    seq = raw_text[i-length:i+1]\n",
        "    # store\n",
        "    sequences.append(seq)\n",
        "\n",
        "train_sequences, val_sequences = train_test_split(sequences, test_size=0.2, random_state=42)\n",
        "save_doc(train_sequences, 'train_sequences.txt')\n",
        "save_doc(val_sequences, 'val_sequences.txt')\n",
        "print('Total Sequences: %d' % len(sequences))"
      ],
      "execution_count": 102,
      "outputs": [
        {
          "output_type": "stream",
          "name": "stdout",
          "text": [
            "Sing a song of sixpence,A pocket full of rye.Four and twenty blackbirds,Baked in a pie.When the pie was openedThe birds began to sing;Wasn’t that a dainty dish,To set before the king.The king was in his counting house,Counting out his money;The queen was in the parlour,Eating bread and honey.The maid was in the garden,Hanging out the clothes,When down came a blackbirdAnd pecked off her nose.\n",
            "Total Sequences: 384\n"
          ]
        }
      ]
    },
    {
      "cell_type": "code",
      "metadata": {
        "id": "iBepEyDn7kne"
      },
      "source": [
        "# save sequences to file\n",
        "out_filename = 'char_sequences.txt'\n",
        "save_doc(sequences, out_filename)"
      ],
      "execution_count": 103,
      "outputs": []
    },
    {
      "cell_type": "markdown",
      "metadata": {
        "id": "ohjVbv1l7kng"
      },
      "source": [
        "# Train a Model\n",
        "In this section, we will develop a neural language model for the prepared sequence data.\n",
        "\n",
        "The model will read encoded characters and predict the next character in the sequence. A Long Short-Term Memory recurrent neural network hidden layer will be used to learn the context from the input sequence in order to make the predictions."
      ]
    },
    {
      "cell_type": "code",
      "metadata": {
        "id": "7HBgtQvY7knh"
      },
      "source": [
        "from numpy import array\n",
        "from pickle import dump\n",
        "from tensorflow.keras.utils import to_categorical\n",
        "from keras.models import Sequential\n",
        "from keras.layers import Dense\n",
        "from keras.layers import LSTM\n",
        "\n",
        "# load doc into memory\n",
        "def load_doc(filename):\n",
        "    # open the file as read only\n",
        "    file = open(filename, 'r')\n",
        "    # read all text\n",
        "    text = file.read()\n",
        "    # close the file\n",
        "    file.close()\n",
        "    return text"
      ],
      "execution_count": 104,
      "outputs": []
    },
    {
      "cell_type": "code",
      "metadata": {
        "id": "r8ruXoPS7knl"
      },
      "source": [
        "# load\n",
        "\n",
        "in_filename = 'char_sequences.txt'\n",
        "raw_text = load_doc(in_filename)\n",
        "lines = raw_text.split('\\n')"
      ],
      "execution_count": 105,
      "outputs": []
    },
    {
      "cell_type": "markdown",
      "metadata": {
        "id": "uTnvoY-f7kno"
      },
      "source": [
        "The sequences of characters must be encoded as integers.This means that each unique character will be assigned a specific integer value and each sequence of characters will be encoded as a sequence of integers. We can create the mapping given a sorted set of unique characters in the raw input data. The mapping is a dictionary of character values to integer values.\n",
        "\n",
        "Next, we can process each sequence of characters one at a time and use the dictionary mapping to look up the integer value for each character. The result is a list of integer lists.\n",
        "\n",
        "We need to know the size of the vocabulary later. We can retrieve this as the size of the dictionary mapping."
      ]
    },
    {
      "cell_type": "code",
      "metadata": {
        "id": "kMndzt5v7kno",
        "colab": {
          "base_uri": "https://localhost:8080/",
          "height": 0
        },
        "outputId": "8eba1f6d-a60c-4001-e512-4838d607cd4e"
      },
      "source": [
        "# integer encode sequences of characters\n",
        "chars = sorted(list(set(raw_text)))\n",
        "mapping = dict((c, i) for i, c in enumerate(chars))\n",
        "sequences = list()\n",
        "for line in lines:\n",
        "    # integer encode line\n",
        "    encoded_seq = [mapping[char] for char in line]\n",
        "    # store\n",
        "    sequences.append(encoded_seq)\n",
        "\n",
        "# vocabulary size\n",
        "vocab_size = len(mapping)\n",
        "print('Vocabulary Size: %d' % vocab_size)\n",
        "\n",
        "# separate into input and output\n",
        "sequences = array(sequences)\n",
        "X, y = sequences[:,:-1], sequences[:,-1]\n",
        "sequences = [to_categorical(x, num_classes=vocab_size) for x in X]\n",
        "X = array(sequences)\n",
        "y = to_categorical(y, num_classes=vocab_size)"
      ],
      "execution_count": 106,
      "outputs": [
        {
          "output_type": "stream",
          "name": "stdout",
          "text": [
            "Vocabulary Size: 38\n"
          ]
        }
      ]
    },
    {
      "cell_type": "markdown",
      "metadata": {
        "id": "0qyCICfV7knx"
      },
      "source": [
        "The model is defined with an input layer that takes sequences that have 10 time steps and 38 features for the one hot encoded input sequences. Rather than specify these numbers, we use the second and third dimensions on the X input data. This is so that if we change the length of the sequences or size of the vocabulary, we do not need to change the model definition.\n",
        "\n",
        "The model has a single LSTM hidden layer with 75 memory cells. The model has a fully connected output layer that outputs one vector with a probability distribution across all characters in the vocabulary. A softmax activation function is used on the output layer to ensure the output has the properties of a probability distribution.\n",
        "\n",
        "The model is learning a multi-class classification problem, therefore we use the categorical log loss intended for this type of problem. The efficient Adam implementation of gradient descent is used to optimize the model and accuracy is reported at the end of each batch update. The model is fit for 50 training epochs.\n",
        "\n",
        "# To Do:\n",
        "- Try different numbers of memory cells\n",
        "- Try different types and amounts of recurrent and fully connected layers\n",
        "- Try different lengths of training epochs\n",
        "- Try different sequence lengths and pre-processing of data\n",
        "- Try regularization techniques such as Dropout"
      ]
    },
    {
      "cell_type": "code",
      "metadata": {
        "scrolled": false,
        "id": "K1jO9lYX7kny",
        "colab": {
          "base_uri": "https://localhost:8080/",
          "height": 0
        },
        "outputId": "a1db4621-b516-40f7-c9ad-5c5547db183e"
      },
      "source": [
        "from keras.layers import Dropout\n",
        "\n",
        "# define model\n",
        "model = Sequential()\n",
        "model.add(LSTM(85, input_shape=(X.shape[1], X.shape[2])))\n",
        "#model.add(Dropout(0.2)) #adding Dropout made it perform poorer so far\n",
        "model.add(Dense(vocab_size, activation='softmax'))\n",
        "print(model.summary())\n",
        "# compile model\n",
        "model.compile(loss='categorical_crossentropy', optimizer='adam', metrics=['accuracy'])\n",
        "# fit model\n",
        "history=model.fit(X, y, epochs=100)"
      ],
      "execution_count": 112,
      "outputs": [
        {
          "output_type": "stream",
          "name": "stdout",
          "text": [
            "Model: \"sequential_27\"\n",
            "_________________________________________________________________\n",
            " Layer (type)                Output Shape              Param #   \n",
            "=================================================================\n",
            " lstm_29 (LSTM)              (None, 85)                42160     \n",
            "                                                                 \n",
            " dense_26 (Dense)            (None, 38)                3268      \n",
            "                                                                 \n",
            "=================================================================\n",
            "Total params: 45428 (177.45 KB)\n",
            "Trainable params: 45428 (177.45 KB)\n",
            "Non-trainable params: 0 (0.00 Byte)\n",
            "_________________________________________________________________\n",
            "None\n",
            "Epoch 1/100\n",
            "12/12 [==============================] - 3s 9ms/step - loss: 3.6120 - accuracy: 0.0807\n",
            "Epoch 2/100\n",
            "12/12 [==============================] - 0s 10ms/step - loss: 3.4884 - accuracy: 0.1615\n",
            "Epoch 3/100\n",
            "12/12 [==============================] - 0s 11ms/step - loss: 3.1916 - accuracy: 0.1589\n",
            "Epoch 4/100\n",
            "12/12 [==============================] - 0s 10ms/step - loss: 3.0852 - accuracy: 0.1615\n",
            "Epoch 5/100\n",
            "12/12 [==============================] - 0s 12ms/step - loss: 3.0530 - accuracy: 0.1615\n",
            "Epoch 6/100\n",
            "12/12 [==============================] - 0s 13ms/step - loss: 3.0342 - accuracy: 0.1589\n",
            "Epoch 7/100\n",
            "12/12 [==============================] - 0s 12ms/step - loss: 3.0204 - accuracy: 0.1589\n",
            "Epoch 8/100\n",
            "12/12 [==============================] - 0s 13ms/step - loss: 3.0041 - accuracy: 0.1589\n",
            "Epoch 9/100\n",
            "12/12 [==============================] - 0s 12ms/step - loss: 2.9852 - accuracy: 0.1615\n",
            "Epoch 10/100\n",
            "12/12 [==============================] - 0s 13ms/step - loss: 2.9704 - accuracy: 0.1615\n",
            "Epoch 11/100\n",
            "12/12 [==============================] - 0s 11ms/step - loss: 2.9487 - accuracy: 0.1641\n",
            "Epoch 12/100\n",
            "12/12 [==============================] - 0s 12ms/step - loss: 2.9233 - accuracy: 0.1927\n",
            "Epoch 13/100\n",
            "12/12 [==============================] - 0s 12ms/step - loss: 2.8920 - accuracy: 0.2057\n",
            "Epoch 14/100\n",
            "12/12 [==============================] - 0s 13ms/step - loss: 2.8689 - accuracy: 0.1953\n",
            "Epoch 15/100\n",
            "12/12 [==============================] - 0s 13ms/step - loss: 2.8476 - accuracy: 0.2031\n",
            "Epoch 16/100\n",
            "12/12 [==============================] - 0s 14ms/step - loss: 2.8189 - accuracy: 0.2057\n",
            "Epoch 17/100\n",
            "12/12 [==============================] - 0s 12ms/step - loss: 2.7954 - accuracy: 0.2109\n",
            "Epoch 18/100\n",
            "12/12 [==============================] - 0s 11ms/step - loss: 2.7728 - accuracy: 0.2240\n",
            "Epoch 19/100\n",
            "12/12 [==============================] - 0s 11ms/step - loss: 2.7459 - accuracy: 0.2370\n",
            "Epoch 20/100\n",
            "12/12 [==============================] - 0s 9ms/step - loss: 2.7161 - accuracy: 0.2318\n",
            "Epoch 21/100\n",
            "12/12 [==============================] - 0s 9ms/step - loss: 2.6847 - accuracy: 0.2318\n",
            "Epoch 22/100\n",
            "12/12 [==============================] - 0s 10ms/step - loss: 2.6434 - accuracy: 0.2448\n",
            "Epoch 23/100\n",
            "12/12 [==============================] - 0s 12ms/step - loss: 2.6193 - accuracy: 0.2526\n",
            "Epoch 24/100\n",
            "12/12 [==============================] - 0s 11ms/step - loss: 2.5806 - accuracy: 0.2578\n",
            "Epoch 25/100\n",
            "12/12 [==============================] - 0s 11ms/step - loss: 2.5524 - accuracy: 0.2578\n",
            "Epoch 26/100\n",
            "12/12 [==============================] - 0s 11ms/step - loss: 2.5342 - accuracy: 0.2865\n",
            "Epoch 27/100\n",
            "12/12 [==============================] - 0s 11ms/step - loss: 2.4782 - accuracy: 0.2734\n",
            "Epoch 28/100\n",
            "12/12 [==============================] - 0s 11ms/step - loss: 2.4299 - accuracy: 0.2839\n",
            "Epoch 29/100\n",
            "12/12 [==============================] - 0s 12ms/step - loss: 2.3785 - accuracy: 0.3125\n",
            "Epoch 30/100\n",
            "12/12 [==============================] - 0s 11ms/step - loss: 2.3524 - accuracy: 0.2995\n",
            "Epoch 31/100\n",
            "12/12 [==============================] - 0s 12ms/step - loss: 2.3317 - accuracy: 0.3047\n",
            "Epoch 32/100\n",
            "12/12 [==============================] - 0s 10ms/step - loss: 2.2771 - accuracy: 0.3385\n",
            "Epoch 33/100\n",
            "12/12 [==============================] - 0s 9ms/step - loss: 2.2208 - accuracy: 0.3646\n",
            "Epoch 34/100\n",
            "12/12 [==============================] - 0s 11ms/step - loss: 2.1980 - accuracy: 0.3568\n",
            "Epoch 35/100\n",
            "12/12 [==============================] - 0s 12ms/step - loss: 2.1606 - accuracy: 0.3646\n",
            "Epoch 36/100\n",
            "12/12 [==============================] - 0s 10ms/step - loss: 2.1048 - accuracy: 0.3724\n",
            "Epoch 37/100\n",
            "12/12 [==============================] - 0s 11ms/step - loss: 2.0580 - accuracy: 0.4115\n",
            "Epoch 38/100\n",
            "12/12 [==============================] - 0s 12ms/step - loss: 2.0147 - accuracy: 0.4245\n",
            "Epoch 39/100\n",
            "12/12 [==============================] - 0s 12ms/step - loss: 1.9889 - accuracy: 0.4401\n",
            "Epoch 40/100\n",
            "12/12 [==============================] - 0s 11ms/step - loss: 1.9086 - accuracy: 0.4557\n",
            "Epoch 41/100\n",
            "12/12 [==============================] - 0s 10ms/step - loss: 1.8696 - accuracy: 0.4792\n",
            "Epoch 42/100\n",
            "12/12 [==============================] - 0s 11ms/step - loss: 1.8274 - accuracy: 0.4896\n",
            "Epoch 43/100\n",
            "12/12 [==============================] - 0s 12ms/step - loss: 1.7842 - accuracy: 0.4948\n",
            "Epoch 44/100\n",
            "12/12 [==============================] - 0s 10ms/step - loss: 1.7314 - accuracy: 0.5000\n",
            "Epoch 45/100\n",
            "12/12 [==============================] - 0s 11ms/step - loss: 1.6891 - accuracy: 0.5391\n",
            "Epoch 46/100\n",
            "12/12 [==============================] - 0s 12ms/step - loss: 1.6368 - accuracy: 0.5547\n",
            "Epoch 47/100\n",
            "12/12 [==============================] - 0s 11ms/step - loss: 1.6166 - accuracy: 0.5625\n",
            "Epoch 48/100\n",
            "12/12 [==============================] - 0s 11ms/step - loss: 1.5721 - accuracy: 0.5573\n",
            "Epoch 49/100\n",
            "12/12 [==============================] - 0s 12ms/step - loss: 1.5412 - accuracy: 0.5807\n",
            "Epoch 50/100\n",
            "12/12 [==============================] - 0s 12ms/step - loss: 1.4473 - accuracy: 0.6172\n",
            "Epoch 51/100\n",
            "12/12 [==============================] - 0s 10ms/step - loss: 1.4206 - accuracy: 0.6224\n",
            "Epoch 52/100\n",
            "12/12 [==============================] - 0s 12ms/step - loss: 1.3682 - accuracy: 0.6536\n",
            "Epoch 53/100\n",
            "12/12 [==============================] - 0s 16ms/step - loss: 1.3136 - accuracy: 0.6745\n",
            "Epoch 54/100\n",
            "12/12 [==============================] - 0s 18ms/step - loss: 1.2705 - accuracy: 0.6771\n",
            "Epoch 55/100\n",
            "12/12 [==============================] - 0s 23ms/step - loss: 1.2392 - accuracy: 0.7005\n",
            "Epoch 56/100\n",
            "12/12 [==============================] - 0s 20ms/step - loss: 1.1862 - accuracy: 0.7109\n",
            "Epoch 57/100\n",
            "12/12 [==============================] - 0s 12ms/step - loss: 1.1356 - accuracy: 0.7266\n",
            "Epoch 58/100\n",
            "12/12 [==============================] - 0s 15ms/step - loss: 1.0910 - accuracy: 0.7344\n",
            "Epoch 59/100\n",
            "12/12 [==============================] - 0s 10ms/step - loss: 1.0474 - accuracy: 0.7786\n",
            "Epoch 60/100\n",
            "12/12 [==============================] - 0s 15ms/step - loss: 0.9946 - accuracy: 0.8125\n",
            "Epoch 61/100\n",
            "12/12 [==============================] - 0s 9ms/step - loss: 0.9406 - accuracy: 0.7943\n",
            "Epoch 62/100\n",
            "12/12 [==============================] - 0s 16ms/step - loss: 0.9090 - accuracy: 0.8229\n",
            "Epoch 63/100\n",
            "12/12 [==============================] - 0s 35ms/step - loss: 0.8605 - accuracy: 0.8464\n",
            "Epoch 64/100\n",
            "12/12 [==============================] - 0s 29ms/step - loss: 0.8217 - accuracy: 0.8750\n",
            "Epoch 65/100\n",
            "12/12 [==============================] - 0s 32ms/step - loss: 0.7826 - accuracy: 0.8776\n",
            "Epoch 66/100\n",
            "12/12 [==============================] - 0s 30ms/step - loss: 0.7597 - accuracy: 0.8828\n",
            "Epoch 67/100\n",
            "12/12 [==============================] - 0s 28ms/step - loss: 0.7430 - accuracy: 0.8932\n",
            "Epoch 68/100\n",
            "12/12 [==============================] - 0s 25ms/step - loss: 0.6818 - accuracy: 0.9089\n",
            "Epoch 69/100\n",
            "12/12 [==============================] - 0s 18ms/step - loss: 0.6503 - accuracy: 0.9219\n",
            "Epoch 70/100\n",
            "12/12 [==============================] - 0s 16ms/step - loss: 0.6174 - accuracy: 0.9349\n",
            "Epoch 71/100\n",
            "12/12 [==============================] - 0s 17ms/step - loss: 0.5821 - accuracy: 0.9531\n",
            "Epoch 72/100\n",
            "12/12 [==============================] - 0s 14ms/step - loss: 0.5460 - accuracy: 0.9479\n",
            "Epoch 73/100\n",
            "12/12 [==============================] - 0s 14ms/step - loss: 0.5233 - accuracy: 0.9635\n",
            "Epoch 74/100\n",
            "12/12 [==============================] - 0s 17ms/step - loss: 0.5043 - accuracy: 0.9688\n",
            "Epoch 75/100\n",
            "12/12 [==============================] - 0s 15ms/step - loss: 0.4787 - accuracy: 0.9557\n",
            "Epoch 76/100\n",
            "12/12 [==============================] - 0s 15ms/step - loss: 0.4472 - accuracy: 0.9740\n",
            "Epoch 77/100\n",
            "12/12 [==============================] - 0s 14ms/step - loss: 0.4286 - accuracy: 0.9792\n",
            "Epoch 78/100\n",
            "12/12 [==============================] - 0s 14ms/step - loss: 0.4097 - accuracy: 0.9818\n",
            "Epoch 79/100\n",
            "12/12 [==============================] - 0s 15ms/step - loss: 0.3889 - accuracy: 0.9792\n",
            "Epoch 80/100\n",
            "12/12 [==============================] - 0s 17ms/step - loss: 0.3672 - accuracy: 0.9740\n",
            "Epoch 81/100\n",
            "12/12 [==============================] - 0s 16ms/step - loss: 0.3503 - accuracy: 0.9792\n",
            "Epoch 82/100\n",
            "12/12 [==============================] - 0s 16ms/step - loss: 0.3350 - accuracy: 0.9792\n",
            "Epoch 83/100\n",
            "12/12 [==============================] - 0s 14ms/step - loss: 0.3191 - accuracy: 0.9896\n",
            "Epoch 84/100\n",
            "12/12 [==============================] - 0s 21ms/step - loss: 0.3054 - accuracy: 0.9844\n",
            "Epoch 85/100\n",
            "12/12 [==============================] - 0s 17ms/step - loss: 0.2939 - accuracy: 0.9844\n",
            "Epoch 86/100\n",
            "12/12 [==============================] - 0s 12ms/step - loss: 0.2826 - accuracy: 0.9818\n",
            "Epoch 87/100\n",
            "12/12 [==============================] - 0s 19ms/step - loss: 0.2751 - accuracy: 0.9792\n",
            "Epoch 88/100\n",
            "12/12 [==============================] - 0s 19ms/step - loss: 0.2591 - accuracy: 0.9896\n",
            "Epoch 89/100\n",
            "12/12 [==============================] - 0s 23ms/step - loss: 0.2524 - accuracy: 0.9870\n",
            "Epoch 90/100\n",
            "12/12 [==============================] - 0s 21ms/step - loss: 0.2387 - accuracy: 0.9896\n",
            "Epoch 91/100\n",
            "12/12 [==============================] - 0s 16ms/step - loss: 0.2259 - accuracy: 0.9870\n",
            "Epoch 92/100\n",
            "12/12 [==============================] - 0s 17ms/step - loss: 0.2165 - accuracy: 0.9948\n",
            "Epoch 93/100\n",
            "12/12 [==============================] - 0s 20ms/step - loss: 0.2135 - accuracy: 0.9870\n",
            "Epoch 94/100\n",
            "12/12 [==============================] - 0s 21ms/step - loss: 0.2016 - accuracy: 0.9948\n",
            "Epoch 95/100\n",
            "12/12 [==============================] - 0s 15ms/step - loss: 0.1910 - accuracy: 0.9948\n",
            "Epoch 96/100\n",
            "12/12 [==============================] - 0s 21ms/step - loss: 0.1874 - accuracy: 0.9896\n",
            "Epoch 97/100\n",
            "12/12 [==============================] - 0s 28ms/step - loss: 0.1786 - accuracy: 0.9896\n",
            "Epoch 98/100\n",
            "12/12 [==============================] - 0s 18ms/step - loss: 0.1711 - accuracy: 0.9922\n",
            "Epoch 99/100\n",
            "12/12 [==============================] - 0s 9ms/step - loss: 0.1664 - accuracy: 0.9922\n",
            "Epoch 100/100\n",
            "12/12 [==============================] - 0s 10ms/step - loss: 0.1608 - accuracy: 0.9922\n"
          ]
        }
      ]
    },
    {
      "cell_type": "code",
      "metadata": {
        "id": "raAPR9Qp7kn1",
        "colab": {
          "base_uri": "https://localhost:8080/",
          "height": 0
        },
        "outputId": "fccb58c8-8e14-4131-a747-d20c5e7c7080"
      },
      "source": [
        "# save the model to file\n",
        "model.save('model.h5')\n",
        "# save the mapping\n",
        "dump(mapping, open('mapping.pkl', 'wb'))"
      ],
      "execution_count": 108,
      "outputs": [
        {
          "output_type": "stream",
          "name": "stderr",
          "text": [
            "/usr/local/lib/python3.10/dist-packages/keras/src/engine/training.py:3079: UserWarning: You are saving your model as an HDF5 file via `model.save()`. This file format is considered legacy. We recommend using instead the native Keras format, e.g. `model.save('my_model.keras')`.\n",
            "  saving_api.save_model(\n"
          ]
        }
      ]
    },
    {
      "cell_type": "markdown",
      "metadata": {
        "id": "vv4Q4Rkf7kn4"
      },
      "source": [
        "# Generating Text"
      ]
    },
    {
      "cell_type": "markdown",
      "metadata": {
        "id": "EigunCf57kn6"
      },
      "source": [
        "We must provide sequences of 10 characters as input to the model in order to start the generation process. We will pick these manually. A given input sequence will need to be prepared in the same way as preparing the training data for the model."
      ]
    },
    {
      "cell_type": "code",
      "metadata": {
        "id": "6UCWctow7kn-"
      },
      "source": [
        "from pickle import load\n",
        "import numpy as np\n",
        "from keras.models import load_model\n",
        "from tensorflow.keras.utils import to_categorical\n",
        "from keras.preprocessing.sequence import pad_sequences\n",
        "\n",
        "# generate a sequence of characters with a language model\n",
        "def generate_seq(model, mapping, seq_length, seed_text, n_chars):\n",
        "    in_text = seed_text\n",
        "    # generate a fixed number of characters\n",
        "    for _ in range(n_chars):\n",
        "        # encode the characters as integers\n",
        "        encoded = [mapping[char] for char in in_text]\n",
        "        # truncate sequences to a fixed length\n",
        "        encoded = pad_sequences([encoded], maxlen=seq_length, truncating='pre')\n",
        "        # one hot encode\n",
        "        encoded = to_categorical(encoded, num_classes=len(mapping))\n",
        "        # predict character\n",
        "        yhat = np.argmax(model.predict(encoded), axis=-1)\n",
        "        # reverse map integer to character\n",
        "        out_char = ''\n",
        "        for char, index in mapping.items():\n",
        "            if index == yhat:\n",
        "                out_char = char\n",
        "                break\n",
        "        # append to input\n",
        "        in_text += char\n",
        "    return in_text\n",
        "\n",
        "# load the model\n",
        "model = load_model('model.h5')\n",
        "# load the mapping\n",
        "mapping = load(open('mapping.pkl', 'rb'))"
      ],
      "execution_count": 109,
      "outputs": []
    },
    {
      "cell_type": "markdown",
      "metadata": {
        "id": "PXn18EY57koA"
      },
      "source": [
        "Running the example generates three sequences of text.\n",
        "\n",
        "The first is a test to see how the model does at starting from the beginning of the rhyme. The second is a test to see how well it does at beginning in the middle of a line. The final example is a test to see how well it does with a sequence of characters never seen before."
      ]
    },
    {
      "cell_type": "code",
      "metadata": {
        "id": "5UhgrJYh7koB",
        "colab": {
          "base_uri": "https://localhost:8080/",
          "height": 0
        },
        "outputId": "02053fe0-c3ce-439f-d476-81ab2c928f4c"
      },
      "source": [
        "# test start of rhyme\n",
        "print(generate_seq(model, mapping, 10, 'Sing a son', 20))\n",
        "# test mid-line\n",
        "print(generate_seq(model, mapping, 10, 'king was i', 20))\n",
        "# test not in original\n",
        "print(generate_seq(model, mapping, 10, 'hello worl', 20))"
      ],
      "execution_count": 114,
      "outputs": [
        {
          "output_type": "stream",
          "name": "stdout",
          "text": [
            "1/1 [==============================] - 1s 616ms/step\n",
            "1/1 [==============================] - 0s 33ms/step\n",
            "1/1 [==============================] - 0s 38ms/step\n",
            "1/1 [==============================] - 0s 37ms/step\n",
            "1/1 [==============================] - 0s 33ms/step\n",
            "1/1 [==============================] - 0s 31ms/step\n",
            "1/1 [==============================] - 0s 25ms/step\n",
            "1/1 [==============================] - 0s 24ms/step\n",
            "1/1 [==============================] - 0s 33ms/step\n",
            "1/1 [==============================] - 0s 24ms/step\n",
            "1/1 [==============================] - 0s 27ms/step\n",
            "1/1 [==============================] - 0s 24ms/step\n",
            "1/1 [==============================] - 0s 25ms/step\n",
            "1/1 [==============================] - 0s 28ms/step\n",
            "1/1 [==============================] - 0s 25ms/step\n",
            "1/1 [==============================] - 0s 32ms/step\n",
            "1/1 [==============================] - 0s 32ms/step\n",
            "1/1 [==============================] - 0s 37ms/step\n",
            "1/1 [==============================] - 0s 38ms/step\n",
            "1/1 [==============================] - 0s 34ms/step\n",
            "Sing a song of sixpence,A pock\n",
            "1/1 [==============================] - 0s 36ms/step\n",
            "1/1 [==============================] - 0s 30ms/step\n",
            "1/1 [==============================] - 0s 42ms/step\n",
            "1/1 [==============================] - 0s 32ms/step\n",
            "1/1 [==============================] - 0s 35ms/step\n",
            "1/1 [==============================] - 0s 36ms/step\n",
            "1/1 [==============================] - 0s 33ms/step\n",
            "1/1 [==============================] - 0s 27ms/step\n",
            "1/1 [==============================] - 0s 30ms/step\n",
            "1/1 [==============================] - 0s 31ms/step\n",
            "1/1 [==============================] - 0s 31ms/step\n",
            "1/1 [==============================] - 0s 40ms/step\n",
            "1/1 [==============================] - 0s 32ms/step\n",
            "1/1 [==============================] - 0s 39ms/step\n",
            "1/1 [==============================] - 0s 38ms/step\n",
            "1/1 [==============================] - 0s 29ms/step\n",
            "1/1 [==============================] - 0s 29ms/step\n",
            "1/1 [==============================] - 0s 47ms/step\n",
            "1/1 [==============================] - 0s 28ms/step\n",
            "1/1 [==============================] - 0s 33ms/step\n",
            "king was in his counting house\n",
            "1/1 [==============================] - 0s 36ms/step\n",
            "1/1 [==============================] - 0s 30ms/step\n",
            "1/1 [==============================] - 0s 28ms/step\n",
            "1/1 [==============================] - 0s 34ms/step\n",
            "1/1 [==============================] - 0s 40ms/step\n",
            "1/1 [==============================] - 0s 26ms/step\n",
            "1/1 [==============================] - 0s 48ms/step\n",
            "1/1 [==============================] - 0s 32ms/step\n",
            "1/1 [==============================] - 0s 27ms/step\n",
            "1/1 [==============================] - 0s 27ms/step\n",
            "1/1 [==============================] - 0s 41ms/step\n",
            "1/1 [==============================] - 0s 31ms/step\n",
            "1/1 [==============================] - 0s 24ms/step\n",
            "1/1 [==============================] - 0s 30ms/step\n",
            "1/1 [==============================] - 0s 27ms/step\n",
            "1/1 [==============================] - 0s 25ms/step\n",
            "1/1 [==============================] - 0s 34ms/step\n",
            "1/1 [==============================] - 0s 36ms/step\n",
            "1/1 [==============================] - 0s 32ms/step\n",
            "1/1 [==============================] - 0s 34ms/step\n",
            "hello worl,,.rrrkEEEiitg bberr\n"
          ]
        }
      ]
    },
    {
      "cell_type": "markdown",
      "metadata": {
        "id": "UXhN-xhG7koE"
      },
      "source": [
        "If the results aren't satisfactory, try out the suggestions above or these below:\n",
        "- Padding. Update the example to provides sequences line by line only and use padding to fill out each sequence to the maximum line length.\n",
        "- Sequence Length. Experiment with different sequence lengths and see how they impact the behavior of the model.\n",
        "- Tune Model. Experiment with different model configurations, such as the number of memory cells and epochs, and try to develop a better model for fewer resources.\n"
      ]
    },
    {
      "cell_type": "markdown",
      "metadata": {
        "id": "7kyXdm-f7koF"
      },
      "source": [
        "# Deliverables to receive credit\n",
        "\n",
        "1. (4 points) Optimize the cells above to tune the model so that it generates text that closely resembles the orginal line from the rhyme, or at least generates sensible words. It's okay if the third example using unseen text still looks somewhat strange  though. Again, this is a toy problem, as language models require a lot of computation. This toy problem is great for rapid experimentation to explore different aspects of deep learning language models.\n",
        "2. (3 points) Write a function to split the text corpus file into training and validation and pipe the validation data into the model.fit() function to be able to track validation error per epoch. Lookup Keras documentation to see how this is handled.\n",
        "3. (3 points) Write a summary (methods and results) in the cells below of the different things you applied. You must include your intuitions behind what did work and what did not work well.\n",
        "4. (Extra Credit 2.5 points) Do something even more interesting. Try a different source text. Train a word-level model. We'll leave it up to your creativity to explore and write a summary of your methods and results.\n"
      ]
    },
    {
      "cell_type": "markdown",
      "source": [
        "#Question 3\n",
        "- Firstly, I've experimented with different numbers of memory cells. I tried increasing the given 75 to 85. This seemed to make the model perform better reaching above 90% accuracy starting around cell 67, and reaching 99.48% in cell 100. I tried increasing this number even more to see if it would even better the accuracy, and I realized this wasn't the case. I tried lowering it to 70 and 65, and realized lowering only makes the accuracy worse. So I settled with the 85.\n",
        "- Secondly, I tried changing the activation functions to relu to see if it could make a helpful because no other activation functions made sense to use, and I found out that the default activation function provided, softmas, performed better for the model.\n",
        "- Thirdly, I increased the length of training epochs to 120, and it seemed to me that I was only able to reach maximum accuracy of 99.22%, so I stuck to the given 100.\n",
        "- Fourthly, I tried a different sequence length of 20 and that did not help the model, but I realized when I set it to 11, I was able to achieve a slightly better accuracy, but to run the \"generating text\" portion of the lab, I had to change it back to 10.\n",
        "- I also tried adding Dropout to check for any overfitting, and tried rates of 0.2, 0.1, and 0.4, and all those values made the model perform poorer than before, so I just commented them out.\n",
        "- In the end, the code I ended up with was able to successfully predict the first two given sequences of characters that the mdoel was trained on, but was unable to return something that makes sense for the third sequence of characters."
      ],
      "metadata": {
        "id": "ZkRwShz6nLd8"
      }
    },
    {
      "cell_type": "code",
      "source": [],
      "metadata": {
        "id": "jMYb6lrLudXQ"
      },
      "execution_count": null,
      "outputs": []
    }
  ]
}